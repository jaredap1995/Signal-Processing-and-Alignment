{
 "cells": [
  {
   "cell_type": "code",
   "execution_count": 12,
   "id": "ea4edb7c",
   "metadata": {},
   "outputs": [],
   "source": [
    "import numpy as np\n",
    "import pandas as pd\n",
    "import os\n",
    "import glob\n",
    "import matplotlib.pyplot as plt\n",
    "import pyedflib\n",
    "import mne\n",
    "import neurokit2 as nk2\n",
    "import p_tqdm\n",
    "from scipy.stats import trim_mean\n",
    "from scipy import signal\n",
    "from scipy.optimize import least_squares\n",
    "import statsmodels.api as sm\n",
    "from collections import defaultdict\n",
    "import wfdb\n",
    "from sklearn.preprocessing import PolynomialFeatures\n",
    "from sklearn.linear_model import RANSACRegressor\n",
    "from scipy.interpolate import interp1d\n",
    "import shutil\n",
    "from scipy.signal import savgol_filter\n",
    "import scipy"
   ]
  },
  {
   "cell_type": "code",
   "execution_count": 2,
   "id": "7ee244d9",
   "metadata": {},
   "outputs": [],
   "source": [
    "%store -r signals_list"
   ]
  },
  {
   "cell_type": "code",
   "execution_count": 3,
   "id": "ee62e5a3",
   "metadata": {
    "scrolled": true
   },
   "outputs": [
    {
     "name": "stdout",
     "output_type": "stream",
     "text": [
      "Extracting EDF parameters from /Users/jaredperez/Multiple Physiological Measurements at Different Loads/raw_data/x010_NEXUS.edf...\n",
      "EDF file detected\n",
      "Setting channel info structure...\n",
      "Creating raw.info structure...\n",
      "Extracting EDF parameters from /Users/jaredperez/Multiple Physiological Measurements at Different Loads/raw_data/x001_SOT.edf...\n",
      "EDF file detected\n",
      "Setting channel info structure...\n",
      "Creating raw.info structure...\n",
      "Extracting EDF parameters from /Users/jaredperez/Multiple Physiological Measurements at Different Loads/raw_data/x011_SOT.edf...\n",
      "EDF file detected\n",
      "Setting channel info structure...\n",
      "Creating raw.info structure...\n",
      "Extracting EDF parameters from /Users/jaredperez/Multiple Physiological Measurements at Different Loads/raw_data/x004_NEXUS.edf...\n",
      "EDF file detected\n",
      "Setting channel info structure...\n",
      "Creating raw.info structure...\n",
      "Extracting EDF parameters from /Users/jaredperez/Multiple Physiological Measurements at Different Loads/raw_data/x013_HX.edf...\n",
      "EDF file detected\n",
      "Setting channel info structure...\n",
      "Creating raw.info structure...\n",
      "Extracting EDF parameters from /Users/jaredperez/Multiple Physiological Measurements at Different Loads/raw_data/x003_FAROS.edf...\n",
      "EDF file detected\n",
      "Setting channel info structure...\n",
      "Creating raw.info structure...\n",
      "Extracting EDF parameters from /Users/jaredperez/Multiple Physiological Measurements at Different Loads/raw_data/x009_NEXUS.edf...\n",
      "EDF file detected\n",
      "Setting channel info structure...\n",
      "Creating raw.info structure...\n",
      "Extracting EDF parameters from /Users/jaredperez/Multiple Physiological Measurements at Different Loads/raw_data/x001_HX.edf...\n",
      "EDF file detected\n",
      "Setting channel info structure...\n",
      "Creating raw.info structure...\n",
      "Extracting EDF parameters from /Users/jaredperez/Multiple Physiological Measurements at Different Loads/raw_data/x008_SOT.edf...\n",
      "EDF file detected\n",
      "Setting channel info structure...\n",
      "Creating raw.info structure...\n",
      "Extracting EDF parameters from /Users/jaredperez/Multiple Physiological Measurements at Different Loads/raw_data/x003_HX.edf...\n",
      "EDF file detected\n",
      "Setting channel info structure...\n",
      "Creating raw.info structure...\n",
      "Extracting EDF parameters from /Users/jaredperez/Multiple Physiological Measurements at Different Loads/raw_data/x009_SOT.edf...\n",
      "EDF file detected\n",
      "Setting channel info structure...\n",
      "Creating raw.info structure...\n",
      "Extracting EDF parameters from /Users/jaredperez/Multiple Physiological Measurements at Different Loads/raw_data/x011_HX.edf...\n",
      "EDF file detected\n",
      "Setting channel info structure...\n",
      "Creating raw.info structure...\n",
      "Extracting EDF parameters from /Users/jaredperez/Multiple Physiological Measurements at Different Loads/raw_data/x002_NEXUS.edf...\n",
      "EDF file detected\n",
      "Setting channel info structure...\n",
      "Creating raw.info structure...\n",
      "Extracting EDF parameters from /Users/jaredperez/Multiple Physiological Measurements at Different Loads/raw_data/x008_FAROS.edf...\n",
      "EDF file detected\n",
      "Setting channel info structure...\n",
      "Creating raw.info structure...\n",
      "Extracting EDF parameters from /Users/jaredperez/Multiple Physiological Measurements at Different Loads/raw_data/x010_SOT.edf...\n",
      "EDF file detected\n",
      "Setting channel info structure...\n",
      "Creating raw.info structure...\n",
      "Extracting EDF parameters from /Users/jaredperez/Multiple Physiological Measurements at Different Loads/raw_data/x011_FAROS.edf...\n",
      "EDF file detected\n",
      "Setting channel info structure...\n",
      "Creating raw.info structure...\n",
      "Extracting EDF parameters from /Users/jaredperez/Multiple Physiological Measurements at Different Loads/raw_data/x005_FAROS.edf...\n",
      "EDF file detected\n",
      "Setting channel info structure...\n",
      "Creating raw.info structure...\n",
      "Extracting EDF parameters from /Users/jaredperez/Multiple Physiological Measurements at Different Loads/raw_data/x005_NEXUS.edf...\n",
      "EDF file detected\n",
      "Setting channel info structure...\n",
      "Creating raw.info structure...\n",
      "Extracting EDF parameters from /Users/jaredperez/Multiple Physiological Measurements at Different Loads/raw_data/x011_NEXUS.edf...\n",
      "EDF file detected\n",
      "Setting channel info structure...\n",
      "Creating raw.info structure...\n",
      "Extracting EDF parameters from /Users/jaredperez/Multiple Physiological Measurements at Different Loads/raw_data/x007_HX.edf...\n",
      "EDF file detected\n",
      "Setting channel info structure...\n",
      "Creating raw.info structure...\n",
      "Extracting EDF parameters from /Users/jaredperez/Multiple Physiological Measurements at Different Loads/raw_data/x002_FAROS.edf...\n",
      "EDF file detected\n",
      "Setting channel info structure...\n",
      "Creating raw.info structure...\n",
      "Extracting EDF parameters from /Users/jaredperez/Multiple Physiological Measurements at Different Loads/raw_data/x008_NEXUS.edf...\n",
      "EDF file detected\n",
      "Setting channel info structure...\n",
      "Creating raw.info structure...\n",
      "Extracting EDF parameters from /Users/jaredperez/Multiple Physiological Measurements at Different Loads/raw_data/x002_SOT.edf...\n",
      "EDF file detected\n",
      "Setting channel info structure...\n",
      "Creating raw.info structure...\n",
      "Extracting EDF parameters from /Users/jaredperez/Multiple Physiological Measurements at Different Loads/raw_data/x012_SOT.edf...\n",
      "EDF file detected\n",
      "Setting channel info structure...\n",
      "Creating raw.info structure...\n",
      "Extracting EDF parameters from /Users/jaredperez/Multiple Physiological Measurements at Different Loads/raw_data/x013_SOT.edf...\n",
      "EDF file detected\n",
      "Setting channel info structure...\n",
      "Creating raw.info structure...\n",
      "Extracting EDF parameters from /Users/jaredperez/Multiple Physiological Measurements at Different Loads/raw_data/x003_SOT.edf...\n",
      "EDF file detected\n",
      "Setting channel info structure...\n",
      "Creating raw.info structure...\n",
      "Extracting EDF parameters from /Users/jaredperez/Multiple Physiological Measurements at Different Loads/raw_data/x003_NEXUS.edf...\n",
      "EDF file detected\n",
      "Setting channel info structure...\n",
      "Creating raw.info structure...\n",
      "Extracting EDF parameters from /Users/jaredperez/Multiple Physiological Measurements at Different Loads/raw_data/x009_FAROS.edf...\n",
      "EDF file detected\n",
      "Setting channel info structure...\n",
      "Creating raw.info structure...\n",
      "Extracting EDF parameters from /Users/jaredperez/Multiple Physiological Measurements at Different Loads/raw_data/x005_HX.edf...\n",
      "EDF file detected\n",
      "Setting channel info structure...\n",
      "Creating raw.info structure...\n",
      "Extracting EDF parameters from /Users/jaredperez/Multiple Physiological Measurements at Different Loads/raw_data/x004_FAROS.edf...\n",
      "EDF file detected\n",
      "Setting channel info structure...\n",
      "Creating raw.info structure...\n",
      "Extracting EDF parameters from /Users/jaredperez/Multiple Physiological Measurements at Different Loads/raw_data/x010_FAROS.edf...\n",
      "EDF file detected\n",
      "Setting channel info structure...\n",
      "Creating raw.info structure...\n",
      "Extracting EDF parameters from /Users/jaredperez/Multiple Physiological Measurements at Different Loads/raw_data/x009_HX.edf...\n",
      "EDF file detected\n",
      "Setting channel info structure...\n",
      "Creating raw.info structure...\n",
      "Extracting EDF parameters from /Users/jaredperez/Multiple Physiological Measurements at Different Loads/raw_data/x012_HX.edf...\n",
      "EDF file detected\n",
      "Setting channel info structure...\n",
      "Creating raw.info structure...\n",
      "Extracting EDF parameters from /Users/jaredperez/Multiple Physiological Measurements at Different Loads/raw_data/x012_NEXUS.edf...\n",
      "EDF file detected\n",
      "Setting channel info structure...\n",
      "Creating raw.info structure...\n",
      "Extracting EDF parameters from /Users/jaredperez/Multiple Physiological Measurements at Different Loads/raw_data/x006_NEXUS.edf...\n",
      "EDF file detected\n",
      "Setting channel info structure...\n",
      "Creating raw.info structure...\n",
      "Extracting EDF parameters from /Users/jaredperez/Multiple Physiological Measurements at Different Loads/raw_data/x001_FAROS.edf...\n",
      "EDF file detected\n",
      "Setting channel info structure...\n",
      "Creating raw.info structure...\n",
      "Extracting EDF parameters from /Users/jaredperez/Multiple Physiological Measurements at Different Loads/raw_data/x006_SOT.edf...\n",
      "EDF file detected\n",
      "Setting channel info structure...\n",
      "Creating raw.info structure...\n",
      "Extracting EDF parameters from /Users/jaredperez/Multiple Physiological Measurements at Different Loads/raw_data/x007_SOT.edf...\n",
      "EDF file detected\n",
      "Setting channel info structure...\n",
      "Creating raw.info structure...\n",
      "Extracting EDF parameters from /Users/jaredperez/Multiple Physiological Measurements at Different Loads/raw_data/x013_FAROS.edf...\n"
     ]
    },
    {
     "name": "stdout",
     "output_type": "stream",
     "text": [
      "EDF file detected\n",
      "Setting channel info structure...\n",
      "Creating raw.info structure...\n",
      "Extracting EDF parameters from /Users/jaredperez/Multiple Physiological Measurements at Different Loads/raw_data/x007_FAROS.edf...\n",
      "EDF file detected\n",
      "Setting channel info structure...\n",
      "Creating raw.info structure...\n",
      "Extracting EDF parameters from /Users/jaredperez/Multiple Physiological Measurements at Different Loads/raw_data/x002_HX.edf...\n",
      "EDF file detected\n",
      "Setting channel info structure...\n",
      "Creating raw.info structure...\n",
      "Extracting EDF parameters from /Users/jaredperez/Multiple Physiological Measurements at Different Loads/raw_data/x010_HX.edf...\n",
      "EDF file detected\n",
      "Setting channel info structure...\n",
      "Creating raw.info structure...\n",
      "Extracting EDF parameters from /Users/jaredperez/Multiple Physiological Measurements at Different Loads/raw_data/x005_SOT.edf...\n",
      "EDF file detected\n",
      "Setting channel info structure...\n",
      "Creating raw.info structure...\n",
      "Extracting EDF parameters from /Users/jaredperez/Multiple Physiological Measurements at Different Loads/raw_data/x007_NEXUS.edf...\n",
      "EDF file detected\n",
      "Setting channel info structure...\n",
      "Creating raw.info structure...\n",
      "Extracting EDF parameters from /Users/jaredperez/Multiple Physiological Measurements at Different Loads/raw_data/x013_NEXUS.edf...\n",
      "EDF file detected\n",
      "Setting channel info structure...\n",
      "Creating raw.info structure...\n",
      "Extracting EDF parameters from /Users/jaredperez/Multiple Physiological Measurements at Different Loads/raw_data/x006_HX.edf...\n",
      "EDF file detected\n",
      "Setting channel info structure...\n",
      "Creating raw.info structure...\n",
      "Extracting EDF parameters from /Users/jaredperez/Multiple Physiological Measurements at Different Loads/raw_data/x001_NEXUS.edf...\n",
      "EDF file detected\n",
      "Setting channel info structure...\n",
      "Creating raw.info structure...\n",
      "Extracting EDF parameters from /Users/jaredperez/Multiple Physiological Measurements at Different Loads/raw_data/x004_HX.edf...\n",
      "EDF file detected\n",
      "Setting channel info structure...\n",
      "Creating raw.info structure...\n",
      "Extracting EDF parameters from /Users/jaredperez/Multiple Physiological Measurements at Different Loads/raw_data/x008_HX.edf...\n",
      "EDF file detected\n",
      "Setting channel info structure...\n",
      "Creating raw.info structure...\n",
      "Extracting EDF parameters from /Users/jaredperez/Multiple Physiological Measurements at Different Loads/raw_data/x006_FAROS.edf...\n",
      "EDF file detected\n",
      "Setting channel info structure...\n",
      "Creating raw.info structure...\n",
      "Extracting EDF parameters from /Users/jaredperez/Multiple Physiological Measurements at Different Loads/raw_data/x012_FAROS.edf...\n",
      "EDF file detected\n",
      "Setting channel info structure...\n",
      "Creating raw.info structure...\n",
      "Extracting EDF parameters from /Users/jaredperez/Multiple Physiological Measurements at Different Loads/raw_data/x004_SOT.edf...\n",
      "EDF file detected\n",
      "Setting channel info structure...\n",
      "Creating raw.info structure...\n"
     ]
    }
   ],
   "source": [
    "dfs = defaultdict(lambda: defaultdict(pd.DataFrame))\n",
    "\n",
    "for files in glob.glob('/Users/jaredperez/Multiple Physiological Measurements at Different Loads/raw_data/*'):\n",
    "    key = os.path.splitext(os.path.basename(files))[1]\n",
    "    base_name = os.path.splitext(os.path.basename(files))[0]\n",
    "    sensor = base_name.split('_')[-1]\n",
    "    if key == '.edf':\n",
    "        file = mne.io.read_raw_edf(files)\n",
    "        file = file.to_data_frame()\n",
    "    else:\n",
    "        file = pd.read_csv(files, on_bad_lines='skip', names=['R-R Interval (ms)'])\n",
    "    dfs[sensor][base_name] = file"
   ]
  },
  {
   "cell_type": "code",
   "execution_count": 4,
   "id": "5d313942",
   "metadata": {},
   "outputs": [],
   "source": [
    "dfs_test=[]\n",
    "for key1 in dfs:\n",
    "    for key2 in dfs[key1]:\n",
    "        if \"FAROS\" in key2:\n",
    "            df=dfs[key1][key2]\n",
    "            dfs_test.append(df)"
   ]
  },
  {
   "cell_type": "code",
   "execution_count": 689,
   "id": "28f4bfe8",
   "metadata": {},
   "outputs": [],
   "source": [
    "accel_test=dfs_test[3][['Accelerometer_X', 'Accelerometer_Y', 'Accelerometer_Z']]\n",
    "\n",
    "b,a =signal.butter(3,(3,60), btype='bandpass', fs=1000)\n",
    "\n",
    "filtered_accels=[]\n",
    "for i in accel_test:\n",
    "    filtered_accel=signal.filtfilt(b, a, accel_test[i])\n",
    "    filtered_accels.append(filtered_accel)\n",
    "    \n",
    "filtered_accels=pd.concat([pd.Series(i) for i in filtered_accels], axis=1)\n",
    "\n",
    "#Decreasing the scale of the data so it is easier to establish minimum height of Amplitude\n",
    "\n",
    "standard_accels=filtered_accels/100000 \n",
    "\n",
    "standard_accels['time']=dfs_test[3]['time']\n",
    "filtered_accels['time']=dfs_test[3]['time']"
   ]
  },
  {
   "cell_type": "code",
   "execution_count": 690,
   "id": "6ab8041d",
   "metadata": {},
   "outputs": [
    {
     "data": {
      "text/html": [
       "<div>\n",
       "<style scoped>\n",
       "    .dataframe tbody tr th:only-of-type {\n",
       "        vertical-align: middle;\n",
       "    }\n",
       "\n",
       "    .dataframe tbody tr th {\n",
       "        vertical-align: top;\n",
       "    }\n",
       "\n",
       "    .dataframe thead th {\n",
       "        text-align: right;\n",
       "    }\n",
       "</style>\n",
       "<table border=\"1\" class=\"dataframe\">\n",
       "  <thead>\n",
       "    <tr style=\"text-align: right;\">\n",
       "      <th></th>\n",
       "      <th>0</th>\n",
       "      <th>1</th>\n",
       "      <th>2</th>\n",
       "      <th>time</th>\n",
       "    </tr>\n",
       "  </thead>\n",
       "  <tbody>\n",
       "    <tr>\n",
       "      <th>0</th>\n",
       "      <td>-15.875058</td>\n",
       "      <td>5.610249</td>\n",
       "      <td>-10.823451</td>\n",
       "      <td>0.000</td>\n",
       "    </tr>\n",
       "    <tr>\n",
       "      <th>1</th>\n",
       "      <td>11.124153</td>\n",
       "      <td>3.252152</td>\n",
       "      <td>-49.130207</td>\n",
       "      <td>0.001</td>\n",
       "    </tr>\n",
       "    <tr>\n",
       "      <th>2</th>\n",
       "      <td>36.086137</td>\n",
       "      <td>0.516014</td>\n",
       "      <td>-88.965033</td>\n",
       "      <td>0.002</td>\n",
       "    </tr>\n",
       "    <tr>\n",
       "      <th>3</th>\n",
       "      <td>57.146135</td>\n",
       "      <td>-2.958940</td>\n",
       "      <td>-131.546640</td>\n",
       "      <td>0.003</td>\n",
       "    </tr>\n",
       "    <tr>\n",
       "      <th>4</th>\n",
       "      <td>72.795955</td>\n",
       "      <td>-7.440071</td>\n",
       "      <td>-177.410479</td>\n",
       "      <td>0.004</td>\n",
       "    </tr>\n",
       "    <tr>\n",
       "      <th>...</th>\n",
       "      <td>...</td>\n",
       "      <td>...</td>\n",
       "      <td>...</td>\n",
       "      <td>...</td>\n",
       "    </tr>\n",
       "    <tr>\n",
       "      <th>2629995</th>\n",
       "      <td>-817.949261</td>\n",
       "      <td>-992.379316</td>\n",
       "      <td>-649.882717</td>\n",
       "      <td>2629.995</td>\n",
       "    </tr>\n",
       "    <tr>\n",
       "      <th>2629996</th>\n",
       "      <td>-708.025610</td>\n",
       "      <td>-880.057259</td>\n",
       "      <td>-557.093225</td>\n",
       "      <td>2629.996</td>\n",
       "    </tr>\n",
       "    <tr>\n",
       "      <th>2629997</th>\n",
       "      <td>-585.009686</td>\n",
       "      <td>-765.645306</td>\n",
       "      <td>-460.212966</td>\n",
       "      <td>2629.997</td>\n",
       "    </tr>\n",
       "    <tr>\n",
       "      <th>2629998</th>\n",
       "      <td>-453.176452</td>\n",
       "      <td>-650.795234</td>\n",
       "      <td>-361.309702</td>\n",
       "      <td>2629.998</td>\n",
       "    </tr>\n",
       "    <tr>\n",
       "      <th>2629999</th>\n",
       "      <td>-317.462600</td>\n",
       "      <td>-536.717460</td>\n",
       "      <td>-262.288287</td>\n",
       "      <td>2629.999</td>\n",
       "    </tr>\n",
       "  </tbody>\n",
       "</table>\n",
       "<p>2630000 rows × 4 columns</p>\n",
       "</div>"
      ],
      "text/plain": [
       "                  0           1           2      time\n",
       "0        -15.875058    5.610249  -10.823451     0.000\n",
       "1         11.124153    3.252152  -49.130207     0.001\n",
       "2         36.086137    0.516014  -88.965033     0.002\n",
       "3         57.146135   -2.958940 -131.546640     0.003\n",
       "4         72.795955   -7.440071 -177.410479     0.004\n",
       "...             ...         ...         ...       ...\n",
       "2629995 -817.949261 -992.379316 -649.882717  2629.995\n",
       "2629996 -708.025610 -880.057259 -557.093225  2629.996\n",
       "2629997 -585.009686 -765.645306 -460.212966  2629.997\n",
       "2629998 -453.176452 -650.795234 -361.309702  2629.998\n",
       "2629999 -317.462600 -536.717460 -262.288287  2629.999\n",
       "\n",
       "[2630000 rows x 4 columns]"
      ]
     },
     "execution_count": 690,
     "metadata": {},
     "output_type": "execute_result"
    }
   ],
   "source": [
    "standard_accels"
   ]
  },
  {
   "cell_type": "markdown",
   "id": "94a5b8ff",
   "metadata": {},
   "source": [
    "Zoom in on a segment of the visible walking data to establish a height threshold for the data"
   ]
  },
  {
   "cell_type": "code",
   "execution_count": 691,
   "id": "c6c6c861",
   "metadata": {},
   "outputs": [
    {
     "data": {
      "text/plain": [
       "[<matplotlib.lines.Line2D at 0x330643580>]"
      ]
     },
     "execution_count": 691,
     "metadata": {},
     "output_type": "execute_result"
    },
    {
     "data": {
      "image/png": "[encoded data removed]",
      "text/plain": [
       "<Figure size 640x480 with 1 Axes>"
      ]
     },
     "metadata": {},
     "output_type": "display_data"
    }
   ],
   "source": [
    "#I tried it on the whole df above and then am trying it again after cutting out same data at the end to see if it\n",
    "#improves cadence calculations\n",
    "\n",
    "test=standard_accels[:2400000]\n",
    "plt.plot(standard_accels[1][:2400000])"
   ]
  },
  {
   "cell_type": "code",
   "execution_count": 653,
   "id": "821f853f",
   "metadata": {},
   "outputs": [],
   "source": [
    "whole_signal_peaks, whole_signal_heights=scipy.signal.find_peaks(test[1], height=(1000,2000), threshold=.62)\n",
    "\n",
    "whole_signal_peaks=pd.Series(whole_signal_peaks)/1000"
   ]
  },
  {
   "cell_type": "markdown",
   "id": "68f7c7e8",
   "metadata": {},
   "source": [
    "# Attempting a sliding window approach because the difference approach to get the segment was not wokring (not shown)"
   ]
  },
  {
   "cell_type": "code",
   "execution_count": 654,
   "id": "0b40041b",
   "metadata": {},
   "outputs": [
    {
     "data": {
      "text/plain": [
       "0        13.123\n",
       "1        13.602\n",
       "2        14.482\n",
       "3        14.505\n",
       "4        15.631\n",
       "         ...   \n",
       "812    2386.761\n",
       "813    2388.706\n",
       "814    2389.768\n",
       "815    2390.737\n",
       "816    2394.398\n",
       "Length: 817, dtype: float64"
      ]
     },
     "execution_count": 654,
     "metadata": {},
     "output_type": "execute_result"
    }
   ],
   "source": [
    "whole_signal_peaks"
   ]
  },
  {
   "cell_type": "code",
   "execution_count": 163,
   "id": "c176221e",
   "metadata": {},
   "outputs": [
    {
     "data": {
      "text/plain": [
       "0            5.610249\n",
       "1            3.252152\n",
       "2            0.516014\n",
       "3           -2.958940\n",
       "4           -7.440071\n",
       "              ...    \n",
       "2629995   -992.379316\n",
       "2629996   -880.057259\n",
       "2629997   -765.645306\n",
       "2629998   -650.795234\n",
       "2629999   -536.717460\n",
       "Name: 1, Length: 2630000, dtype: float64"
      ]
     },
     "execution_count": 163,
     "metadata": {},
     "output_type": "execute_result"
    }
   ],
   "source": [
    "standard_accels[1]"
   ]
  },
  {
   "cell_type": "code",
   "execution_count": 216,
   "id": "e97d0878",
   "metadata": {},
   "outputs": [],
   "source": [
    "window=whole_signal_peaks[:75]"
   ]
  },
  {
   "cell_type": "code",
   "execution_count": 217,
   "id": "0e94d1ba",
   "metadata": {},
   "outputs": [],
   "source": [
    "threshold_test_2=window.diff().sum()"
   ]
  },
  {
   "cell_type": "code",
   "execution_count": 218,
   "id": "4d2db1ac",
   "metadata": {},
   "outputs": [
    {
     "data": {
      "text/plain": [
       "952.476"
      ]
     },
     "execution_count": 218,
     "metadata": {},
     "output_type": "execute_result"
    }
   ],
   "source": [
    "threshold_test_2"
   ]
  },
  {
   "cell_type": "code",
   "execution_count": 205,
   "id": "dd878d3b",
   "metadata": {},
   "outputs": [],
   "source": [
    "threshold=1.5*len(window)+10"
   ]
  },
  {
   "cell_type": "code",
   "execution_count": 215,
   "id": "ed883d69",
   "metadata": {},
   "outputs": [
    {
     "data": {
      "text/plain": [
       "85.0"
      ]
     },
     "execution_count": 215,
     "metadata": {},
     "output_type": "execute_result"
    }
   ],
   "source": [
    "threshold"
   ]
  },
  {
   "cell_type": "code",
   "execution_count": 212,
   "id": "e518031a",
   "metadata": {},
   "outputs": [],
   "source": [
    "threshold_test=whole_signal_peaks[70:150].diff().sum()"
   ]
  },
  {
   "cell_type": "code",
   "execution_count": 213,
   "id": "9c81c213",
   "metadata": {},
   "outputs": [
    {
     "data": {
      "text/plain": [
       "585.352"
      ]
     },
     "execution_count": 213,
     "metadata": {},
     "output_type": "execute_result"
    }
   ],
   "source": [
    "threshold_test"
   ]
  },
  {
   "cell_type": "code",
   "execution_count": 214,
   "id": "267eec63",
   "metadata": {},
   "outputs": [
    {
     "data": {
      "text/plain": [
       "70      457.473\n",
       "71      457.679\n",
       "72      460.614\n",
       "73      961.904\n",
       "74      965.599\n",
       "         ...   \n",
       "145    1040.257\n",
       "146    1040.709\n",
       "147    1041.335\n",
       "148    1042.356\n",
       "149    1042.825\n",
       "Length: 80, dtype: float64"
      ]
     },
     "execution_count": 214,
     "metadata": {},
     "output_type": "execute_result"
    }
   ],
   "source": [
    "whole_signal_peaks[70:150]"
   ]
  },
  {
   "cell_type": "code",
   "execution_count": 228,
   "id": "dd5d5be8",
   "metadata": {},
   "outputs": [],
   "source": [
    "threshold_test_3=whole_peak_times[:50].diff().sum()\n",
    "threshold_test_4=whole_peak_times[100:150].diff().sum()"
   ]
  },
  {
   "cell_type": "code",
   "execution_count": 229,
   "id": "0d1e5c7b",
   "metadata": {},
   "outputs": [
    {
     "data": {
      "text/plain": [
       "101.28500000000001"
      ]
     },
     "execution_count": 229,
     "metadata": {},
     "output_type": "execute_result"
    }
   ],
   "source": [
    "threshold_test_3"
   ]
  },
  {
   "cell_type": "code",
   "execution_count": 230,
   "id": "c926790e",
   "metadata": {},
   "outputs": [
    {
     "data": {
      "text/plain": [
       "32.40100000000007"
      ]
     },
     "execution_count": 230,
     "metadata": {},
     "output_type": "execute_result"
    }
   ],
   "source": [
    "threshold_test_4"
   ]
  },
  {
   "cell_type": "code",
   "execution_count": 505,
   "id": "4ccc662b",
   "metadata": {},
   "outputs": [],
   "source": [
    "def process_peak_times(series_of_peak_times, window_size, threshold=1.5*len(window)+10):\n",
    "    times=[]\n",
    "    for i in range(0, len(series_of_peak_times), window_size):\n",
    "        if series_of_peak_times[i:i+window_size].diff().sum() > threshold:\n",
    "            pass\n",
    "        else:\n",
    "            times.append(series_of_peak_times[i:i+window_size])\n",
    "    return times"
   ]
  },
  {
   "cell_type": "code",
   "execution_count": 655,
   "id": "0af80fa7",
   "metadata": {},
   "outputs": [],
   "source": [
    "result=process_peak_times(whole_signal_peaks, 75)\n",
    "\n",
    "result=pd.concat(result, axis=0)\n",
    "\n",
    "result=result.reset_index()\n",
    "result['diff']=result[0].diff()"
   ]
  },
  {
   "cell_type": "code",
   "execution_count": 656,
   "id": "c4e93c8c",
   "metadata": {},
   "outputs": [
    {
     "data": {
      "text/html": [
       "<div>\n",
       "<style scoped>\n",
       "    .dataframe tbody tr th:only-of-type {\n",
       "        vertical-align: middle;\n",
       "    }\n",
       "\n",
       "    .dataframe tbody tr th {\n",
       "        vertical-align: top;\n",
       "    }\n",
       "\n",
       "    .dataframe thead th {\n",
       "        text-align: right;\n",
       "    }\n",
       "</style>\n",
       "<table border=\"1\" class=\"dataframe\">\n",
       "  <thead>\n",
       "    <tr style=\"text-align: right;\">\n",
       "      <th></th>\n",
       "      <th>index</th>\n",
       "      <th>0</th>\n",
       "      <th>diff</th>\n",
       "    </tr>\n",
       "  </thead>\n",
       "  <tbody>\n",
       "    <tr>\n",
       "      <th>0</th>\n",
       "      <td>75</td>\n",
       "      <td>967.039</td>\n",
       "      <td>NaN</td>\n",
       "    </tr>\n",
       "    <tr>\n",
       "      <th>1</th>\n",
       "      <td>76</td>\n",
       "      <td>969.671</td>\n",
       "      <td>2.632</td>\n",
       "    </tr>\n",
       "    <tr>\n",
       "      <th>2</th>\n",
       "      <td>77</td>\n",
       "      <td>970.685</td>\n",
       "      <td>1.014</td>\n",
       "    </tr>\n",
       "    <tr>\n",
       "      <th>3</th>\n",
       "      <td>78</td>\n",
       "      <td>972.819</td>\n",
       "      <td>2.134</td>\n",
       "    </tr>\n",
       "    <tr>\n",
       "      <th>4</th>\n",
       "      <td>79</td>\n",
       "      <td>973.845</td>\n",
       "      <td>1.026</td>\n",
       "    </tr>\n",
       "    <tr>\n",
       "      <th>...</th>\n",
       "      <td>...</td>\n",
       "      <td>...</td>\n",
       "      <td>...</td>\n",
       "    </tr>\n",
       "    <tr>\n",
       "      <th>662</th>\n",
       "      <td>812</td>\n",
       "      <td>2386.761</td>\n",
       "      <td>1.253</td>\n",
       "    </tr>\n",
       "    <tr>\n",
       "      <th>663</th>\n",
       "      <td>813</td>\n",
       "      <td>2388.706</td>\n",
       "      <td>1.945</td>\n",
       "    </tr>\n",
       "    <tr>\n",
       "      <th>664</th>\n",
       "      <td>814</td>\n",
       "      <td>2389.768</td>\n",
       "      <td>1.062</td>\n",
       "    </tr>\n",
       "    <tr>\n",
       "      <th>665</th>\n",
       "      <td>815</td>\n",
       "      <td>2390.737</td>\n",
       "      <td>0.969</td>\n",
       "    </tr>\n",
       "    <tr>\n",
       "      <th>666</th>\n",
       "      <td>816</td>\n",
       "      <td>2394.398</td>\n",
       "      <td>3.661</td>\n",
       "    </tr>\n",
       "  </tbody>\n",
       "</table>\n",
       "<p>667 rows × 3 columns</p>\n",
       "</div>"
      ],
      "text/plain": [
       "     index         0   diff\n",
       "0       75   967.039    NaN\n",
       "1       76   969.671  2.632\n",
       "2       77   970.685  1.014\n",
       "3       78   972.819  2.134\n",
       "4       79   973.845  1.026\n",
       "..     ...       ...    ...\n",
       "662    812  2386.761  1.253\n",
       "663    813  2388.706  1.945\n",
       "664    814  2389.768  1.062\n",
       "665    815  2390.737  0.969\n",
       "666    816  2394.398  3.661\n",
       "\n",
       "[667 rows x 3 columns]"
      ]
     },
     "execution_count": 656,
     "metadata": {},
     "output_type": "execute_result"
    }
   ],
   "source": [
    "result"
   ]
  },
  {
   "cell_type": "code",
   "execution_count": 657,
   "id": "b74ee182",
   "metadata": {},
   "outputs": [
    {
     "name": "stderr",
     "output_type": "stream",
     "text": [
      "/var/folders/wv/c3g7vgxd10n0mdl2_flcjj480000gn/T/ipykernel_24287/3305336973.py:6: FutureWarning: The frame.append method is deprecated and will be removed from pandas in a future version. Use pandas.concat instead.\n",
      "  activity_segment_times=activity_segment_times.append(result.iloc[added_value])\n",
      "/var/folders/wv/c3g7vgxd10n0mdl2_flcjj480000gn/T/ipykernel_24287/3305336973.py:7: FutureWarning: The frame.append method is deprecated and will be removed from pandas in a future version. Use pandas.concat instead.\n",
      "  activity_segment_times=activity_segment_times.append(result.iloc[0])\n"
     ]
    }
   ],
   "source": [
    "activity_segment_times=result[result['diff']>50]\n",
    "\n",
    "#Add the index of the value preceding the change in difference\n",
    "added_value=activity_segment_times.index[0]-1\n",
    "\n",
    "activity_segment_times=activity_segment_times.append(result.iloc[added_value])\n",
    "activity_segment_times=activity_segment_times.append(result.iloc[0])"
   ]
  },
  {
   "cell_type": "code",
   "execution_count": 658,
   "id": "ec0bb3c9",
   "metadata": {},
   "outputs": [],
   "source": [
    "activity_segment_times=activity_segment_times[0]\n",
    "activity_segment_times=activity_segment_times.sort_values()\n",
    "\n",
    "activity_segment_times=list(activity_segment_times)\n",
    "activity_segment_times=[int(i) for i in activity_segment_times]\n",
    "activity_segment_times.append(0)\n",
    "activity_segment_times.sort()"
   ]
  },
  {
   "cell_type": "code",
   "execution_count": 659,
   "id": "a05c0a03",
   "metadata": {},
   "outputs": [
    {
     "data": {
      "text/plain": [
       "[0, 967, 1223, 2090]"
      ]
     },
     "execution_count": 659,
     "metadata": {},
     "output_type": "execute_result"
    }
   ],
   "source": [
    "activity_segment_times"
   ]
  },
  {
   "cell_type": "code",
   "execution_count": 660,
   "id": "3cda1a1c",
   "metadata": {},
   "outputs": [],
   "source": [
    "def audit_activity_segment_times(time_segments, peaks):\n",
    "    if len(time_segments) < 5:\n",
    "        time_segments.append(0) if 0 not in time_segments else None\n",
    "        if not time_segments or abs(time_segments[-1] - peaks[0].to_numpy()[-1]) > 250:\n",
    "            time_segments.append(int(peaks[0].to_numpy()[-1]))\n",
    "    if len(time_segments)==5:\n",
    "        pass\n",
    "    if len(time_segments)>5:\n",
    "        raise ValueError(f\"More than 5 time indexes detected. Check data. Time Indexes currently: {time_segments}\")\n",
    "    if len(time_segments) != 5:\n",
    "            raise ValueError(f'time_segments missing values. Len must be equal to 5. List is currently: {time_segments}')\n",
    "            \n",
    "    return time_segments"
   ]
  },
  {
   "cell_type": "code",
   "execution_count": 663,
   "id": "bfa9488b",
   "metadata": {},
   "outputs": [
    {
     "data": {
      "text/plain": [
       "[0, 967, 1223, 2090, 2394]"
      ]
     },
     "execution_count": 663,
     "metadata": {},
     "output_type": "execute_result"
    }
   ],
   "source": [
    "activity_segment_times"
   ]
  },
  {
   "cell_type": "code",
   "execution_count": 662,
   "id": "7dc5b65f",
   "metadata": {},
   "outputs": [],
   "source": [
    "activity_segment_times=audit_activity_segment_times(activity_segment_times, result)"
   ]
  },
  {
   "cell_type": "markdown",
   "id": "fdb50c12",
   "metadata": {},
   "source": [
    "# Right here I need a logic audit of the activity segments...\n",
    "\n",
    "Essentially it needs to do a few things:\n",
    "1) audit to check that there are 5 values in the list...\n",
    "2) check that they are spaced out by at least a certain value....\n",
    "3) If they aren't spaced out, return an error to check teh data for further filtering\n",
    "4) If there arent 5 values, check if a start or end value needs to be added..easy fix and append it...if a middle value needs to be appended...cycle back through the data and change some of the parameters to adjust"
   ]
  },
  {
   "cell_type": "code",
   "execution_count": 583,
   "id": "720166e2",
   "metadata": {},
   "outputs": [],
   "source": [
    "segments=pd.cut(filtered_accels['time'], activity_segment_times)"
   ]
  },
  {
   "cell_type": "code",
   "execution_count": 584,
   "id": "dbe099dc",
   "metadata": {},
   "outputs": [],
   "source": [
    "activity_segments=[filtered_accels[segments == category] for category in segments.cat.categories]"
   ]
  },
  {
   "cell_type": "code",
   "execution_count": 585,
   "id": "dc0e1a3f",
   "metadata": {},
   "outputs": [
    {
     "data": {
      "text/plain": [
       "[                   0             1             2     time\n",
       " 1       1.112415e+06  3.252152e+05 -4.913021e+06    0.001\n",
       " 2       3.608614e+06  5.160141e+04 -8.896503e+06    0.002\n",
       " 3       5.714614e+06 -2.958940e+05 -1.315466e+07    0.003\n",
       " 4       7.279596e+06 -7.440071e+05 -1.774105e+07    0.004\n",
       " 5       8.200637e+06 -1.306914e+06 -2.262101e+07    0.005\n",
       " ...              ...           ...           ...      ...\n",
       " 966996 -5.769793e+07  1.792709e+07  4.327944e+07  966.996\n",
       " 966997 -5.643308e+07  2.163784e+07  4.263868e+07  966.997\n",
       " 966998 -5.251055e+07  1.968662e+07  3.802998e+07  966.998\n",
       " 966999 -4.620579e+07  1.269853e+07  2.995396e+07  966.999\n",
       " 967000 -3.810268e+07  1.920662e+06  1.935054e+07  967.000\n",
       " \n",
       " [967000 rows x 4 columns],\n",
       "                     0             1             2      time\n",
       " 967001  -2.900113e+07 -1.099000e+07  7.438869e+06   967.001\n",
       " 967002  -1.977573e+07 -2.426455e+07 -4.503319e+06   967.002\n",
       " 967003  -1.123015e+07 -3.630674e+07 -1.534633e+07   967.003\n",
       " 967004  -3.986204e+06 -4.588929e+07 -2.424580e+07   967.004\n",
       " 967005   1.578306e+06 -5.224446e+07 -3.070002e+07   967.005\n",
       " ...               ...           ...           ...       ...\n",
       " 1222996  5.800114e+07 -3.966283e+07 -9.596615e+06  1222.996\n",
       " 1222997  6.285321e+07 -4.220910e+07 -1.153478e+07  1222.997\n",
       " 1222998  6.528789e+07 -4.360624e+07 -1.350412e+07  1222.998\n",
       " 1222999  6.539738e+07 -4.402576e+07 -1.545033e+07  1222.999\n",
       " 1223000  6.348078e+07 -4.376784e+07 -1.727552e+07  1223.000\n",
       " \n",
       " [256000 rows x 4 columns],\n",
       "                     0             1             2      time\n",
       " 1223001  5.995321e+07 -4.320754e+07 -1.884362e+07  1223.001\n",
       " 1223002  5.523351e+07 -4.272535e+07 -1.999761e+07  1223.002\n",
       " 1223003  4.966088e+07 -4.264573e+07 -2.058521e+07  1223.003\n",
       " 1223004  4.346753e+07 -4.319980e+07 -2.048649e+07  1223.004\n",
       " 1223005  3.679936e+07 -4.451360e+07 -1.963694e+07  1223.005\n",
       " ...               ...           ...           ...       ...\n",
       " 2089996 -3.910166e+06 -4.451060e+06 -5.016962e+06  2089.996\n",
       " 2089997 -4.840253e+06 -2.982477e+06 -4.763291e+06  2089.997\n",
       " 2089998 -5.825980e+06 -1.270673e+06 -4.835140e+06  2089.998\n",
       " 2089999 -6.815105e+06  6.048336e+05 -5.246861e+06  2089.999\n",
       " 2090000 -7.742255e+06  2.523654e+06 -5.965373e+06  2090.000\n",
       " \n",
       " [867000 rows x 4 columns],\n",
       "                     0             1             2      time\n",
       " 2090001 -8.536714e+06  4.332669e+06 -6.922963e+06  2090.001\n",
       " 2090002 -9.133372e+06  5.863008e+06 -8.036254e+06  2090.002\n",
       " 2090003 -9.483506e+06  6.953474e+06 -9.222748e+06  2090.003\n",
       " 2090004 -9.562426e+06  7.475352e+06 -1.040963e+07  2090.004\n",
       " 2090005 -9.372644e+06  7.353057e+06 -1.153528e+07  2090.005\n",
       " ...               ...           ...           ...       ...\n",
       " 2393996 -2.249993e+07  2.575582e+07  1.162619e+07  2393.996\n",
       " 2393997 -1.969785e+07  2.561666e+07  9.271806e+06  2393.997\n",
       " 2393998 -1.786897e+07  2.302073e+07  5.858345e+06  2393.998\n",
       " 2393999 -1.688990e+07  1.833980e+07  1.510910e+06  2393.999\n",
       " 2394000 -1.652835e+07  1.223302e+07 -3.516985e+06  2394.000\n",
       " \n",
       " [304000 rows x 4 columns]]"
      ]
     },
     "execution_count": 585,
     "metadata": {},
     "output_type": "execute_result"
    }
   ],
   "source": [
    "activity_segments"
   ]
  },
  {
   "cell_type": "code",
   "execution_count": 586,
   "id": "b28c2026",
   "metadata": {},
   "outputs": [],
   "source": [
    "#Return the times to their initial index...in this case x1000 because the sampling rate was 1000 Hz\n",
    "activity_segment_indexes=[i*1000 for i in activity_segment_times]"
   ]
  },
  {
   "cell_type": "markdown",
   "id": "d7427e93",
   "metadata": {},
   "source": [
    "Loop that iterates through accel data according to the segements that were previously estblished and filters the data again to establish the peaks within that period of time to calculate cadence"
   ]
  },
  {
   "cell_type": "code",
   "execution_count": 587,
   "id": "a9f1f9c8",
   "metadata": {},
   "outputs": [],
   "source": [
    "time=standard_accels['time'].to_numpy()\n",
    "cadences=[]\n",
    "filtered_signals=[]\n",
    "for idx,segment in enumerate(activity_segment_indexes):\n",
    "    fs=1000\n",
    "    cutoff = 0.5\n",
    "    order=4\n",
    "    b, a = signal.butter(order, cutoff / (fs / 2), btype=\"highpass\")\n",
    "    try:\n",
    "        filtered_signal = signal.filtfilt(b, a, standard_accels[1][activity_segment_indexes[idx]:activity_segment_indexes[idx+1]])\n",
    "        peaks, _ = signal.find_peaks(filtered_signal, height=(1000,2000))\n",
    "        step_durations = np.diff(time[activity_segment_indexes[idx]:activity_segment_indexes[idx+1]][peaks])\n",
    "        step_cadence = 60 / step_durations.mean()\n",
    "        filtered_signals.append(filtered_signal)\n",
    "        cadences.append(step_cadence)\n",
    "        start_time=segment\n",
    "    except:\n",
    "        pass"
   ]
  },
  {
   "cell_type": "code",
   "execution_count": 588,
   "id": "2a0201f3",
   "metadata": {},
   "outputs": [
    {
     "data": {
      "text/plain": [
       "[6.012927794758731, 114.1001964405444, 8.065291781629906, 118.27817348131417]"
      ]
     },
     "execution_count": 588,
     "metadata": {},
     "output_type": "execute_result"
    }
   ],
   "source": [
    "cadences"
   ]
  },
  {
   "cell_type": "code",
   "execution_count": 589,
   "id": "b931732b",
   "metadata": {},
   "outputs": [
    {
     "data": {
      "text/plain": [
       "[<matplotlib.lines.Line2D at 0x437b5c1c0>]"
      ]
     },
     "execution_count": 589,
     "metadata": {},
     "output_type": "execute_result"
    },
    {
     "data": {
      "image/png": "[encoded data removed]",
      "text/plain": [
       "<Figure size 640x480 with 1 Axes>"
      ]
     },
     "metadata": {},
     "output_type": "display_data"
    }
   ],
   "source": [
    "plt.plot(activity_segments[0][1])\n",
    "plt.plot(activity_segments[1][1])\n",
    "plt.plot(activity_segments[2][1])\n",
    "plt.plot(activity_segments[3][1])"
   ]
  },
  {
   "cell_type": "markdown",
   "id": "a3a8a030",
   "metadata": {},
   "source": [
    "# Moment of truth...let's try this approach on someone else"
   ]
  },
  {
   "cell_type": "code",
   "execution_count": 611,
   "id": "08a59b94",
   "metadata": {},
   "outputs": [],
   "source": [
    "new_subject=dfs_test[5][['Accelerometer_X', 'Accelerometer_Y', 'Accelerometer_Z']]\n",
    "\n",
    "b,a =signal.butter(3,(3,60), btype='bandpass', fs=1000)\n",
    "\n",
    "new_subject_filtered_accels=[]\n",
    "for i in new_subject:\n",
    "    filtered_accel=signal.filtfilt(b, a, new_subject[i])\n",
    "    new_subject_filtered_accels.append(filtered_accel)\n",
    "    \n",
    "new_subject_filtered_accels=pd.concat([pd.Series(i) for i in new_subject_filtered_accels], axis=1)\n",
    "\n",
    "#Decreasing the scale of the data so it is easier to establish minimum height of Amplitude\n",
    "\n",
    "standard_accels=new_subject_filtered_accels/100000 \n",
    "\n",
    "standard_accels['time']=dfs_test[5]['time']\n",
    "new_subject_filtered_accels['time']=dfs_test[5]['time']"
   ]
  },
  {
   "cell_type": "code",
   "execution_count": 612,
   "id": "720cd8ad",
   "metadata": {},
   "outputs": [
    {
     "data": {
      "text/html": [
       "<div>\n",
       "<style scoped>\n",
       "    .dataframe tbody tr th:only-of-type {\n",
       "        vertical-align: middle;\n",
       "    }\n",
       "\n",
       "    .dataframe tbody tr th {\n",
       "        vertical-align: top;\n",
       "    }\n",
       "\n",
       "    .dataframe thead th {\n",
       "        text-align: right;\n",
       "    }\n",
       "</style>\n",
       "<table border=\"1\" class=\"dataframe\">\n",
       "  <thead>\n",
       "    <tr style=\"text-align: right;\">\n",
       "      <th></th>\n",
       "      <th>0</th>\n",
       "      <th>1</th>\n",
       "      <th>2</th>\n",
       "      <th>time</th>\n",
       "    </tr>\n",
       "  </thead>\n",
       "  <tbody>\n",
       "    <tr>\n",
       "      <th>0</th>\n",
       "      <td>34.213525</td>\n",
       "      <td>-42.925624</td>\n",
       "      <td>-233.736828</td>\n",
       "      <td>0.000</td>\n",
       "    </tr>\n",
       "    <tr>\n",
       "      <th>1</th>\n",
       "      <td>45.113142</td>\n",
       "      <td>-30.452881</td>\n",
       "      <td>-185.633983</td>\n",
       "      <td>0.001</td>\n",
       "    </tr>\n",
       "    <tr>\n",
       "      <th>2</th>\n",
       "      <td>55.042526</td>\n",
       "      <td>-17.410512</td>\n",
       "      <td>-143.358789</td>\n",
       "      <td>0.002</td>\n",
       "    </tr>\n",
       "    <tr>\n",
       "      <th>3</th>\n",
       "      <td>63.144396</td>\n",
       "      <td>-3.380323</td>\n",
       "      <td>-112.758740</td>\n",
       "      <td>0.003</td>\n",
       "    </tr>\n",
       "    <tr>\n",
       "      <th>4</th>\n",
       "      <td>68.819719</td>\n",
       "      <td>11.792879</td>\n",
       "      <td>-98.622093</td>\n",
       "      <td>0.004</td>\n",
       "    </tr>\n",
       "    <tr>\n",
       "      <th>...</th>\n",
       "      <td>...</td>\n",
       "      <td>...</td>\n",
       "      <td>...</td>\n",
       "      <td>...</td>\n",
       "    </tr>\n",
       "    <tr>\n",
       "      <th>2252995</th>\n",
       "      <td>-17.903679</td>\n",
       "      <td>-855.497298</td>\n",
       "      <td>-1409.659941</td>\n",
       "      <td>2252.995</td>\n",
       "    </tr>\n",
       "    <tr>\n",
       "      <th>2252996</th>\n",
       "      <td>-9.721094</td>\n",
       "      <td>-737.903877</td>\n",
       "      <td>-1240.645347</td>\n",
       "      <td>2252.996</td>\n",
       "    </tr>\n",
       "    <tr>\n",
       "      <th>2252997</th>\n",
       "      <td>-2.055909</td>\n",
       "      <td>-617.554912</td>\n",
       "      <td>-1066.644214</td>\n",
       "      <td>2252.997</td>\n",
       "    </tr>\n",
       "    <tr>\n",
       "      <th>2252998</th>\n",
       "      <td>5.081859</td>\n",
       "      <td>-496.547538</td>\n",
       "      <td>-890.652552</td>\n",
       "      <td>2252.998</td>\n",
       "    </tr>\n",
       "    <tr>\n",
       "      <th>2252999</th>\n",
       "      <td>11.789635</td>\n",
       "      <td>-376.574858</td>\n",
       "      <td>-715.163642</td>\n",
       "      <td>2252.999</td>\n",
       "    </tr>\n",
       "  </tbody>\n",
       "</table>\n",
       "<p>2253000 rows × 4 columns</p>\n",
       "</div>"
      ],
      "text/plain": [
       "                 0           1            2      time\n",
       "0        34.213525  -42.925624  -233.736828     0.000\n",
       "1        45.113142  -30.452881  -185.633983     0.001\n",
       "2        55.042526  -17.410512  -143.358789     0.002\n",
       "3        63.144396   -3.380323  -112.758740     0.003\n",
       "4        68.819719   11.792879   -98.622093     0.004\n",
       "...            ...         ...          ...       ...\n",
       "2252995 -17.903679 -855.497298 -1409.659941  2252.995\n",
       "2252996  -9.721094 -737.903877 -1240.645347  2252.996\n",
       "2252997  -2.055909 -617.554912 -1066.644214  2252.997\n",
       "2252998   5.081859 -496.547538  -890.652552  2252.998\n",
       "2252999  11.789635 -376.574858  -715.163642  2252.999\n",
       "\n",
       "[2253000 rows x 4 columns]"
      ]
     },
     "execution_count": 612,
     "metadata": {},
     "output_type": "execute_result"
    }
   ],
   "source": [
    "standard_accels"
   ]
  },
  {
   "cell_type": "code",
   "execution_count": 613,
   "id": "c4cf8d18",
   "metadata": {},
   "outputs": [],
   "source": [
    "whole_signal_peaks, whole_signal_heights=scipy.signal.find_peaks(standard_accels[1], height=(1000,2000), threshold=.62)\n",
    "\n",
    "whole_signal_peaks=pd.Series(whole_signal_peaks)/1000"
   ]
  },
  {
   "cell_type": "code",
   "execution_count": 614,
   "id": "f254be2e",
   "metadata": {},
   "outputs": [],
   "source": [
    "def process_peak_times(series_of_peak_times, window_size, threshold=1.5*len(window)+10):\n",
    "    times=[]\n",
    "    for i in range(0, len(series_of_peak_times), window_size):\n",
    "        if series_of_peak_times[i:i+window_size].diff().sum() > threshold:\n",
    "            pass\n",
    "        else:\n",
    "            times.append(series_of_peak_times[i:i+window_size])\n",
    "    return times"
   ]
  },
  {
   "cell_type": "code",
   "execution_count": 615,
   "id": "a35d8608",
   "metadata": {},
   "outputs": [],
   "source": [
    "result=process_peak_times(whole_signal_peaks, 75)\n",
    "\n",
    "result=pd.concat(result, axis=0)\n",
    "\n",
    "result=result.reset_index()\n",
    "result['diff']=result[0].diff()"
   ]
  },
  {
   "cell_type": "code",
   "execution_count": 616,
   "id": "ab28d954",
   "metadata": {},
   "outputs": [
    {
     "data": {
      "text/html": [
       "<div>\n",
       "<style scoped>\n",
       "    .dataframe tbody tr th:only-of-type {\n",
       "        vertical-align: middle;\n",
       "    }\n",
       "\n",
       "    .dataframe tbody tr th {\n",
       "        vertical-align: top;\n",
       "    }\n",
       "\n",
       "    .dataframe thead th {\n",
       "        text-align: right;\n",
       "    }\n",
       "</style>\n",
       "<table border=\"1\" class=\"dataframe\">\n",
       "  <thead>\n",
       "    <tr style=\"text-align: right;\">\n",
       "      <th></th>\n",
       "      <th>index</th>\n",
       "      <th>0</th>\n",
       "      <th>diff</th>\n",
       "    </tr>\n",
       "  </thead>\n",
       "  <tbody>\n",
       "    <tr>\n",
       "      <th>0</th>\n",
       "      <td>75</td>\n",
       "      <td>772.577</td>\n",
       "      <td>NaN</td>\n",
       "    </tr>\n",
       "    <tr>\n",
       "      <th>1</th>\n",
       "      <td>76</td>\n",
       "      <td>772.985</td>\n",
       "      <td>0.408</td>\n",
       "    </tr>\n",
       "    <tr>\n",
       "      <th>2</th>\n",
       "      <td>77</td>\n",
       "      <td>773.009</td>\n",
       "      <td>0.024</td>\n",
       "    </tr>\n",
       "    <tr>\n",
       "      <th>3</th>\n",
       "      <td>78</td>\n",
       "      <td>774.783</td>\n",
       "      <td>1.774</td>\n",
       "    </tr>\n",
       "    <tr>\n",
       "      <th>4</th>\n",
       "      <td>79</td>\n",
       "      <td>775.935</td>\n",
       "      <td>1.152</td>\n",
       "    </tr>\n",
       "    <tr>\n",
       "      <th>...</th>\n",
       "      <td>...</td>\n",
       "      <td>...</td>\n",
       "      <td>...</td>\n",
       "    </tr>\n",
       "    <tr>\n",
       "      <th>265</th>\n",
       "      <td>490</td>\n",
       "      <td>2249.554</td>\n",
       "      <td>0.093</td>\n",
       "    </tr>\n",
       "    <tr>\n",
       "      <th>266</th>\n",
       "      <td>491</td>\n",
       "      <td>2249.731</td>\n",
       "      <td>0.177</td>\n",
       "    </tr>\n",
       "    <tr>\n",
       "      <th>267</th>\n",
       "      <td>492</td>\n",
       "      <td>2249.796</td>\n",
       "      <td>0.065</td>\n",
       "    </tr>\n",
       "    <tr>\n",
       "      <th>268</th>\n",
       "      <td>493</td>\n",
       "      <td>2249.987</td>\n",
       "      <td>0.191</td>\n",
       "    </tr>\n",
       "    <tr>\n",
       "      <th>269</th>\n",
       "      <td>494</td>\n",
       "      <td>2250.149</td>\n",
       "      <td>0.162</td>\n",
       "    </tr>\n",
       "  </tbody>\n",
       "</table>\n",
       "<p>270 rows × 3 columns</p>\n",
       "</div>"
      ],
      "text/plain": [
       "     index         0   diff\n",
       "0       75   772.577    NaN\n",
       "1       76   772.985  0.408\n",
       "2       77   773.009  0.024\n",
       "3       78   774.783  1.774\n",
       "4       79   775.935  1.152\n",
       "..     ...       ...    ...\n",
       "265    490  2249.554  0.093\n",
       "266    491  2249.731  0.177\n",
       "267    492  2249.796  0.065\n",
       "268    493  2249.987  0.191\n",
       "269    494  2250.149  0.162\n",
       "\n",
       "[270 rows x 3 columns]"
      ]
     },
     "execution_count": 616,
     "metadata": {},
     "output_type": "execute_result"
    }
   ],
   "source": [
    "result"
   ]
  },
  {
   "cell_type": "code",
   "execution_count": 617,
   "id": "3ccd15a1",
   "metadata": {},
   "outputs": [
    {
     "name": "stderr",
     "output_type": "stream",
     "text": [
      "/var/folders/wv/c3g7vgxd10n0mdl2_flcjj480000gn/T/ipykernel_24287/3305336973.py:6: FutureWarning: The frame.append method is deprecated and will be removed from pandas in a future version. Use pandas.concat instead.\n",
      "  activity_segment_times=activity_segment_times.append(result.iloc[added_value])\n",
      "/var/folders/wv/c3g7vgxd10n0mdl2_flcjj480000gn/T/ipykernel_24287/3305336973.py:7: FutureWarning: The frame.append method is deprecated and will be removed from pandas in a future version. Use pandas.concat instead.\n",
      "  activity_segment_times=activity_segment_times.append(result.iloc[0])\n"
     ]
    }
   ],
   "source": [
    "activity_segment_times=result[result['diff']>50]\n",
    "\n",
    "#Add the index of the value preceding the change in difference\n",
    "added_value=activity_segment_times.index[0]-1\n",
    "\n",
    "activity_segment_times=activity_segment_times.append(result.iloc[added_value])\n",
    "activity_segment_times=activity_segment_times.append(result.iloc[0])"
   ]
  },
  {
   "cell_type": "code",
   "execution_count": 619,
   "id": "288b96b3",
   "metadata": {},
   "outputs": [],
   "source": [
    "activity_segment_times=activity_segment_times[0]\n",
    "activity_segment_times=activity_segment_times.sort_values()\n",
    "\n",
    "activity_segment_times=list(activity_segment_times)\n",
    "activity_segment_times=[int(i) for i in activity_segment_times]\n",
    "activity_segment_times.append(0)\n",
    "activity_segment_times.sort()"
   ]
  },
  {
   "cell_type": "code",
   "execution_count": 623,
   "id": "a07da36a",
   "metadata": {},
   "outputs": [
    {
     "data": {
      "text/plain": [
       "[0, 772, 948, 1848, 2206]"
      ]
     },
     "execution_count": 623,
     "metadata": {},
     "output_type": "execute_result"
    }
   ],
   "source": [
    "activity_segment_times"
   ]
  },
  {
   "cell_type": "code",
   "execution_count": 622,
   "id": "8b268efd",
   "metadata": {},
   "outputs": [],
   "source": [
    "activity_segment_times=audit_activity_segment_times(activity_segment_times, result)"
   ]
  },
  {
   "cell_type": "code",
   "execution_count": 621,
   "id": "8df3a5f8",
   "metadata": {},
   "outputs": [
    {
     "data": {
      "text/plain": [
       "[<matplotlib.lines.Line2D at 0x330625f90>]"
      ]
     },
     "execution_count": 621,
     "metadata": {},
     "output_type": "execute_result"
    },
    {
     "data": {
      "image/png": "[encoded data removed]",
      "text/plain": [
       "<Figure size 640x480 with 1 Axes>"
      ]
     },
     "metadata": {},
     "output_type": "display_data"
    }
   ],
   "source": [
    "plt.plot(standard_accels[1])"
   ]
  },
  {
   "cell_type": "code",
   "execution_count": 624,
   "id": "f0145b84",
   "metadata": {},
   "outputs": [],
   "source": [
    "#Return the times to their initial index...in this case x1000 because the sampling rate was 1000 Hz\n",
    "activity_segment_indexes=[i*1000 for i in activity_segment_times]\n",
    "\n",
    "time=standard_accels['time'].to_numpy()\n",
    "cadences=[]\n",
    "filtered_signals=[]\n",
    "for idx,segment in enumerate(activity_segment_indexes):\n",
    "    fs=1000\n",
    "    cutoff = 0.5\n",
    "    order=4\n",
    "    b, a = signal.butter(order, cutoff / (fs / 2), btype=\"highpass\")\n",
    "    try:\n",
    "        filtered_signal = signal.filtfilt(b, a, standard_accels[1][activity_segment_indexes[idx]:activity_segment_indexes[idx+1]])\n",
    "        peaks, _ = signal.find_peaks(filtered_signal, height=(1000,2000))\n",
    "        step_durations = np.diff(time[activity_segment_indexes[idx]:activity_segment_indexes[idx+1]][peaks])\n",
    "        step_cadence = 60 / step_durations.mean()\n",
    "        filtered_signals.append(filtered_signal)\n",
    "        cadences.append(step_cadence)\n",
    "        start_time=segment\n",
    "    except:\n",
    "        pass"
   ]
  },
  {
   "cell_type": "code",
   "execution_count": 625,
   "id": "f5e3f728",
   "metadata": {},
   "outputs": [
    {
     "data": {
      "text/plain": [
       "[7.625015237062761, 82.35604920687796, 8.20465842272668, 41.67005049133135]"
      ]
     },
     "execution_count": 625,
     "metadata": {},
     "output_type": "execute_result"
    }
   ],
   "source": [
    "cadences"
   ]
  },
  {
   "cell_type": "code",
   "execution_count": 628,
   "id": "b7387a03",
   "metadata": {},
   "outputs": [
    {
     "data": {
      "text/plain": [
       "[                  0           1            2     time\n",
       " 1         45.113142  -30.452881  -185.633983    0.001\n",
       " 2         55.042526  -17.410512  -143.358789    0.002\n",
       " 3         63.144396   -3.380323  -112.758740    0.003\n",
       " 4         68.819719   11.792879   -98.622093    0.004\n",
       " 5         71.807947   27.930531  -104.261245    0.005\n",
       " ...             ...         ...          ...      ...\n",
       " 771996 -1875.663855  -31.040911  1355.013385  771.996\n",
       " 771997 -1872.092935  -80.050480  1393.307553  771.997\n",
       " 771998 -1836.014895 -174.071319  1462.653716  771.998\n",
       " 771999 -1770.705357 -306.770432  1558.424239  771.999\n",
       " 772000 -1682.517639 -466.609306  1671.673680  772.000\n",
       " \n",
       " [772000 rows x 4 columns],\n",
       "                   0            1            2     time\n",
       " 772001 -1579.694687  -638.460559  1790.343537  772.001\n",
       " 772002 -1470.760960  -806.039878  1901.179342  772.002\n",
       " 772003 -1363.086483  -954.425851  1991.815951  772.003\n",
       " 772004 -1262.031414 -1072.030492  2052.510619  772.004\n",
       " 772005 -1170.707909 -1151.755568  2077.257430  772.005\n",
       " ...             ...          ...          ...      ...\n",
       " 947996  1180.385040  -184.338443  -558.204508  947.996\n",
       " 947997  1200.801880  -176.713347  -579.722721  947.997\n",
       " 947998  1158.371342  -145.206957  -596.690046  947.998\n",
       " 947999  1059.357720   -92.748516  -608.733965  947.999\n",
       " 948000   916.535684   -24.885805  -615.667072  948.000\n",
       " \n",
       " [176000 rows x 4 columns],\n",
       "                   0           1           2      time\n",
       " 948001   746.847938   51.137130 -617.278106   948.001\n",
       " 948002   568.201200  127.670999 -613.149274   948.002\n",
       " 948003   396.533365  197.889339 -602.625437   948.003\n",
       " 948004   243.948268  256.629003 -584.968349   948.004\n",
       " 948005   118.021829  300.770095 -559.620873   948.005\n",
       " ...             ...         ...         ...       ...\n",
       " 1847996  740.941030  235.386404   -7.669288  1847.996\n",
       " 1847997  742.354163  237.528806   -0.352943  1847.997\n",
       " 1847998  638.424843  217.882219   58.752656  1847.998\n",
       " 1847999  440.940003  178.888205  164.419669  1847.999\n",
       " 1848000  173.424787  125.346184  305.735001  1848.000\n",
       " \n",
       " [900000 rows x 4 columns],\n",
       "                    0           1            2      time\n",
       " 1848001  -132.779540   63.556055   467.942690  1848.001\n",
       " 1848002  -444.133935    0.132787   635.102844  1848.002\n",
       " 1848003  -730.336957  -59.091769   792.668695  1848.003\n",
       " 1848004  -968.132120 -109.779954   929.293043  1848.004\n",
       " 1848005 -1143.123398 -149.362261  1037.694950  1848.005\n",
       " ...              ...         ...          ...       ...\n",
       " 2205996  1959.034570  -65.934859  -983.428764  2205.996\n",
       " 2205997  2009.623861  -64.435248  -923.311630  2205.997\n",
       " 2205998  2012.384624 -138.706413 -1017.442157  2205.998\n",
       " 2205999  1970.335547 -283.291334 -1243.249331  2205.999\n",
       " 2206000  1891.277795 -483.005478 -1558.800014  2206.000\n",
       " \n",
       " [358000 rows x 4 columns]]"
      ]
     },
     "execution_count": 628,
     "metadata": {},
     "output_type": "execute_result"
    }
   ],
   "source": [
    "segments=pd.cut(standard_accels['time'], activity_segment_times)\n",
    "activity_segments=[standard_accels[segments == category] for category in segments.cat.categories]\n",
    "activity_segments"
   ]
  },
  {
   "cell_type": "code",
   "execution_count": 629,
   "id": "16db96f2",
   "metadata": {},
   "outputs": [
    {
     "data": {
      "text/plain": [
       "[<matplotlib.lines.Line2D at 0x3306fd2d0>]"
      ]
     },
     "execution_count": 629,
     "metadata": {},
     "output_type": "execute_result"
    },
    {
     "data": {
      "image/png": "[encoded data removed]",
      "text/plain": [
       "<Figure size 640x480 with 1 Axes>"
      ]
     },
     "metadata": {},
     "output_type": "display_data"
    }
   ],
   "source": [
    "plt.plot(activity_segments[0][1])\n",
    "plt.plot(activity_segments[1][1])\n",
    "plt.plot(activity_segments[2][1])\n",
    "plt.plot(activity_segments[3][1])"
   ]
  },
  {
   "cell_type": "markdown",
   "id": "03cecb1f",
   "metadata": {},
   "source": [
    "# Honestly, not terrible, gonna do another new subject and see and then see how I can make it better if in fact it does continue to somewhat work"
   ]
  },
  {
   "cell_type": "code",
   "execution_count": 630,
   "id": "6b78d995",
   "metadata": {},
   "outputs": [],
   "source": [
    "new_subject=dfs_test[1][['Accelerometer_X', 'Accelerometer_Y', 'Accelerometer_Z']]\n",
    "\n",
    "b,a =signal.butter(3,(3,60), btype='bandpass', fs=1000)\n",
    "\n",
    "new_subject_filtered_accels=[]\n",
    "for i in new_subject:\n",
    "    filtered_accel=signal.filtfilt(b, a, new_subject[i])\n",
    "    new_subject_filtered_accels.append(filtered_accel)\n",
    "    \n",
    "new_subject_filtered_accels=pd.concat([pd.Series(i) for i in new_subject_filtered_accels], axis=1)\n",
    "\n",
    "#Decreasing the scale of the data so it is easier to establish minimum height of Amplitude\n",
    "\n",
    "standard_accels=new_subject_filtered_accels/100000 \n",
    "\n",
    "standard_accels['time']=dfs_test[1]['time']\n",
    "new_subject_filtered_accels['time']=dfs_test[1]['time']"
   ]
  },
  {
   "cell_type": "code",
   "execution_count": 631,
   "id": "feb30129",
   "metadata": {},
   "outputs": [
    {
     "data": {
      "text/html": [
       "<div>\n",
       "<style scoped>\n",
       "    .dataframe tbody tr th:only-of-type {\n",
       "        vertical-align: middle;\n",
       "    }\n",
       "\n",
       "    .dataframe tbody tr th {\n",
       "        vertical-align: top;\n",
       "    }\n",
       "\n",
       "    .dataframe thead th {\n",
       "        text-align: right;\n",
       "    }\n",
       "</style>\n",
       "<table border=\"1\" class=\"dataframe\">\n",
       "  <thead>\n",
       "    <tr style=\"text-align: right;\">\n",
       "      <th></th>\n",
       "      <th>0</th>\n",
       "      <th>1</th>\n",
       "      <th>2</th>\n",
       "      <th>time</th>\n",
       "    </tr>\n",
       "  </thead>\n",
       "  <tbody>\n",
       "    <tr>\n",
       "      <th>0</th>\n",
       "      <td>54.918657</td>\n",
       "      <td>-12.974855</td>\n",
       "      <td>261.310781</td>\n",
       "      <td>0.000</td>\n",
       "    </tr>\n",
       "    <tr>\n",
       "      <th>1</th>\n",
       "      <td>59.473895</td>\n",
       "      <td>-9.426833</td>\n",
       "      <td>265.579612</td>\n",
       "      <td>0.001</td>\n",
       "    </tr>\n",
       "    <tr>\n",
       "      <th>2</th>\n",
       "      <td>63.454893</td>\n",
       "      <td>-5.682711</td>\n",
       "      <td>269.127459</td>\n",
       "      <td>0.002</td>\n",
       "    </tr>\n",
       "    <tr>\n",
       "      <th>3</th>\n",
       "      <td>66.439397</td>\n",
       "      <td>-1.617766</td>\n",
       "      <td>271.441440</td>\n",
       "      <td>0.003</td>\n",
       "    </tr>\n",
       "    <tr>\n",
       "      <th>4</th>\n",
       "      <td>68.142369</td>\n",
       "      <td>2.839455</td>\n",
       "      <td>272.281662</td>\n",
       "      <td>0.004</td>\n",
       "    </tr>\n",
       "    <tr>\n",
       "      <th>...</th>\n",
       "      <td>...</td>\n",
       "      <td>...</td>\n",
       "      <td>...</td>\n",
       "      <td>...</td>\n",
       "    </tr>\n",
       "    <tr>\n",
       "      <th>3937995</th>\n",
       "      <td>-950.902920</td>\n",
       "      <td>-1969.554753</td>\n",
       "      <td>-376.318314</td>\n",
       "      <td>3937.995</td>\n",
       "    </tr>\n",
       "    <tr>\n",
       "      <th>3937996</th>\n",
       "      <td>-833.690083</td>\n",
       "      <td>-1716.717994</td>\n",
       "      <td>-324.653093</td>\n",
       "      <td>3937.996</td>\n",
       "    </tr>\n",
       "    <tr>\n",
       "      <th>3937997</th>\n",
       "      <td>-717.695826</td>\n",
       "      <td>-1460.249887</td>\n",
       "      <td>-274.951316</td>\n",
       "      <td>3937.997</td>\n",
       "    </tr>\n",
       "    <tr>\n",
       "      <th>3937998</th>\n",
       "      <td>-603.921631</td>\n",
       "      <td>-1204.001525</td>\n",
       "      <td>-227.420815</td>\n",
       "      <td>3937.998</td>\n",
       "    </tr>\n",
       "    <tr>\n",
       "      <th>3937999</th>\n",
       "      <td>-492.717155</td>\n",
       "      <td>-950.739180</td>\n",
       "      <td>-181.878554</td>\n",
       "      <td>3937.999</td>\n",
       "    </tr>\n",
       "  </tbody>\n",
       "</table>\n",
       "<p>3938000 rows × 4 columns</p>\n",
       "</div>"
      ],
      "text/plain": [
       "                  0            1           2      time\n",
       "0         54.918657   -12.974855  261.310781     0.000\n",
       "1         59.473895    -9.426833  265.579612     0.001\n",
       "2         63.454893    -5.682711  269.127459     0.002\n",
       "3         66.439397    -1.617766  271.441440     0.003\n",
       "4         68.142369     2.839455  272.281662     0.004\n",
       "...             ...          ...         ...       ...\n",
       "3937995 -950.902920 -1969.554753 -376.318314  3937.995\n",
       "3937996 -833.690083 -1716.717994 -324.653093  3937.996\n",
       "3937997 -717.695826 -1460.249887 -274.951316  3937.997\n",
       "3937998 -603.921631 -1204.001525 -227.420815  3937.998\n",
       "3937999 -492.717155  -950.739180 -181.878554  3937.999\n",
       "\n",
       "[3938000 rows x 4 columns]"
      ]
     },
     "execution_count": 631,
     "metadata": {},
     "output_type": "execute_result"
    }
   ],
   "source": [
    "standard_accels"
   ]
  },
  {
   "cell_type": "code",
   "execution_count": 632,
   "id": "3a966b53",
   "metadata": {},
   "outputs": [],
   "source": [
    "whole_signal_peaks, whole_signal_heights=scipy.signal.find_peaks(standard_accels[1], height=(1000,2000), threshold=.62)\n",
    "\n",
    "whole_signal_peaks=pd.Series(whole_signal_peaks)/1000"
   ]
  },
  {
   "cell_type": "code",
   "execution_count": 633,
   "id": "5604d247",
   "metadata": {},
   "outputs": [],
   "source": [
    "result=process_peak_times(whole_signal_peaks, 75)\n",
    "\n",
    "result=pd.concat(result, axis=0)\n",
    "\n",
    "result=result.reset_index()\n",
    "result['diff']=result[0].diff()"
   ]
  },
  {
   "cell_type": "code",
   "execution_count": 635,
   "id": "8004b9a3",
   "metadata": {},
   "outputs": [
    {
     "data": {
      "text/plain": [
       "0         0.170\n",
       "1       126.996\n",
       "2       128.997\n",
       "3       129.508\n",
       "4       130.922\n",
       "         ...   \n",
       "859    3935.985\n",
       "860    3936.721\n",
       "861    3936.746\n",
       "862    3937.166\n",
       "863    3937.383\n",
       "Length: 864, dtype: float64"
      ]
     },
     "execution_count": 635,
     "metadata": {},
     "output_type": "execute_result"
    }
   ],
   "source": [
    "whole_signal_peaks"
   ]
  },
  {
   "cell_type": "code",
   "execution_count": 634,
   "id": "dcec4a4b",
   "metadata": {},
   "outputs": [
    {
     "data": {
      "text/html": [
       "<div>\n",
       "<style scoped>\n",
       "    .dataframe tbody tr th:only-of-type {\n",
       "        vertical-align: middle;\n",
       "    }\n",
       "\n",
       "    .dataframe tbody tr th {\n",
       "        vertical-align: top;\n",
       "    }\n",
       "\n",
       "    .dataframe thead th {\n",
       "        text-align: right;\n",
       "    }\n",
       "</style>\n",
       "<table border=\"1\" class=\"dataframe\">\n",
       "  <thead>\n",
       "    <tr style=\"text-align: right;\">\n",
       "      <th></th>\n",
       "      <th>index</th>\n",
       "      <th>0</th>\n",
       "      <th>diff</th>\n",
       "    </tr>\n",
       "  </thead>\n",
       "  <tbody>\n",
       "    <tr>\n",
       "      <th>0</th>\n",
       "      <td>450</td>\n",
       "      <td>3689.013</td>\n",
       "      <td>NaN</td>\n",
       "    </tr>\n",
       "    <tr>\n",
       "      <th>1</th>\n",
       "      <td>451</td>\n",
       "      <td>3689.054</td>\n",
       "      <td>0.041</td>\n",
       "    </tr>\n",
       "    <tr>\n",
       "      <th>2</th>\n",
       "      <td>452</td>\n",
       "      <td>3689.159</td>\n",
       "      <td>0.105</td>\n",
       "    </tr>\n",
       "    <tr>\n",
       "      <th>3</th>\n",
       "      <td>453</td>\n",
       "      <td>3689.234</td>\n",
       "      <td>0.075</td>\n",
       "    </tr>\n",
       "    <tr>\n",
       "      <th>4</th>\n",
       "      <td>454</td>\n",
       "      <td>3689.256</td>\n",
       "      <td>0.022</td>\n",
       "    </tr>\n",
       "    <tr>\n",
       "      <th>...</th>\n",
       "      <td>...</td>\n",
       "      <td>...</td>\n",
       "      <td>...</td>\n",
       "    </tr>\n",
       "    <tr>\n",
       "      <th>409</th>\n",
       "      <td>859</td>\n",
       "      <td>3935.985</td>\n",
       "      <td>0.591</td>\n",
       "    </tr>\n",
       "    <tr>\n",
       "      <th>410</th>\n",
       "      <td>860</td>\n",
       "      <td>3936.721</td>\n",
       "      <td>0.736</td>\n",
       "    </tr>\n",
       "    <tr>\n",
       "      <th>411</th>\n",
       "      <td>861</td>\n",
       "      <td>3936.746</td>\n",
       "      <td>0.025</td>\n",
       "    </tr>\n",
       "    <tr>\n",
       "      <th>412</th>\n",
       "      <td>862</td>\n",
       "      <td>3937.166</td>\n",
       "      <td>0.420</td>\n",
       "    </tr>\n",
       "    <tr>\n",
       "      <th>413</th>\n",
       "      <td>863</td>\n",
       "      <td>3937.383</td>\n",
       "      <td>0.217</td>\n",
       "    </tr>\n",
       "  </tbody>\n",
       "</table>\n",
       "<p>414 rows × 3 columns</p>\n",
       "</div>"
      ],
      "text/plain": [
       "     index         0   diff\n",
       "0      450  3689.013    NaN\n",
       "1      451  3689.054  0.041\n",
       "2      452  3689.159  0.105\n",
       "3      453  3689.234  0.075\n",
       "4      454  3689.256  0.022\n",
       "..     ...       ...    ...\n",
       "409    859  3935.985  0.591\n",
       "410    860  3936.721  0.736\n",
       "411    861  3936.746  0.025\n",
       "412    862  3937.166  0.420\n",
       "413    863  3937.383  0.217\n",
       "\n",
       "[414 rows x 3 columns]"
      ]
     },
     "execution_count": 634,
     "metadata": {},
     "output_type": "execute_result"
    }
   ],
   "source": [
    "result"
   ]
  },
  {
   "cell_type": "code",
   "execution_count": 640,
   "id": "533c15a4",
   "metadata": {},
   "outputs": [
    {
     "name": "stderr",
     "output_type": "stream",
     "text": [
      "/var/folders/wv/c3g7vgxd10n0mdl2_flcjj480000gn/T/ipykernel_24287/757702477.py:3: FutureWarning: The frame.append method is deprecated and will be removed from pandas in a future version. Use pandas.concat instead.\n",
      "  activity_segment_times=activity_segment_times.append(result.iloc[added_value])\n",
      "/var/folders/wv/c3g7vgxd10n0mdl2_flcjj480000gn/T/ipykernel_24287/757702477.py:4: FutureWarning: The frame.append method is deprecated and will be removed from pandas in a future version. Use pandas.concat instead.\n",
      "  activity_segment_times=activity_segment_times.append(result.iloc[0])\n"
     ]
    }
   ],
   "source": [
    "activity_segment_times=result[result['diff']>50]\n",
    "\n",
    "#Add the index of the value preceding the change in difference\n",
    "#added_value=activity_segment_times.index[0]-1..commented out because of error...good thing to add in ultimate function\n",
    "\n",
    "activity_segment_times=activity_segment_times.append(result.iloc[added_value])\n",
    "activity_segment_times=activity_segment_times.append(result.iloc[0])\n",
    "\n",
    "activity_segment_times=activity_segment_times[0]\n",
    "activity_segment_times=activity_segment_times.sort_values()\n",
    "\n",
    "activity_segment_times=list(activity_segment_times)\n",
    "activity_segment_times=[int(i) for i in activity_segment_times]\n",
    "activity_segment_times.append(0)\n",
    "activity_segment_times.sort()"
   ]
  },
  {
   "cell_type": "code",
   "execution_count": 641,
   "id": "3dd295f9",
   "metadata": {},
   "outputs": [
    {
     "data": {
      "text/plain": [
       "[0, 3689, 3784]"
      ]
     },
     "execution_count": 641,
     "metadata": {},
     "output_type": "execute_result"
    }
   ],
   "source": [
    "activity_segment_times"
   ]
  },
  {
   "cell_type": "code",
   "execution_count": 649,
   "id": "2c7ba3d8",
   "metadata": {},
   "outputs": [
    {
     "ename": "ValueError",
     "evalue": "time_segments missing values. Len must be equal to 5. List is currently: [0, 3689, 3784]",
     "output_type": "error",
     "traceback": [
      "\u001b[0;31m---------------------------------------------------------------------------\u001b[0m",
      "\u001b[0;31mValueError\u001b[0m                                Traceback (most recent call last)",
      "Cell \u001b[0;32mIn [649], line 1\u001b[0m\n\u001b[0;32m----> 1\u001b[0m activity_segment_times\u001b[38;5;241m=\u001b[39m\u001b[43maudit_activity_segment_times\u001b[49m\u001b[43m(\u001b[49m\u001b[43mactivity_segment_times\u001b[49m\u001b[43m,\u001b[49m\u001b[43m \u001b[49m\u001b[43mresult\u001b[49m\u001b[43m)\u001b[49m\n",
      "Cell \u001b[0;32mIn [648], line 11\u001b[0m, in \u001b[0;36maudit_activity_segment_times\u001b[0;34m(time_segments, peaks)\u001b[0m\n\u001b[1;32m      9\u001b[0m     \u001b[38;5;28;01mraise\u001b[39;00m \u001b[38;5;167;01mValueError\u001b[39;00m(\u001b[38;5;124mf\u001b[39m\u001b[38;5;124m\"\u001b[39m\u001b[38;5;124mMore than 5 time indexes detected. Check data. Time Indexes currently: \u001b[39m\u001b[38;5;132;01m{\u001b[39;00mtime_segments\u001b[38;5;132;01m}\u001b[39;00m\u001b[38;5;124m\"\u001b[39m)\n\u001b[1;32m     10\u001b[0m \u001b[38;5;28;01mif\u001b[39;00m \u001b[38;5;28mlen\u001b[39m(time_segments) \u001b[38;5;241m!=\u001b[39m \u001b[38;5;241m5\u001b[39m:\n\u001b[0;32m---> 11\u001b[0m         \u001b[38;5;28;01mraise\u001b[39;00m \u001b[38;5;167;01mValueError\u001b[39;00m(\u001b[38;5;124mf\u001b[39m\u001b[38;5;124m'\u001b[39m\u001b[38;5;124mtime_segments missing values. Len must be equal to 5. List is currently: \u001b[39m\u001b[38;5;132;01m{\u001b[39;00mtime_segments\u001b[38;5;132;01m}\u001b[39;00m\u001b[38;5;124m'\u001b[39m)\n\u001b[1;32m     13\u001b[0m \u001b[38;5;28;01mreturn\u001b[39;00m time_segments\n",
      "\u001b[0;31mValueError\u001b[0m: time_segments missing values. Len must be equal to 5. List is currently: [0, 3689, 3784]"
     ]
    }
   ],
   "source": [
    "activity_segment_times=audit_activity_segment_times(activity_segment_times, result)"
   ]
  },
  {
   "cell_type": "code",
   "execution_count": 646,
   "id": "8811af5f",
   "metadata": {},
   "outputs": [
    {
     "data": {
      "text/plain": [
       "[0, 3689, 3784]"
      ]
     },
     "execution_count": 646,
     "metadata": {},
     "output_type": "execute_result"
    }
   ],
   "source": [
    "activity_segment_times"
   ]
  },
  {
   "cell_type": "code",
   "execution_count": 694,
   "id": "ceba7d38",
   "metadata": {},
   "outputs": [
    {
     "data": {
      "text/plain": [
       "[<matplotlib.lines.Line2D at 0x437d574c0>]"
      ]
     },
     "execution_count": 694,
     "metadata": {},
     "output_type": "execute_result"
    },
    {
     "data": {
      "image/png": "[encoded data removed]",
      "text/plain": [
       "<Figure size 640x480 with 1 Axes>"
      ]
     },
     "metadata": {},
     "output_type": "display_data"
    }
   ],
   "source": [
    "plt.plot(dfs_test[1]['Accelerometer_Y'])"
   ]
  },
  {
   "cell_type": "markdown",
   "id": "5fcb2eee",
   "metadata": {},
   "source": [
    "# This subject's data is very messy and unclear so not surprised it did not work. It is hard to even visually assess where periods of activity start and stop as seen above\n",
    "\n",
    "going to continue on other subject"
   ]
  },
  {
   "cell_type": "code",
   "execution_count": 664,
   "id": "9fd7043b",
   "metadata": {},
   "outputs": [],
   "source": [
    "\n",
    "#Subject with lots of data...may be messy and not work\n",
    "new_subject=dfs_test[8][['Accelerometer_X', 'Accelerometer_Y', 'Accelerometer_Z']]\n",
    "\n",
    "b,a =signal.butter(3,(3,60), btype='bandpass', fs=1000)\n",
    "\n",
    "new_subject_filtered_accels=[]\n",
    "for i in new_subject:\n",
    "    filtered_accel=signal.filtfilt(b, a, new_subject[i])\n",
    "    new_subject_filtered_accels.append(filtered_accel)\n",
    "    \n",
    "new_subject_filtered_accels=pd.concat([pd.Series(i) for i in new_subject_filtered_accels], axis=1)\n",
    "\n",
    "#Decreasing the scale of the data so it is easier to establish minimum height of Amplitude\n",
    "\n",
    "standard_accels=new_subject_filtered_accels/100000 \n",
    "\n",
    "standard_accels['time']=dfs_test[8]['time']\n",
    "new_subject_filtered_accels['time']=dfs_test[8]['time']"
   ]
  },
  {
   "cell_type": "code",
   "execution_count": 665,
   "id": "d5fd9912",
   "metadata": {},
   "outputs": [],
   "source": [
    "whole_signal_peaks, whole_signal_heights=scipy.signal.find_peaks(standard_accels[1], height=(1000,2000), threshold=.62)\n",
    "\n",
    "whole_signal_peaks=pd.Series(whole_signal_peaks)/1000"
   ]
  },
  {
   "cell_type": "code",
   "execution_count": 666,
   "id": "05b2d4de",
   "metadata": {},
   "outputs": [
    {
     "data": {
      "text/html": [
       "<div>\n",
       "<style scoped>\n",
       "    .dataframe tbody tr th:only-of-type {\n",
       "        vertical-align: middle;\n",
       "    }\n",
       "\n",
       "    .dataframe tbody tr th {\n",
       "        vertical-align: top;\n",
       "    }\n",
       "\n",
       "    .dataframe thead th {\n",
       "        text-align: right;\n",
       "    }\n",
       "</style>\n",
       "<table border=\"1\" class=\"dataframe\">\n",
       "  <thead>\n",
       "    <tr style=\"text-align: right;\">\n",
       "      <th></th>\n",
       "      <th>0</th>\n",
       "      <th>1</th>\n",
       "      <th>2</th>\n",
       "      <th>time</th>\n",
       "    </tr>\n",
       "  </thead>\n",
       "  <tbody>\n",
       "    <tr>\n",
       "      <th>0</th>\n",
       "      <td>16.444481</td>\n",
       "      <td>74.696226</td>\n",
       "      <td>47.676721</td>\n",
       "      <td>0.000</td>\n",
       "    </tr>\n",
       "    <tr>\n",
       "      <th>1</th>\n",
       "      <td>23.442698</td>\n",
       "      <td>116.216441</td>\n",
       "      <td>123.371888</td>\n",
       "      <td>0.001</td>\n",
       "    </tr>\n",
       "    <tr>\n",
       "      <th>2</th>\n",
       "      <td>27.912483</td>\n",
       "      <td>153.811176</td>\n",
       "      <td>186.571800</td>\n",
       "      <td>0.002</td>\n",
       "    </tr>\n",
       "    <tr>\n",
       "      <th>3</th>\n",
       "      <td>27.588596</td>\n",
       "      <td>183.945760</td>\n",
       "      <td>226.268330</td>\n",
       "      <td>0.003</td>\n",
       "    </tr>\n",
       "    <tr>\n",
       "      <th>4</th>\n",
       "      <td>20.786675</td>\n",
       "      <td>203.911270</td>\n",
       "      <td>234.265700</td>\n",
       "      <td>0.004</td>\n",
       "    </tr>\n",
       "    <tr>\n",
       "      <th>...</th>\n",
       "      <td>...</td>\n",
       "      <td>...</td>\n",
       "      <td>...</td>\n",
       "      <td>...</td>\n",
       "    </tr>\n",
       "    <tr>\n",
       "      <th>3658995</th>\n",
       "      <td>-44.500230</td>\n",
       "      <td>-618.273485</td>\n",
       "      <td>-328.479206</td>\n",
       "      <td>3658.995</td>\n",
       "    </tr>\n",
       "    <tr>\n",
       "      <th>3658996</th>\n",
       "      <td>-38.094870</td>\n",
       "      <td>-538.951901</td>\n",
       "      <td>-294.676380</td>\n",
       "      <td>3658.996</td>\n",
       "    </tr>\n",
       "    <tr>\n",
       "      <th>3658997</th>\n",
       "      <td>-31.476680</td>\n",
       "      <td>-455.860871</td>\n",
       "      <td>-260.110932</td>\n",
       "      <td>3658.997</td>\n",
       "    </tr>\n",
       "    <tr>\n",
       "      <th>3658998</th>\n",
       "      <td>-24.781566</td>\n",
       "      <td>-370.801243</td>\n",
       "      <td>-225.258740</td>\n",
       "      <td>3658.998</td>\n",
       "    </tr>\n",
       "    <tr>\n",
       "      <th>3658999</th>\n",
       "      <td>-18.119607</td>\n",
       "      <td>-285.435083</td>\n",
       "      <td>-190.495994</td>\n",
       "      <td>3658.999</td>\n",
       "    </tr>\n",
       "  </tbody>\n",
       "</table>\n",
       "<p>3659000 rows × 4 columns</p>\n",
       "</div>"
      ],
      "text/plain": [
       "                 0           1           2      time\n",
       "0        16.444481   74.696226   47.676721     0.000\n",
       "1        23.442698  116.216441  123.371888     0.001\n",
       "2        27.912483  153.811176  186.571800     0.002\n",
       "3        27.588596  183.945760  226.268330     0.003\n",
       "4        20.786675  203.911270  234.265700     0.004\n",
       "...            ...         ...         ...       ...\n",
       "3658995 -44.500230 -618.273485 -328.479206  3658.995\n",
       "3658996 -38.094870 -538.951901 -294.676380  3658.996\n",
       "3658997 -31.476680 -455.860871 -260.110932  3658.997\n",
       "3658998 -24.781566 -370.801243 -225.258740  3658.998\n",
       "3658999 -18.119607 -285.435083 -190.495994  3658.999\n",
       "\n",
       "[3659000 rows x 4 columns]"
      ]
     },
     "execution_count": 666,
     "metadata": {},
     "output_type": "execute_result"
    }
   ],
   "source": [
    "standard_accels"
   ]
  },
  {
   "cell_type": "code",
   "execution_count": 668,
   "id": "e17964d2",
   "metadata": {},
   "outputs": [],
   "source": [
    "result=process_peak_times(whole_signal_peaks, 75)\n",
    "\n",
    "result=pd.concat(result, axis=0)\n",
    "\n",
    "result=result.reset_index()\n",
    "result['diff']=result[0].diff()"
   ]
  },
  {
   "cell_type": "code",
   "execution_count": 669,
   "id": "4c8464b9",
   "metadata": {},
   "outputs": [
    {
     "data": {
      "text/html": [
       "<div>\n",
       "<style scoped>\n",
       "    .dataframe tbody tr th:only-of-type {\n",
       "        vertical-align: middle;\n",
       "    }\n",
       "\n",
       "    .dataframe tbody tr th {\n",
       "        vertical-align: top;\n",
       "    }\n",
       "\n",
       "    .dataframe thead th {\n",
       "        text-align: right;\n",
       "    }\n",
       "</style>\n",
       "<table border=\"1\" class=\"dataframe\">\n",
       "  <thead>\n",
       "    <tr style=\"text-align: right;\">\n",
       "      <th></th>\n",
       "      <th>index</th>\n",
       "      <th>0</th>\n",
       "      <th>diff</th>\n",
       "    </tr>\n",
       "  </thead>\n",
       "  <tbody>\n",
       "    <tr>\n",
       "      <th>0</th>\n",
       "      <td>75</td>\n",
       "      <td>2121.076</td>\n",
       "      <td>NaN</td>\n",
       "    </tr>\n",
       "    <tr>\n",
       "      <th>1</th>\n",
       "      <td>76</td>\n",
       "      <td>2121.093</td>\n",
       "      <td>0.017</td>\n",
       "    </tr>\n",
       "    <tr>\n",
       "      <th>2</th>\n",
       "      <td>77</td>\n",
       "      <td>2121.444</td>\n",
       "      <td>0.351</td>\n",
       "    </tr>\n",
       "    <tr>\n",
       "      <th>3</th>\n",
       "      <td>78</td>\n",
       "      <td>2122.483</td>\n",
       "      <td>1.039</td>\n",
       "    </tr>\n",
       "    <tr>\n",
       "      <th>4</th>\n",
       "      <td>79</td>\n",
       "      <td>2122.950</td>\n",
       "      <td>0.467</td>\n",
       "    </tr>\n",
       "    <tr>\n",
       "      <th>...</th>\n",
       "      <td>...</td>\n",
       "      <td>...</td>\n",
       "      <td>...</td>\n",
       "    </tr>\n",
       "    <tr>\n",
       "      <th>535</th>\n",
       "      <td>835</td>\n",
       "      <td>3656.234</td>\n",
       "      <td>0.226</td>\n",
       "    </tr>\n",
       "    <tr>\n",
       "      <th>536</th>\n",
       "      <td>836</td>\n",
       "      <td>3656.264</td>\n",
       "      <td>0.030</td>\n",
       "    </tr>\n",
       "    <tr>\n",
       "      <th>537</th>\n",
       "      <td>837</td>\n",
       "      <td>3656.402</td>\n",
       "      <td>0.138</td>\n",
       "    </tr>\n",
       "    <tr>\n",
       "      <th>538</th>\n",
       "      <td>838</td>\n",
       "      <td>3656.428</td>\n",
       "      <td>0.026</td>\n",
       "    </tr>\n",
       "    <tr>\n",
       "      <th>539</th>\n",
       "      <td>839</td>\n",
       "      <td>3656.658</td>\n",
       "      <td>0.230</td>\n",
       "    </tr>\n",
       "  </tbody>\n",
       "</table>\n",
       "<p>540 rows × 3 columns</p>\n",
       "</div>"
      ],
      "text/plain": [
       "     index         0   diff\n",
       "0       75  2121.076    NaN\n",
       "1       76  2121.093  0.017\n",
       "2       77  2121.444  0.351\n",
       "3       78  2122.483  1.039\n",
       "4       79  2122.950  0.467\n",
       "..     ...       ...    ...\n",
       "535    835  3656.234  0.226\n",
       "536    836  3656.264  0.030\n",
       "537    837  3656.402  0.138\n",
       "538    838  3656.428  0.026\n",
       "539    839  3656.658  0.230\n",
       "\n",
       "[540 rows x 3 columns]"
      ]
     },
     "execution_count": 669,
     "metadata": {},
     "output_type": "execute_result"
    }
   ],
   "source": [
    "result"
   ]
  },
  {
   "cell_type": "code",
   "execution_count": 670,
   "id": "0adb2328",
   "metadata": {},
   "outputs": [
    {
     "name": "stderr",
     "output_type": "stream",
     "text": [
      "/var/folders/wv/c3g7vgxd10n0mdl2_flcjj480000gn/T/ipykernel_24287/325102324.py:5: FutureWarning: The frame.append method is deprecated and will be removed from pandas in a future version. Use pandas.concat instead.\n",
      "  activity_segment_times=activity_segment_times.append(result.iloc[added_value])\n",
      "/var/folders/wv/c3g7vgxd10n0mdl2_flcjj480000gn/T/ipykernel_24287/325102324.py:6: FutureWarning: The frame.append method is deprecated and will be removed from pandas in a future version. Use pandas.concat instead.\n",
      "  activity_segment_times=activity_segment_times.append(result.iloc[0])\n"
     ]
    }
   ],
   "source": [
    "activity_segment_times=result[result['diff']>50]\n",
    "\n",
    "#Add the index of the value preceding the change in difference\n",
    "added_value=activity_segment_times.index[0]-1\n",
    "activity_segment_times=activity_segment_times.append(result.iloc[added_value])\n",
    "activity_segment_times=activity_segment_times.append(result.iloc[0])\n",
    "\n",
    "activity_segment_times=activity_segment_times[0]\n",
    "activity_segment_times=activity_segment_times.sort_values()\n",
    "\n",
    "activity_segment_times=list(activity_segment_times)\n",
    "activity_segment_times=[int(i) for i in activity_segment_times]\n",
    "activity_segment_times.append(0)\n",
    "activity_segment_times.sort()"
   ]
  },
  {
   "cell_type": "code",
   "execution_count": 671,
   "id": "5c95c1bc",
   "metadata": {},
   "outputs": [
    {
     "data": {
      "text/plain": [
       "[0, 2121, 2341, 3331, 3650]"
      ]
     },
     "execution_count": 671,
     "metadata": {},
     "output_type": "execute_result"
    }
   ],
   "source": [
    "activity_segment_times"
   ]
  },
  {
   "cell_type": "code",
   "execution_count": 672,
   "id": "11fb7695",
   "metadata": {},
   "outputs": [],
   "source": [
    "activity_segment_times=audit_activity_segment_times(activity_segment_times, result)"
   ]
  },
  {
   "cell_type": "code",
   "execution_count": 673,
   "id": "2393a1ac",
   "metadata": {},
   "outputs": [
    {
     "data": {
      "text/plain": [
       "[0, 2121, 2341, 3331, 3650]"
      ]
     },
     "execution_count": 673,
     "metadata": {},
     "output_type": "execute_result"
    }
   ],
   "source": [
    "activity_segment_times"
   ]
  },
  {
   "cell_type": "code",
   "execution_count": 674,
   "id": "d7afc7db",
   "metadata": {},
   "outputs": [
    {
     "data": {
      "text/plain": [
       "[                  0            1            2      time\n",
       " 1         23.442698   116.216441   123.371888     0.001\n",
       " 2         27.912483   153.811176   186.571800     0.002\n",
       " 3         27.588596   183.945760   226.268330     0.003\n",
       " 4         20.786675   203.911270   234.265700     0.004\n",
       " 5          6.590833   212.107555   206.082549     0.005\n",
       " ...             ...          ...          ...       ...\n",
       " 2120996 -499.376231  -727.655980   909.151414  2120.996\n",
       " 2120997 -499.428853  -729.406199   904.787776  2120.997\n",
       " 2120998 -471.521672  -794.897326   991.755982  2120.998\n",
       " 2120999 -417.712767  -915.791646  1158.311914  2120.999\n",
       " 2121000 -342.993593 -1076.346376  1382.217357  2121.000\n",
       " \n",
       " [2121000 rows x 4 columns],\n",
       "                   0            1            2      time\n",
       " 2121001 -254.221987 -1255.796020  1634.088669  2121.001\n",
       " 2121002 -158.677948 -1431.837206  1882.294978  2121.002\n",
       " 2121003  -62.801107 -1584.133727  2097.884712  2121.003\n",
       " 2121004   28.523866 -1696.944757  2258.286685  2121.004\n",
       " 2121005  112.127928 -1760.561778  2349.352721  2121.005\n",
       " ...             ...          ...          ...       ...\n",
       " 2340996 -358.584605  -204.297350  -292.759777  2340.996\n",
       " 2340997 -409.956574  -244.150558  -264.418236  2340.997\n",
       " 2340998 -458.151749  -277.035228  -220.529828  2340.998\n",
       " 2340999 -501.030652  -302.474372  -163.257244  2340.999\n",
       " 2341000 -536.660959  -320.522037   -96.579888  2341.000\n",
       " \n",
       " [220000 rows x 4 columns],\n",
       "                   0           1           2      time\n",
       " 2341001 -563.219426 -331.627849  -25.715551  2341.001\n",
       " 2341002 -578.929839 -336.464829   43.749559  2341.002\n",
       " 2341003 -582.165469 -335.801571  106.749479  2341.003\n",
       " 2341004 -571.728916 -330.457278  159.413576  2341.004\n",
       " 2341005 -547.199066 -321.318878  199.441407  2341.005\n",
       " ...             ...         ...         ...       ...\n",
       " 3330996  951.644526  -14.496245  347.515070  3330.996\n",
       " 3330997  979.107658   11.323019  329.256669  3330.997\n",
       " 3330998  970.691739   -4.856735  311.913210  3330.998\n",
       " 3330999  929.597338  -59.346346  295.978765  3330.999\n",
       " 3331000  862.604011 -144.087981  281.949397  3331.000\n",
       " \n",
       " [990000 rows x 4 columns],\n",
       "                    0           1            2      time\n",
       " 3331001   778.741969 -248.223283   270.322102  3331.001\n",
       " 3331002   687.498327 -360.235206   261.594032  3331.002\n",
       " 3331003   597.222935 -469.876662   256.230009  3331.003\n",
       " 3331004   514.181276 -569.347483   254.590894  3331.004\n",
       " 3331005   442.282247 -653.673202   256.846251  3331.005\n",
       " ...              ...         ...          ...       ...\n",
       " 3649996  2157.772056  836.164931  3054.760315  3649.996\n",
       " 3649997  2179.208876  903.197570  3213.467591  3649.997\n",
       " 3649998  2080.625127  906.750613  3232.470828  3649.998\n",
       " 3649999  1874.589933  849.198527  3121.302786  3649.999\n",
       " 3650000  1586.204155  740.048845  2904.914604  3650.000\n",
       " \n",
       " [319000 rows x 4 columns]]"
      ]
     },
     "execution_count": 674,
     "metadata": {},
     "output_type": "execute_result"
    }
   ],
   "source": [
    "segments=pd.cut(standard_accels['time'], activity_segment_times)\n",
    "activity_segments=[standard_accels[segments == category] for category in segments.cat.categories]\n",
    "activity_segments"
   ]
  },
  {
   "cell_type": "code",
   "execution_count": 675,
   "id": "5d831031",
   "metadata": {},
   "outputs": [],
   "source": [
    "#Return the times to their initial index...in this case x1000 because the sampling rate was 1000 Hz\n",
    "activity_segment_indexes=[i*1000 for i in activity_segment_times]\n",
    "\n",
    "time=standard_accels['time'].to_numpy()\n",
    "cadences=[]\n",
    "filtered_signals=[]\n",
    "for idx,segment in enumerate(activity_segment_indexes):\n",
    "    fs=1000\n",
    "    cutoff = 0.5\n",
    "    order=4\n",
    "    b, a = signal.butter(order, cutoff / (fs / 2), btype=\"highpass\")\n",
    "    try:\n",
    "        filtered_signal = signal.filtfilt(b, a, standard_accels[1][activity_segment_indexes[idx]:activity_segment_indexes[idx+1]])\n",
    "        peaks, _ = signal.find_peaks(filtered_signal, height=(1000,2000))\n",
    "        step_durations = np.diff(time[activity_segment_indexes[idx]:activity_segment_indexes[idx+1]][peaks])\n",
    "        step_cadence = 60 / step_durations.mean()\n",
    "        filtered_signals.append(filtered_signal)\n",
    "        cadences.append(step_cadence)\n",
    "        start_time=segment\n",
    "    except:\n",
    "        pass"
   ]
  },
  {
   "cell_type": "code",
   "execution_count": 676,
   "id": "e57712f8",
   "metadata": {},
   "outputs": [
    {
     "data": {
      "text/plain": [
       "[2.8578273344110703, 181.7115261312633, 13.524263316800306, 39.18810289389068]"
      ]
     },
     "execution_count": 676,
     "metadata": {},
     "output_type": "execute_result"
    }
   ],
   "source": [
    "cadences"
   ]
  },
  {
   "cell_type": "code",
   "execution_count": 677,
   "id": "dea6d6cd",
   "metadata": {},
   "outputs": [
    {
     "data": {
      "text/plain": [
       "[<matplotlib.lines.Line2D at 0x3304146a0>]"
      ]
     },
     "execution_count": 677,
     "metadata": {},
     "output_type": "execute_result"
    },
    {
     "data": {
      "image/png": "[encoded data removed]",
      "text/plain": [
       "<Figure size 640x480 with 1 Axes>"
      ]
     },
     "metadata": {},
     "output_type": "display_data"
    }
   ],
   "source": [
    "plt.plot(activity_segments[0][1])\n",
    "plt.plot(activity_segments[1][1])\n",
    "plt.plot(activity_segments[2][1])\n",
    "plt.plot(activity_segments[3][1])"
   ]
  },
  {
   "cell_type": "markdown",
   "id": "c550cd6b",
   "metadata": {},
   "source": [
    "# Again, not too bad. I need to remove all that noise at the beginning but it certainly changes when walking begings and changes again when walking stops\n",
    "\n",
    "Trying on Subject 11 with very clean data"
   ]
  },
  {
   "cell_type": "code",
   "execution_count": 678,
   "id": "5b457387",
   "metadata": {},
   "outputs": [],
   "source": [
    "new_subject=dfs_test[11][['Accelerometer_X', 'Accelerometer_Y', 'Accelerometer_Z']]\n",
    "\n",
    "b,a =signal.butter(3,(3,60), btype='bandpass', fs=1000)\n",
    "\n",
    "new_subject_filtered_accels=[]\n",
    "for i in new_subject:\n",
    "    filtered_accel=signal.filtfilt(b, a, new_subject[i])\n",
    "    new_subject_filtered_accels.append(filtered_accel)\n",
    "    \n",
    "new_subject_filtered_accels=pd.concat([pd.Series(i) for i in new_subject_filtered_accels], axis=1)\n",
    "\n",
    "#Decreasing the scale of the data so it is easier to establish minimum height of Amplitude\n",
    "\n",
    "standard_accels=new_subject_filtered_accels/100000 \n",
    "\n",
    "standard_accels['time']=dfs_test[8]['time']\n",
    "new_subject_filtered_accels['time']=dfs_test[8]['time']"
   ]
  },
  {
   "cell_type": "code",
   "execution_count": 679,
   "id": "19c5e157",
   "metadata": {},
   "outputs": [],
   "source": [
    "whole_signal_peaks, whole_signal_heights=scipy.signal.find_peaks(standard_accels[1], height=(1000,2000), threshold=.62)\n",
    "\n",
    "whole_signal_peaks=pd.Series(whole_signal_peaks)/1000\n",
    "\n",
    "result=process_peak_times(whole_signal_peaks, 75)\n",
    "\n",
    "result=pd.concat(result, axis=0)\n",
    "\n",
    "result=result.reset_index()\n",
    "result['diff']=result[0].diff()"
   ]
  },
  {
   "cell_type": "code",
   "execution_count": 680,
   "id": "d0aad9b8",
   "metadata": {},
   "outputs": [
    {
     "name": "stderr",
     "output_type": "stream",
     "text": [
      "/var/folders/wv/c3g7vgxd10n0mdl2_flcjj480000gn/T/ipykernel_24287/325102324.py:5: FutureWarning: The frame.append method is deprecated and will be removed from pandas in a future version. Use pandas.concat instead.\n",
      "  activity_segment_times=activity_segment_times.append(result.iloc[added_value])\n",
      "/var/folders/wv/c3g7vgxd10n0mdl2_flcjj480000gn/T/ipykernel_24287/325102324.py:6: FutureWarning: The frame.append method is deprecated and will be removed from pandas in a future version. Use pandas.concat instead.\n",
      "  activity_segment_times=activity_segment_times.append(result.iloc[0])\n"
     ]
    }
   ],
   "source": [
    "activity_segment_times=result[result['diff']>50]\n",
    "\n",
    "#Add the index of the value preceding the change in difference\n",
    "added_value=activity_segment_times.index[0]-1\n",
    "activity_segment_times=activity_segment_times.append(result.iloc[added_value])\n",
    "activity_segment_times=activity_segment_times.append(result.iloc[0])\n",
    "\n",
    "activity_segment_times=activity_segment_times[0]\n",
    "activity_segment_times=activity_segment_times.sort_values()\n",
    "\n",
    "activity_segment_times=list(activity_segment_times)\n",
    "activity_segment_times=[int(i) for i in activity_segment_times]\n",
    "activity_segment_times.append(0)\n",
    "activity_segment_times.sort()"
   ]
  },
  {
   "cell_type": "code",
   "execution_count": 682,
   "id": "dc15796d",
   "metadata": {},
   "outputs": [
    {
     "data": {
      "text/plain": [
       "[0, 698, 953, 1718, 2060]"
      ]
     },
     "execution_count": 682,
     "metadata": {},
     "output_type": "execute_result"
    }
   ],
   "source": [
    "activity_segment_times"
   ]
  },
  {
   "cell_type": "code",
   "execution_count": 683,
   "id": "0e0f5e3f",
   "metadata": {},
   "outputs": [],
   "source": [
    "activity_segment_times=audit_activity_segment_times(activity_segment_times, result)"
   ]
  },
  {
   "cell_type": "code",
   "execution_count": 684,
   "id": "f4a62f9e",
   "metadata": {},
   "outputs": [
    {
     "data": {
      "text/plain": [
       "[0, 698, 953, 1718, 2060]"
      ]
     },
     "execution_count": 684,
     "metadata": {},
     "output_type": "execute_result"
    }
   ],
   "source": [
    "activity_segment_times"
   ]
  },
  {
   "cell_type": "code",
   "execution_count": 685,
   "id": "571598f8",
   "metadata": {},
   "outputs": [
    {
     "data": {
      "text/plain": [
       "[                  0           1           2     time\n",
       " 1        -15.901421  -15.205550  -16.194543    0.001\n",
       " 2        -14.790380  -31.880833  -22.024879    0.002\n",
       " 3        -12.968629  -44.795812  -25.695954    0.003\n",
       " 4        -10.239790  -52.607263  -26.495636    0.004\n",
       " 5         -6.564447  -54.546027  -24.092608    0.005\n",
       " ...             ...         ...         ...      ...\n",
       " 697996  1354.807032  519.456775  364.674222  697.996\n",
       " 697997  1377.904505  559.066466  354.034171  697.997\n",
       " 697998  1347.256455  588.927998  324.261680  697.998\n",
       " 697999  1267.407468  609.426959  276.315802  697.999\n",
       " 698000  1148.196162  621.608904  213.406596  698.000\n",
       " \n",
       " [698000 rows x 4 columns],\n",
       "                   0           1           2     time\n",
       " 698001  1002.761807  626.702812  140.554067  698.001\n",
       " 698002   844.893591  625.624736   63.778247  698.002\n",
       " 698003   686.725298  618.709195  -10.825732  698.003\n",
       " 698004   537.426373  605.770050  -77.885696  698.004\n",
       " 698005   402.894711  586.400714 -133.306815  698.005\n",
       " ...             ...         ...         ...      ...\n",
       " 952996   114.796522 -416.704360 -479.341453  952.996\n",
       " 952997   130.794388 -424.498894 -512.085934  952.997\n",
       " 952998    94.045638 -390.570581 -593.624363  952.998\n",
       " 952999    10.305791 -320.163400 -717.875332  952.999\n",
       " 953000  -109.065006 -223.352373 -872.779170  953.000\n",
       " \n",
       " [255000 rows x 4 columns],\n",
       "                   0           1            2      time\n",
       " 953001  -249.310413 -113.373696 -1042.142744   953.001\n",
       " 953002  -395.180164   -4.239216 -1208.415804   953.002\n",
       " 953003  -533.471847   91.580459 -1355.484453   953.003\n",
       " 953004  -654.514924  164.791651 -1470.736400   953.004\n",
       " 953005  -752.564371  210.064496 -1546.160760   953.005\n",
       " ...             ...         ...          ...       ...\n",
       " 1717996 -216.406591  179.430702 -1804.449880  1717.996\n",
       " 1717997 -240.875320  158.862392 -1834.860492  1717.997\n",
       " 1717998 -259.574554  175.961594 -1852.351352  1717.998\n",
       " 1717999 -271.722985  226.057620 -1856.405526  1717.999\n",
       " 1718000 -276.414315  300.605424 -1847.119084  1718.000\n",
       " \n",
       " [765000 rows x 4 columns],\n",
       "                   0           1            2      time\n",
       " 1718001 -272.252128  388.688701 -1824.743348  1718.001\n",
       " 1718002 -257.155107  479.025498 -1789.254750  1718.002\n",
       " 1718003 -228.552199  561.799397 -1740.236523  1718.003\n",
       " 1718004 -183.968064  629.834690 -1677.156061  1718.004\n",
       " 1718005 -121.779198  679.038966 -1599.879693  1718.005\n",
       " ...             ...         ...          ...       ...\n",
       " 2059996 -204.566464   62.301014   808.551113  2059.996\n",
       " 2059997 -188.352335   65.334295   831.021504  2059.997\n",
       " 2059998 -167.519667   80.556499   813.140879  2059.998\n",
       " 2059999 -142.317355  106.878336   759.014555  2059.999\n",
       " 2060000 -113.608283  141.750196   676.861220  2060.000\n",
       " \n",
       " [342000 rows x 4 columns]]"
      ]
     },
     "execution_count": 685,
     "metadata": {},
     "output_type": "execute_result"
    }
   ],
   "source": [
    "segments=pd.cut(standard_accels['time'], activity_segment_times)\n",
    "activity_segments=[standard_accels[segments == category] for category in segments.cat.categories]\n",
    "activity_segments"
   ]
  },
  {
   "cell_type": "code",
   "execution_count": 686,
   "id": "b42829fa",
   "metadata": {},
   "outputs": [],
   "source": [
    "#Return the times to their initial index...in this case x1000 because the sampling rate was 1000 Hz\n",
    "activity_segment_indexes=[i*1000 for i in activity_segment_times]\n",
    "\n",
    "time=standard_accels['time'].to_numpy()\n",
    "cadences=[]\n",
    "filtered_signals=[]\n",
    "for idx,segment in enumerate(activity_segment_indexes):\n",
    "    fs=1000\n",
    "    cutoff = 0.5\n",
    "    order=4\n",
    "    b, a = signal.butter(order, cutoff / (fs / 2), btype=\"highpass\")\n",
    "    try:\n",
    "        filtered_signal = signal.filtfilt(b, a, standard_accels[1][activity_segment_indexes[idx]:activity_segment_indexes[idx+1]])\n",
    "        peaks, _ = signal.find_peaks(filtered_signal, height=(1000,2000))\n",
    "        step_durations = np.diff(time[activity_segment_indexes[idx]:activity_segment_indexes[idx+1]][peaks])\n",
    "        step_cadence = 60 / step_durations.mean()\n",
    "        filtered_signals.append(filtered_signal)\n",
    "        cadences.append(step_cadence)\n",
    "        start_time=segment\n",
    "    except:\n",
    "        pass"
   ]
  },
  {
   "cell_type": "code",
   "execution_count": 687,
   "id": "6089a384",
   "metadata": {},
   "outputs": [
    {
     "data": {
      "text/plain": [
       "[9.184565503657229, 144.64870467948768, 7.531754977365508, 148.30020317965693]"
      ]
     },
     "execution_count": 687,
     "metadata": {},
     "output_type": "execute_result"
    }
   ],
   "source": [
    "cadences"
   ]
  },
  {
   "cell_type": "code",
   "execution_count": 688,
   "id": "e1b0d429",
   "metadata": {},
   "outputs": [
    {
     "data": {
      "text/plain": [
       "[<matplotlib.lines.Line2D at 0x3306137f0>]"
      ]
     },
     "execution_count": 688,
     "metadata": {},
     "output_type": "execute_result"
    },
    {
     "data": {
      "image/png": "[encoded data removed]",
      "text/plain": [
       "<Figure size 640x480 with 1 Axes>"
      ]
     },
     "metadata": {},
     "output_type": "display_data"
    }
   ],
   "source": [
    "plt.plot(activity_segments[0][1])\n",
    "plt.plot(activity_segments[1][1])\n",
    "plt.plot(activity_segments[2][1])\n",
    "plt.plot(activity_segments[3][1])"
   ]
  },
  {
   "cell_type": "code",
   "execution_count": null,
   "id": "78ed9dac",
   "metadata": {},
   "outputs": [],
   "source": []
  }
 ],
 "metadata": {
  "kernelspec": {
   "display_name": "Python 3 (ipykernel)",
   "language": "python",
   "name": "python3"
  },
  "language_info": {
   "codemirror_mode": {
    "name": "ipython",
    "version": 3
   },
   "file_extension": ".py",
   "mimetype": "text/x-python",
   "name": "python",
   "nbconvert_exporter": "python",
   "pygments_lexer": "ipython3",
   "version": "3.10.8"
  }
 },
 "nbformat": 4,
 "nbformat_minor": 5
}
