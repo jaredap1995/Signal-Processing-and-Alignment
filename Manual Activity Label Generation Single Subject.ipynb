{
 "cells": [
  {
   "cell_type": "code",
   "execution_count": 389,
   "id": "4a47d105",
   "metadata": {},
   "outputs": [],
   "source": [
    "import numpy as np\n",
    "import pandas as pd\n",
    "import os\n",
    "import glob\n",
    "import matplotlib.pyplot as plt\n",
    "import pyedflib\n",
    "import mne\n",
    "import neurokit2 as nk2\n",
    "import p_tqdm\n",
    "from scipy.stats import trim_mean\n",
    "from scipy import signal\n",
    "from scipy.optimize import least_squares\n",
    "import statsmodels.api as sm\n",
    "from collections import defaultdict\n",
    "import wfdb\n",
    "from sklearn.preprocessing import PolynomialFeatures\n",
    "from sklearn.linear_model import RANSACRegressor\n",
    "from scipy.interpolate import interp1d\n",
    "import shutil\n",
    "from scipy.signal import savgol_filter"
   ]
  },
  {
   "cell_type": "code",
   "execution_count": 9,
   "id": "4fc27670",
   "metadata": {},
   "outputs": [
    {
     "data": {
      "text/plain": [
       "'/Users/jaredperez/raw_data'"
      ]
     },
     "execution_count": 9,
     "metadata": {},
     "output_type": "execute_result"
    }
   ],
   "source": [
    "shutil.move('/Users/jaredperez/Downloads/simultaneous-physiological-measurements-with-five-devices-at-different-cognitive-and-physical-loads-1.0.1/raw_data/',\n",
    "           '/Users/jaredperez/')\n"
   ]
  },
  {
   "cell_type": "code",
   "execution_count": 86,
   "id": "c4909c52",
   "metadata": {},
   "outputs": [],
   "source": [
    "result, fields = wfdb.rdsamp('x010')\n",
    "header=fields['sig_name']\n",
    "desired_result=pd.DataFrame(data=result, columns=header)"
   ]
  },
  {
   "cell_type": "code",
   "execution_count": 41,
   "id": "7881358c",
   "metadata": {},
   "outputs": [
    {
     "data": {
      "text/plain": [
       "['/Users/jaredperez/Multiple Physiological Measurements at Different Loads/raw_data/x010_NEXUS.edf',\n",
       " '/Users/jaredperez/Multiple Physiological Measurements at Different Loads/raw_data/x001_SOT.edf',\n",
       " '/Users/jaredperez/Multiple Physiological Measurements at Different Loads/raw_data/x011_SOT.edf',\n",
       " '/Users/jaredperez/Multiple Physiological Measurements at Different Loads/raw_data/x004_NEXUS.edf',\n",
       " '/Users/jaredperez/Multiple Physiological Measurements at Different Loads/raw_data/x002_POLAR.hrm',\n",
       " '/Users/jaredperez/Multiple Physiological Measurements at Different Loads/raw_data/x013_HX.edf',\n",
       " '/Users/jaredperez/Multiple Physiological Measurements at Different Loads/raw_data/x003_FAROS.edf',\n",
       " '/Users/jaredperez/Multiple Physiological Measurements at Different Loads/raw_data/x009_NEXUS.edf',\n",
       " '/Users/jaredperez/Multiple Physiological Measurements at Different Loads/raw_data/x001_HX.edf',\n",
       " '/Users/jaredperez/Multiple Physiological Measurements at Different Loads/raw_data/x008_SOT.edf',\n",
       " '/Users/jaredperez/Multiple Physiological Measurements at Different Loads/raw_data/x004_POLAR.hrm',\n",
       " '/Users/jaredperez/Multiple Physiological Measurements at Different Loads/raw_data/x003_HX.edf',\n",
       " '/Users/jaredperez/Multiple Physiological Measurements at Different Loads/raw_data/x009_SOT.edf',\n",
       " '/Users/jaredperez/Multiple Physiological Measurements at Different Loads/raw_data/x011_HX.edf',\n",
       " '/Users/jaredperez/Multiple Physiological Measurements at Different Loads/raw_data/x010_POLAR.hrm',\n",
       " '/Users/jaredperez/Multiple Physiological Measurements at Different Loads/raw_data/x002_NEXUS.edf',\n",
       " '/Users/jaredperez/Multiple Physiological Measurements at Different Loads/raw_data/x008_FAROS.edf',\n",
       " '/Users/jaredperez/Multiple Physiological Measurements at Different Loads/raw_data/x009_POLAR.hrm',\n",
       " '/Users/jaredperez/Multiple Physiological Measurements at Different Loads/raw_data/x010_SOT.edf',\n",
       " '/Users/jaredperez/Multiple Physiological Measurements at Different Loads/raw_data/x011_FAROS.edf',\n",
       " '/Users/jaredperez/Multiple Physiological Measurements at Different Loads/raw_data/x005_FAROS.edf',\n",
       " '/Users/jaredperez/Multiple Physiological Measurements at Different Loads/raw_data/x005_NEXUS.edf',\n",
       " '/Users/jaredperez/Multiple Physiological Measurements at Different Loads/raw_data/x011_NEXUS.edf',\n",
       " '/Users/jaredperez/Multiple Physiological Measurements at Different Loads/raw_data/x007_HX.edf',\n",
       " '/Users/jaredperez/Multiple Physiological Measurements at Different Loads/raw_data/x003_POLAR.hrm',\n",
       " '/Users/jaredperez/Multiple Physiological Measurements at Different Loads/raw_data/x002_FAROS.edf',\n",
       " '/Users/jaredperez/Multiple Physiological Measurements at Different Loads/raw_data/x008_NEXUS.edf',\n",
       " '/Users/jaredperez/Multiple Physiological Measurements at Different Loads/raw_data/x002_SOT.edf',\n",
       " '/Users/jaredperez/Multiple Physiological Measurements at Different Loads/raw_data/x012_SOT.edf',\n",
       " '/Users/jaredperez/Multiple Physiological Measurements at Different Loads/raw_data/x011_POLAR.hrm',\n",
       " '/Users/jaredperez/Multiple Physiological Measurements at Different Loads/raw_data/x005_POLAR.hrm',\n",
       " '/Users/jaredperez/Multiple Physiological Measurements at Different Loads/raw_data/x013_SOT.edf',\n",
       " '/Users/jaredperez/Multiple Physiological Measurements at Different Loads/raw_data/x003_SOT.edf',\n",
       " '/Users/jaredperez/Multiple Physiological Measurements at Different Loads/raw_data/x003_NEXUS.edf',\n",
       " '/Users/jaredperez/Multiple Physiological Measurements at Different Loads/raw_data/x009_FAROS.edf',\n",
       " '/Users/jaredperez/Multiple Physiological Measurements at Different Loads/raw_data/x008_POLAR.hrm',\n",
       " '/Users/jaredperez/Multiple Physiological Measurements at Different Loads/raw_data/x005_HX.edf',\n",
       " '/Users/jaredperez/Multiple Physiological Measurements at Different Loads/raw_data/x004_FAROS.edf',\n",
       " '/Users/jaredperez/Multiple Physiological Measurements at Different Loads/raw_data/x010_FAROS.edf',\n",
       " '/Users/jaredperez/Multiple Physiological Measurements at Different Loads/raw_data/x009_HX.edf',\n",
       " '/Users/jaredperez/Multiple Physiological Measurements at Different Loads/raw_data/x012_HX.edf',\n",
       " '/Users/jaredperez/Multiple Physiological Measurements at Different Loads/raw_data/x012_NEXUS.edf',\n",
       " '/Users/jaredperez/Multiple Physiological Measurements at Different Loads/raw_data/x006_NEXUS.edf',\n",
       " '/Users/jaredperez/Multiple Physiological Measurements at Different Loads/raw_data/x001_FAROS.edf',\n",
       " '/Users/jaredperez/Multiple Physiological Measurements at Different Loads/raw_data/x006_SOT.edf',\n",
       " '/Users/jaredperez/Multiple Physiological Measurements at Different Loads/raw_data/x006_POLAR.hrm',\n",
       " '/Users/jaredperez/Multiple Physiological Measurements at Different Loads/raw_data/x007_SOT.edf',\n",
       " '/Users/jaredperez/Multiple Physiological Measurements at Different Loads/raw_data/x012_POLAR.hrm',\n",
       " '/Users/jaredperez/Multiple Physiological Measurements at Different Loads/raw_data/x013_FAROS.edf',\n",
       " '/Users/jaredperez/Multiple Physiological Measurements at Different Loads/raw_data/x007_FAROS.edf',\n",
       " '/Users/jaredperez/Multiple Physiological Measurements at Different Loads/raw_data/x002_HX.edf',\n",
       " '/Users/jaredperez/Multiple Physiological Measurements at Different Loads/raw_data/x010_HX.edf',\n",
       " '/Users/jaredperez/Multiple Physiological Measurements at Different Loads/raw_data/x001_POLAR.hrm',\n",
       " '/Users/jaredperez/Multiple Physiological Measurements at Different Loads/raw_data/x005_SOT.edf',\n",
       " '/Users/jaredperez/Multiple Physiological Measurements at Different Loads/raw_data/x007_NEXUS.edf',\n",
       " '/Users/jaredperez/Multiple Physiological Measurements at Different Loads/raw_data/x013_NEXUS.edf',\n",
       " '/Users/jaredperez/Multiple Physiological Measurements at Different Loads/raw_data/x006_HX.edf',\n",
       " '/Users/jaredperez/Multiple Physiological Measurements at Different Loads/raw_data/x001_NEXUS.edf',\n",
       " '/Users/jaredperez/Multiple Physiological Measurements at Different Loads/raw_data/x004_HX.edf',\n",
       " '/Users/jaredperez/Multiple Physiological Measurements at Different Loads/raw_data/x008_HX.edf',\n",
       " '/Users/jaredperez/Multiple Physiological Measurements at Different Loads/raw_data/x013_POLAR.hrm',\n",
       " '/Users/jaredperez/Multiple Physiological Measurements at Different Loads/raw_data/x007_POLAR.hrm',\n",
       " '/Users/jaredperez/Multiple Physiological Measurements at Different Loads/raw_data/x006_FAROS.edf',\n",
       " '/Users/jaredperez/Multiple Physiological Measurements at Different Loads/raw_data/x012_FAROS.edf',\n",
       " '/Users/jaredperez/Multiple Physiological Measurements at Different Loads/raw_data/x004_SOT.edf']"
      ]
     },
     "execution_count": 41,
     "metadata": {},
     "output_type": "execute_result"
    }
   ],
   "source": [
    "path=('/Users/jaredperez/Multiple Physiological Measurements at Different Loads/raw_data/*')\n",
    "glob.glob('/Users/jaredperez/Multiple Physiological Measurements at Different Loads/raw_data/*')"
   ]
  },
  {
   "cell_type": "code",
   "execution_count": 61,
   "id": "9e61fb63",
   "metadata": {},
   "outputs": [
    {
     "name": "stdout",
     "output_type": "stream",
     "text": [
      "Extracting EDF parameters from /Users/jaredperez/Multiple Physiological Measurements at Different Loads/raw_data/x010_NEXUS.edf...\n",
      "EDF file detected\n",
      "Setting channel info structure...\n",
      "Creating raw.info structure...\n",
      "Extracting EDF parameters from /Users/jaredperez/Multiple Physiological Measurements at Different Loads/raw_data/x001_SOT.edf...\n",
      "EDF file detected\n",
      "Setting channel info structure...\n",
      "Creating raw.info structure...\n",
      "Extracting EDF parameters from /Users/jaredperez/Multiple Physiological Measurements at Different Loads/raw_data/x011_SOT.edf...\n",
      "EDF file detected\n",
      "Setting channel info structure...\n",
      "Creating raw.info structure...\n",
      "Extracting EDF parameters from /Users/jaredperez/Multiple Physiological Measurements at Different Loads/raw_data/x004_NEXUS.edf...\n",
      "EDF file detected\n",
      "Setting channel info structure...\n",
      "Creating raw.info structure...\n",
      "Extracting EDF parameters from /Users/jaredperez/Multiple Physiological Measurements at Different Loads/raw_data/x013_HX.edf...\n",
      "EDF file detected\n",
      "Setting channel info structure...\n",
      "Creating raw.info structure...\n",
      "Extracting EDF parameters from /Users/jaredperez/Multiple Physiological Measurements at Different Loads/raw_data/x003_FAROS.edf...\n",
      "EDF file detected\n",
      "Setting channel info structure...\n",
      "Creating raw.info structure...\n",
      "Extracting EDF parameters from /Users/jaredperez/Multiple Physiological Measurements at Different Loads/raw_data/x009_NEXUS.edf...\n",
      "EDF file detected\n",
      "Setting channel info structure...\n",
      "Creating raw.info structure...\n",
      "Extracting EDF parameters from /Users/jaredperez/Multiple Physiological Measurements at Different Loads/raw_data/x001_HX.edf...\n",
      "EDF file detected\n",
      "Setting channel info structure...\n",
      "Creating raw.info structure...\n",
      "Extracting EDF parameters from /Users/jaredperez/Multiple Physiological Measurements at Different Loads/raw_data/x008_SOT.edf...\n",
      "EDF file detected\n",
      "Setting channel info structure...\n",
      "Creating raw.info structure...\n",
      "Extracting EDF parameters from /Users/jaredperez/Multiple Physiological Measurements at Different Loads/raw_data/x003_HX.edf...\n",
      "EDF file detected\n",
      "Setting channel info structure...\n",
      "Creating raw.info structure...\n",
      "Extracting EDF parameters from /Users/jaredperez/Multiple Physiological Measurements at Different Loads/raw_data/x009_SOT.edf...\n",
      "EDF file detected\n",
      "Setting channel info structure...\n",
      "Creating raw.info structure...\n",
      "Extracting EDF parameters from /Users/jaredperez/Multiple Physiological Measurements at Different Loads/raw_data/x011_HX.edf...\n",
      "EDF file detected\n",
      "Setting channel info structure...\n",
      "Creating raw.info structure...\n",
      "Extracting EDF parameters from /Users/jaredperez/Multiple Physiological Measurements at Different Loads/raw_data/x002_NEXUS.edf...\n",
      "EDF file detected\n",
      "Setting channel info structure...\n",
      "Creating raw.info structure...\n",
      "Extracting EDF parameters from /Users/jaredperez/Multiple Physiological Measurements at Different Loads/raw_data/x008_FAROS.edf...\n",
      "EDF file detected\n",
      "Setting channel info structure...\n",
      "Creating raw.info structure...\n",
      "Extracting EDF parameters from /Users/jaredperez/Multiple Physiological Measurements at Different Loads/raw_data/x010_SOT.edf...\n",
      "EDF file detected\n",
      "Setting channel info structure...\n",
      "Creating raw.info structure...\n",
      "Extracting EDF parameters from /Users/jaredperez/Multiple Physiological Measurements at Different Loads/raw_data/x011_FAROS.edf...\n",
      "EDF file detected\n",
      "Setting channel info structure...\n",
      "Creating raw.info structure...\n",
      "Extracting EDF parameters from /Users/jaredperez/Multiple Physiological Measurements at Different Loads/raw_data/x005_FAROS.edf...\n",
      "EDF file detected\n",
      "Setting channel info structure...\n",
      "Creating raw.info structure...\n",
      "Extracting EDF parameters from /Users/jaredperez/Multiple Physiological Measurements at Different Loads/raw_data/x005_NEXUS.edf...\n",
      "EDF file detected\n",
      "Setting channel info structure...\n",
      "Creating raw.info structure...\n",
      "Extracting EDF parameters from /Users/jaredperez/Multiple Physiological Measurements at Different Loads/raw_data/x011_NEXUS.edf...\n",
      "EDF file detected\n",
      "Setting channel info structure...\n",
      "Creating raw.info structure...\n",
      "Extracting EDF parameters from /Users/jaredperez/Multiple Physiological Measurements at Different Loads/raw_data/x007_HX.edf...\n",
      "EDF file detected\n",
      "Setting channel info structure...\n",
      "Creating raw.info structure...\n",
      "Extracting EDF parameters from /Users/jaredperez/Multiple Physiological Measurements at Different Loads/raw_data/x002_FAROS.edf...\n",
      "EDF file detected\n",
      "Setting channel info structure...\n",
      "Creating raw.info structure...\n",
      "Extracting EDF parameters from /Users/jaredperez/Multiple Physiological Measurements at Different Loads/raw_data/x008_NEXUS.edf...\n",
      "EDF file detected\n",
      "Setting channel info structure...\n",
      "Creating raw.info structure...\n",
      "Extracting EDF parameters from /Users/jaredperez/Multiple Physiological Measurements at Different Loads/raw_data/x002_SOT.edf...\n",
      "EDF file detected\n",
      "Setting channel info structure...\n",
      "Creating raw.info structure...\n",
      "Extracting EDF parameters from /Users/jaredperez/Multiple Physiological Measurements at Different Loads/raw_data/x012_SOT.edf...\n",
      "EDF file detected\n",
      "Setting channel info structure...\n",
      "Creating raw.info structure...\n",
      "Extracting EDF parameters from /Users/jaredperez/Multiple Physiological Measurements at Different Loads/raw_data/x013_SOT.edf...\n",
      "EDF file detected\n",
      "Setting channel info structure...\n",
      "Creating raw.info structure...\n",
      "Extracting EDF parameters from /Users/jaredperez/Multiple Physiological Measurements at Different Loads/raw_data/x003_SOT.edf...\n",
      "EDF file detected\n",
      "Setting channel info structure...\n",
      "Creating raw.info structure...\n",
      "Extracting EDF parameters from /Users/jaredperez/Multiple Physiological Measurements at Different Loads/raw_data/x003_NEXUS.edf...\n",
      "EDF file detected\n",
      "Setting channel info structure...\n",
      "Creating raw.info structure...\n",
      "Extracting EDF parameters from /Users/jaredperez/Multiple Physiological Measurements at Different Loads/raw_data/x009_FAROS.edf...\n",
      "EDF file detected\n",
      "Setting channel info structure...\n",
      "Creating raw.info structure...\n",
      "Extracting EDF parameters from /Users/jaredperez/Multiple Physiological Measurements at Different Loads/raw_data/x005_HX.edf...\n",
      "EDF file detected\n",
      "Setting channel info structure...\n",
      "Creating raw.info structure...\n",
      "Extracting EDF parameters from /Users/jaredperez/Multiple Physiological Measurements at Different Loads/raw_data/x004_FAROS.edf...\n",
      "EDF file detected\n",
      "Setting channel info structure...\n",
      "Creating raw.info structure...\n",
      "Extracting EDF parameters from /Users/jaredperez/Multiple Physiological Measurements at Different Loads/raw_data/x010_FAROS.edf...\n",
      "EDF file detected\n",
      "Setting channel info structure...\n",
      "Creating raw.info structure...\n",
      "Extracting EDF parameters from /Users/jaredperez/Multiple Physiological Measurements at Different Loads/raw_data/x009_HX.edf...\n",
      "EDF file detected\n",
      "Setting channel info structure...\n",
      "Creating raw.info structure...\n",
      "Extracting EDF parameters from /Users/jaredperez/Multiple Physiological Measurements at Different Loads/raw_data/x012_HX.edf...\n",
      "EDF file detected\n",
      "Setting channel info structure...\n",
      "Creating raw.info structure...\n",
      "Extracting EDF parameters from /Users/jaredperez/Multiple Physiological Measurements at Different Loads/raw_data/x012_NEXUS.edf...\n",
      "EDF file detected\n",
      "Setting channel info structure...\n",
      "Creating raw.info structure...\n",
      "Extracting EDF parameters from /Users/jaredperez/Multiple Physiological Measurements at Different Loads/raw_data/x006_NEXUS.edf...\n",
      "EDF file detected\n",
      "Setting channel info structure...\n",
      "Creating raw.info structure...\n",
      "Extracting EDF parameters from /Users/jaredperez/Multiple Physiological Measurements at Different Loads/raw_data/x001_FAROS.edf...\n",
      "EDF file detected\n",
      "Setting channel info structure...\n",
      "Creating raw.info structure...\n",
      "Extracting EDF parameters from /Users/jaredperez/Multiple Physiological Measurements at Different Loads/raw_data/x006_SOT.edf...\n",
      "EDF file detected\n",
      "Setting channel info structure...\n",
      "Creating raw.info structure...\n",
      "Extracting EDF parameters from /Users/jaredperez/Multiple Physiological Measurements at Different Loads/raw_data/x007_SOT.edf...\n",
      "EDF file detected\n",
      "Setting channel info structure...\n",
      "Creating raw.info structure...\n",
      "Extracting EDF parameters from /Users/jaredperez/Multiple Physiological Measurements at Different Loads/raw_data/x013_FAROS.edf...\n"
     ]
    },
    {
     "name": "stdout",
     "output_type": "stream",
     "text": [
      "EDF file detected\n",
      "Setting channel info structure...\n",
      "Creating raw.info structure...\n",
      "Extracting EDF parameters from /Users/jaredperez/Multiple Physiological Measurements at Different Loads/raw_data/x007_FAROS.edf...\n",
      "EDF file detected\n",
      "Setting channel info structure...\n",
      "Creating raw.info structure...\n",
      "Extracting EDF parameters from /Users/jaredperez/Multiple Physiological Measurements at Different Loads/raw_data/x002_HX.edf...\n",
      "EDF file detected\n",
      "Setting channel info structure...\n",
      "Creating raw.info structure...\n",
      "Extracting EDF parameters from /Users/jaredperez/Multiple Physiological Measurements at Different Loads/raw_data/x010_HX.edf...\n",
      "EDF file detected\n",
      "Setting channel info structure...\n",
      "Creating raw.info structure...\n",
      "Extracting EDF parameters from /Users/jaredperez/Multiple Physiological Measurements at Different Loads/raw_data/x005_SOT.edf...\n",
      "EDF file detected\n",
      "Setting channel info structure...\n",
      "Creating raw.info structure...\n",
      "Extracting EDF parameters from /Users/jaredperez/Multiple Physiological Measurements at Different Loads/raw_data/x007_NEXUS.edf...\n",
      "EDF file detected\n",
      "Setting channel info structure...\n",
      "Creating raw.info structure...\n",
      "Extracting EDF parameters from /Users/jaredperez/Multiple Physiological Measurements at Different Loads/raw_data/x013_NEXUS.edf...\n",
      "EDF file detected\n",
      "Setting channel info structure...\n",
      "Creating raw.info structure...\n",
      "Extracting EDF parameters from /Users/jaredperez/Multiple Physiological Measurements at Different Loads/raw_data/x006_HX.edf...\n",
      "EDF file detected\n",
      "Setting channel info structure...\n",
      "Creating raw.info structure...\n",
      "Extracting EDF parameters from /Users/jaredperez/Multiple Physiological Measurements at Different Loads/raw_data/x001_NEXUS.edf...\n",
      "EDF file detected\n",
      "Setting channel info structure...\n",
      "Creating raw.info structure...\n",
      "Extracting EDF parameters from /Users/jaredperez/Multiple Physiological Measurements at Different Loads/raw_data/x004_HX.edf...\n",
      "EDF file detected\n",
      "Setting channel info structure...\n",
      "Creating raw.info structure...\n",
      "Extracting EDF parameters from /Users/jaredperez/Multiple Physiological Measurements at Different Loads/raw_data/x008_HX.edf...\n",
      "EDF file detected\n",
      "Setting channel info structure...\n",
      "Creating raw.info structure...\n",
      "Extracting EDF parameters from /Users/jaredperez/Multiple Physiological Measurements at Different Loads/raw_data/x006_FAROS.edf...\n",
      "EDF file detected\n",
      "Setting channel info structure...\n",
      "Creating raw.info structure...\n",
      "Extracting EDF parameters from /Users/jaredperez/Multiple Physiological Measurements at Different Loads/raw_data/x012_FAROS.edf...\n",
      "EDF file detected\n",
      "Setting channel info structure...\n",
      "Creating raw.info structure...\n",
      "Extracting EDF parameters from /Users/jaredperez/Multiple Physiological Measurements at Different Loads/raw_data/x004_SOT.edf...\n",
      "EDF file detected\n",
      "Setting channel info structure...\n",
      "Creating raw.info structure...\n"
     ]
    }
   ],
   "source": [
    "dfs = defaultdict(lambda: defaultdict(pd.DataFrame))\n",
    "\n",
    "for files in glob.glob('/Users/jaredperez/Multiple Physiological Measurements at Different Loads/raw_data/*'):\n",
    "    key = os.path.splitext(os.path.basename(files))[1]\n",
    "    base_name = os.path.splitext(os.path.basename(files))[0]\n",
    "    sensor = base_name.split('_')[-1]\n",
    "    if key == '.edf':\n",
    "        file = mne.io.read_raw_edf(files)\n",
    "        file = file.to_data_frame()\n",
    "    else:\n",
    "        file = pd.read_csv(files, on_bad_lines='skip', names=['R-R Interval (ms)'])\n",
    "    dfs[sensor][base_name] = file"
   ]
  },
  {
   "cell_type": "code",
   "execution_count": 99,
   "id": "6cae390b",
   "metadata": {},
   "outputs": [
    {
     "data": {
      "text/html": [
       "<div>\n",
       "<style scoped>\n",
       "    .dataframe tbody tr th:only-of-type {\n",
       "        vertical-align: middle;\n",
       "    }\n",
       "\n",
       "    .dataframe tbody tr th {\n",
       "        vertical-align: top;\n",
       "    }\n",
       "\n",
       "    .dataframe thead tr th {\n",
       "        text-align: left;\n",
       "    }\n",
       "</style>\n",
       "<table border=\"1\" class=\"dataframe\">\n",
       "  <thead>\n",
       "    <tr>\n",
       "      <th></th>\n",
       "      <th colspan=\"8\" halign=\"left\">x003_FAROS</th>\n",
       "      <th colspan=\"2\" halign=\"left\">x008_FAROS</th>\n",
       "      <th>...</th>\n",
       "      <th colspan=\"2\" halign=\"left\">x006_FAROS</th>\n",
       "      <th colspan=\"8\" halign=\"left\">x012_FAROS</th>\n",
       "    </tr>\n",
       "    <tr>\n",
       "      <th></th>\n",
       "      <th>time</th>\n",
       "      <th>ECG</th>\n",
       "      <th>Accelerometer_X</th>\n",
       "      <th>Accelerometer_Y</th>\n",
       "      <th>Accelerometer_Z</th>\n",
       "      <th>Marker</th>\n",
       "      <th>HRV</th>\n",
       "      <th>DEV_Temperature</th>\n",
       "      <th>time</th>\n",
       "      <th>ECG</th>\n",
       "      <th>...</th>\n",
       "      <th>HRV</th>\n",
       "      <th>DEV_Temperature</th>\n",
       "      <th>time</th>\n",
       "      <th>ECG</th>\n",
       "      <th>Accelerometer_X</th>\n",
       "      <th>Accelerometer_Y</th>\n",
       "      <th>Accelerometer_Z</th>\n",
       "      <th>Marker</th>\n",
       "      <th>HRV</th>\n",
       "      <th>DEV_Temperature</th>\n",
       "    </tr>\n",
       "  </thead>\n",
       "  <tbody>\n",
       "    <tr>\n",
       "      <th>0</th>\n",
       "      <td>0.000</td>\n",
       "      <td>944.0</td>\n",
       "      <td>9.100000e+08</td>\n",
       "      <td>-1.075000e+08</td>\n",
       "      <td>-3.930000e+08</td>\n",
       "      <td>-3.276700e+10</td>\n",
       "      <td>2.910383e-08</td>\n",
       "      <td>3.004552e+07</td>\n",
       "      <td>0.000</td>\n",
       "      <td>1104.0</td>\n",
       "      <td>...</td>\n",
       "      <td>-1.455192e-08</td>\n",
       "      <td>2.937351e+07</td>\n",
       "      <td>0.000</td>\n",
       "      <td>3077.0</td>\n",
       "      <td>9.315000e+08</td>\n",
       "      <td>4.100000e+07</td>\n",
       "      <td>-2.990000e+08</td>\n",
       "      <td>3.276600e+10</td>\n",
       "      <td>-5.820766e-08</td>\n",
       "      <td>2.983875e+07</td>\n",
       "    </tr>\n",
       "    <tr>\n",
       "      <th>1</th>\n",
       "      <td>0.001</td>\n",
       "      <td>932.0</td>\n",
       "      <td>9.074109e+08</td>\n",
       "      <td>-1.146383e+08</td>\n",
       "      <td>-3.902630e+08</td>\n",
       "      <td>-3.276700e+10</td>\n",
       "      <td>2.342842e+06</td>\n",
       "      <td>3.004552e+07</td>\n",
       "      <td>0.001</td>\n",
       "      <td>1089.0</td>\n",
       "      <td>...</td>\n",
       "      <td>1.427839e+06</td>\n",
       "      <td>2.937351e+07</td>\n",
       "      <td>0.001</td>\n",
       "      <td>3080.0</td>\n",
       "      <td>9.292019e+08</td>\n",
       "      <td>4.385562e+07</td>\n",
       "      <td>-3.032292e+08</td>\n",
       "      <td>3.276600e+10</td>\n",
       "      <td>-4.981011e+06</td>\n",
       "      <td>2.983875e+07</td>\n",
       "    </tr>\n",
       "    <tr>\n",
       "      <th>2</th>\n",
       "      <td>0.002</td>\n",
       "      <td>929.0</td>\n",
       "      <td>9.039169e+08</td>\n",
       "      <td>-1.205736e+08</td>\n",
       "      <td>-3.876677e+08</td>\n",
       "      <td>-3.276700e+10</td>\n",
       "      <td>4.680403e+06</td>\n",
       "      <td>3.004552e+07</td>\n",
       "      <td>0.002</td>\n",
       "      <td>1081.0</td>\n",
       "      <td>...</td>\n",
       "      <td>2.867822e+06</td>\n",
       "      <td>2.937351e+07</td>\n",
       "      <td>0.002</td>\n",
       "      <td>3082.0</td>\n",
       "      <td>9.277568e+08</td>\n",
       "      <td>4.624682e+07</td>\n",
       "      <td>-3.068126e+08</td>\n",
       "      <td>3.276600e+10</td>\n",
       "      <td>-9.918236e+06</td>\n",
       "      <td>2.983875e+07</td>\n",
       "    </tr>\n",
       "    <tr>\n",
       "      <th>3</th>\n",
       "      <td>0.003</td>\n",
       "      <td>918.0</td>\n",
       "      <td>8.996692e+08</td>\n",
       "      <td>-1.251890e+08</td>\n",
       "      <td>-3.853900e+08</td>\n",
       "      <td>-3.276700e+10</td>\n",
       "      <td>7.012191e+06</td>\n",
       "      <td>3.004552e+07</td>\n",
       "      <td>0.003</td>\n",
       "      <td>1075.0</td>\n",
       "      <td>...</td>\n",
       "      <td>4.319797e+06</td>\n",
       "      <td>2.937351e+07</td>\n",
       "      <td>0.003</td>\n",
       "      <td>3088.0</td>\n",
       "      <td>9.271680e+08</td>\n",
       "      <td>4.802940e+07</td>\n",
       "      <td>-3.095696e+08</td>\n",
       "      <td>3.276600e+10</td>\n",
       "      <td>-1.481116e+07</td>\n",
       "      <td>2.983875e+07</td>\n",
       "    </tr>\n",
       "    <tr>\n",
       "      <th>4</th>\n",
       "      <td>0.004</td>\n",
       "      <td>913.0</td>\n",
       "      <td>8.948533e+08</td>\n",
       "      <td>-1.284129e+08</td>\n",
       "      <td>-3.836073e+08</td>\n",
       "      <td>-3.276700e+10</td>\n",
       "      <td>9.337716e+06</td>\n",
       "      <td>3.004552e+07</td>\n",
       "      <td>0.004</td>\n",
       "      <td>1076.0</td>\n",
       "      <td>...</td>\n",
       "      <td>5.783611e+06</td>\n",
       "      <td>2.937351e+07</td>\n",
       "      <td>0.004</td>\n",
       "      <td>3101.0</td>\n",
       "      <td>9.273917e+08</td>\n",
       "      <td>4.912330e+07</td>\n",
       "      <td>-3.113519e+08</td>\n",
       "      <td>3.276600e+10</td>\n",
       "      <td>-1.965929e+07</td>\n",
       "      <td>2.983875e+07</td>\n",
       "    </tr>\n",
       "    <tr>\n",
       "      <th>...</th>\n",
       "      <td>...</td>\n",
       "      <td>...</td>\n",
       "      <td>...</td>\n",
       "      <td>...</td>\n",
       "      <td>...</td>\n",
       "      <td>...</td>\n",
       "      <td>...</td>\n",
       "      <td>...</td>\n",
       "      <td>...</td>\n",
       "      <td>...</td>\n",
       "      <td>...</td>\n",
       "      <td>...</td>\n",
       "      <td>...</td>\n",
       "      <td>...</td>\n",
       "      <td>...</td>\n",
       "      <td>...</td>\n",
       "      <td>...</td>\n",
       "      <td>...</td>\n",
       "      <td>...</td>\n",
       "      <td>...</td>\n",
       "      <td>...</td>\n",
       "    </tr>\n",
       "    <tr>\n",
       "      <th>3937995</th>\n",
       "      <td>NaN</td>\n",
       "      <td>NaN</td>\n",
       "      <td>NaN</td>\n",
       "      <td>NaN</td>\n",
       "      <td>NaN</td>\n",
       "      <td>NaN</td>\n",
       "      <td>NaN</td>\n",
       "      <td>NaN</td>\n",
       "      <td>3937.995</td>\n",
       "      <td>-9.0</td>\n",
       "      <td>...</td>\n",
       "      <td>NaN</td>\n",
       "      <td>NaN</td>\n",
       "      <td>NaN</td>\n",
       "      <td>NaN</td>\n",
       "      <td>NaN</td>\n",
       "      <td>NaN</td>\n",
       "      <td>NaN</td>\n",
       "      <td>NaN</td>\n",
       "      <td>NaN</td>\n",
       "      <td>NaN</td>\n",
       "    </tr>\n",
       "    <tr>\n",
       "      <th>3937996</th>\n",
       "      <td>NaN</td>\n",
       "      <td>NaN</td>\n",
       "      <td>NaN</td>\n",
       "      <td>NaN</td>\n",
       "      <td>NaN</td>\n",
       "      <td>NaN</td>\n",
       "      <td>NaN</td>\n",
       "      <td>NaN</td>\n",
       "      <td>3937.996</td>\n",
       "      <td>-15.0</td>\n",
       "      <td>...</td>\n",
       "      <td>NaN</td>\n",
       "      <td>NaN</td>\n",
       "      <td>NaN</td>\n",
       "      <td>NaN</td>\n",
       "      <td>NaN</td>\n",
       "      <td>NaN</td>\n",
       "      <td>NaN</td>\n",
       "      <td>NaN</td>\n",
       "      <td>NaN</td>\n",
       "      <td>NaN</td>\n",
       "    </tr>\n",
       "    <tr>\n",
       "      <th>3937997</th>\n",
       "      <td>NaN</td>\n",
       "      <td>NaN</td>\n",
       "      <td>NaN</td>\n",
       "      <td>NaN</td>\n",
       "      <td>NaN</td>\n",
       "      <td>NaN</td>\n",
       "      <td>NaN</td>\n",
       "      <td>NaN</td>\n",
       "      <td>3937.997</td>\n",
       "      <td>8.0</td>\n",
       "      <td>...</td>\n",
       "      <td>NaN</td>\n",
       "      <td>NaN</td>\n",
       "      <td>NaN</td>\n",
       "      <td>NaN</td>\n",
       "      <td>NaN</td>\n",
       "      <td>NaN</td>\n",
       "      <td>NaN</td>\n",
       "      <td>NaN</td>\n",
       "      <td>NaN</td>\n",
       "      <td>NaN</td>\n",
       "    </tr>\n",
       "    <tr>\n",
       "      <th>3937998</th>\n",
       "      <td>NaN</td>\n",
       "      <td>NaN</td>\n",
       "      <td>NaN</td>\n",
       "      <td>NaN</td>\n",
       "      <td>NaN</td>\n",
       "      <td>NaN</td>\n",
       "      <td>NaN</td>\n",
       "      <td>NaN</td>\n",
       "      <td>3937.998</td>\n",
       "      <td>20.0</td>\n",
       "      <td>...</td>\n",
       "      <td>NaN</td>\n",
       "      <td>NaN</td>\n",
       "      <td>NaN</td>\n",
       "      <td>NaN</td>\n",
       "      <td>NaN</td>\n",
       "      <td>NaN</td>\n",
       "      <td>NaN</td>\n",
       "      <td>NaN</td>\n",
       "      <td>NaN</td>\n",
       "      <td>NaN</td>\n",
       "    </tr>\n",
       "    <tr>\n",
       "      <th>3937999</th>\n",
       "      <td>NaN</td>\n",
       "      <td>NaN</td>\n",
       "      <td>NaN</td>\n",
       "      <td>NaN</td>\n",
       "      <td>NaN</td>\n",
       "      <td>NaN</td>\n",
       "      <td>NaN</td>\n",
       "      <td>NaN</td>\n",
       "      <td>3937.999</td>\n",
       "      <td>7.0</td>\n",
       "      <td>...</td>\n",
       "      <td>NaN</td>\n",
       "      <td>NaN</td>\n",
       "      <td>NaN</td>\n",
       "      <td>NaN</td>\n",
       "      <td>NaN</td>\n",
       "      <td>NaN</td>\n",
       "      <td>NaN</td>\n",
       "      <td>NaN</td>\n",
       "      <td>NaN</td>\n",
       "      <td>NaN</td>\n",
       "    </tr>\n",
       "  </tbody>\n",
       "</table>\n",
       "<p>3938000 rows × 104 columns</p>\n",
       "</div>"
      ],
      "text/plain": [
       "        x003_FAROS                                                         \\\n",
       "              time    ECG Accelerometer_X Accelerometer_Y Accelerometer_Z   \n",
       "0            0.000  944.0    9.100000e+08   -1.075000e+08   -3.930000e+08   \n",
       "1            0.001  932.0    9.074109e+08   -1.146383e+08   -3.902630e+08   \n",
       "2            0.002  929.0    9.039169e+08   -1.205736e+08   -3.876677e+08   \n",
       "3            0.003  918.0    8.996692e+08   -1.251890e+08   -3.853900e+08   \n",
       "4            0.004  913.0    8.948533e+08   -1.284129e+08   -3.836073e+08   \n",
       "...            ...    ...             ...             ...             ...   \n",
       "3937995        NaN    NaN             NaN             NaN             NaN   \n",
       "3937996        NaN    NaN             NaN             NaN             NaN   \n",
       "3937997        NaN    NaN             NaN             NaN             NaN   \n",
       "3937998        NaN    NaN             NaN             NaN             NaN   \n",
       "3937999        NaN    NaN             NaN             NaN             NaN   \n",
       "\n",
       "                                                    x008_FAROS          ...  \\\n",
       "               Marker           HRV DEV_Temperature       time     ECG  ...   \n",
       "0       -3.276700e+10  2.910383e-08    3.004552e+07      0.000  1104.0  ...   \n",
       "1       -3.276700e+10  2.342842e+06    3.004552e+07      0.001  1089.0  ...   \n",
       "2       -3.276700e+10  4.680403e+06    3.004552e+07      0.002  1081.0  ...   \n",
       "3       -3.276700e+10  7.012191e+06    3.004552e+07      0.003  1075.0  ...   \n",
       "4       -3.276700e+10  9.337716e+06    3.004552e+07      0.004  1076.0  ...   \n",
       "...               ...           ...             ...        ...     ...  ...   \n",
       "3937995           NaN           NaN             NaN   3937.995    -9.0  ...   \n",
       "3937996           NaN           NaN             NaN   3937.996   -15.0  ...   \n",
       "3937997           NaN           NaN             NaN   3937.997     8.0  ...   \n",
       "3937998           NaN           NaN             NaN   3937.998    20.0  ...   \n",
       "3937999           NaN           NaN             NaN   3937.999     7.0  ...   \n",
       "\n",
       "           x006_FAROS                 x012_FAROS                          \\\n",
       "                  HRV DEV_Temperature       time     ECG Accelerometer_X   \n",
       "0       -1.455192e-08    2.937351e+07      0.000  3077.0    9.315000e+08   \n",
       "1        1.427839e+06    2.937351e+07      0.001  3080.0    9.292019e+08   \n",
       "2        2.867822e+06    2.937351e+07      0.002  3082.0    9.277568e+08   \n",
       "3        4.319797e+06    2.937351e+07      0.003  3088.0    9.271680e+08   \n",
       "4        5.783611e+06    2.937351e+07      0.004  3101.0    9.273917e+08   \n",
       "...               ...             ...        ...     ...             ...   \n",
       "3937995           NaN             NaN        NaN     NaN             NaN   \n",
       "3937996           NaN             NaN        NaN     NaN             NaN   \n",
       "3937997           NaN             NaN        NaN     NaN             NaN   \n",
       "3937998           NaN             NaN        NaN     NaN             NaN   \n",
       "3937999           NaN             NaN        NaN     NaN             NaN   \n",
       "\n",
       "                                                                     \\\n",
       "        Accelerometer_Y Accelerometer_Z        Marker           HRV   \n",
       "0          4.100000e+07   -2.990000e+08  3.276600e+10 -5.820766e-08   \n",
       "1          4.385562e+07   -3.032292e+08  3.276600e+10 -4.981011e+06   \n",
       "2          4.624682e+07   -3.068126e+08  3.276600e+10 -9.918236e+06   \n",
       "3          4.802940e+07   -3.095696e+08  3.276600e+10 -1.481116e+07   \n",
       "4          4.912330e+07   -3.113519e+08  3.276600e+10 -1.965929e+07   \n",
       "...                 ...             ...           ...           ...   \n",
       "3937995             NaN             NaN           NaN           NaN   \n",
       "3937996             NaN             NaN           NaN           NaN   \n",
       "3937997             NaN             NaN           NaN           NaN   \n",
       "3937998             NaN             NaN           NaN           NaN   \n",
       "3937999             NaN             NaN           NaN           NaN   \n",
       "\n",
       "                         \n",
       "        DEV_Temperature  \n",
       "0          2.983875e+07  \n",
       "1          2.983875e+07  \n",
       "2          2.983875e+07  \n",
       "3          2.983875e+07  \n",
       "4          2.983875e+07  \n",
       "...                 ...  \n",
       "3937995             NaN  \n",
       "3937996             NaN  \n",
       "3937997             NaN  \n",
       "3937998             NaN  \n",
       "3937999             NaN  \n",
       "\n",
       "[3938000 rows x 104 columns]"
      ]
     },
     "execution_count": 99,
     "metadata": {},
     "output_type": "execute_result"
    }
   ],
   "source": [
    "pd.concat(dfs['FAROS'], axis=1)"
   ]
  },
  {
   "cell_type": "code",
   "execution_count": 101,
   "id": "7f19e110",
   "metadata": {},
   "outputs": [
    {
     "data": {
      "text/html": [
       "<div>\n",
       "<style scoped>\n",
       "    .dataframe tbody tr th:only-of-type {\n",
       "        vertical-align: middle;\n",
       "    }\n",
       "\n",
       "    .dataframe tbody tr th {\n",
       "        vertical-align: top;\n",
       "    }\n",
       "\n",
       "    .dataframe thead th {\n",
       "        text-align: right;\n",
       "    }\n",
       "</style>\n",
       "<table border=\"1\" class=\"dataframe\">\n",
       "  <thead>\n",
       "    <tr style=\"text-align: right;\">\n",
       "      <th></th>\n",
       "      <th>time</th>\n",
       "      <th>ECG</th>\n",
       "      <th>Accelerometer_X</th>\n",
       "      <th>Accelerometer_Y</th>\n",
       "      <th>Accelerometer_Z</th>\n",
       "      <th>Marker</th>\n",
       "      <th>HRV</th>\n",
       "      <th>DEV_Temperature</th>\n",
       "    </tr>\n",
       "  </thead>\n",
       "  <tbody>\n",
       "    <tr>\n",
       "      <th>0</th>\n",
       "      <td>0.000</td>\n",
       "      <td>32767.0</td>\n",
       "      <td>7.595000e+08</td>\n",
       "      <td>2.890000e+08</td>\n",
       "      <td>-5.590000e+08</td>\n",
       "      <td>-3.276700e+10</td>\n",
       "      <td>-1.455192e-08</td>\n",
       "      <td>2.937351e+07</td>\n",
       "    </tr>\n",
       "    <tr>\n",
       "      <th>1</th>\n",
       "      <td>0.001</td>\n",
       "      <td>32767.0</td>\n",
       "      <td>7.590085e+08</td>\n",
       "      <td>2.854055e+08</td>\n",
       "      <td>-5.609943e+08</td>\n",
       "      <td>-3.276700e+10</td>\n",
       "      <td>1.427839e+06</td>\n",
       "      <td>2.937351e+07</td>\n",
       "    </tr>\n",
       "    <tr>\n",
       "      <th>2</th>\n",
       "      <td>0.002</td>\n",
       "      <td>32767.0</td>\n",
       "      <td>7.588405e+08</td>\n",
       "      <td>2.828519e+08</td>\n",
       "      <td>-5.622517e+08</td>\n",
       "      <td>-3.276700e+10</td>\n",
       "      <td>2.867822e+06</td>\n",
       "      <td>2.937351e+07</td>\n",
       "    </tr>\n",
       "    <tr>\n",
       "      <th>3</th>\n",
       "      <td>0.003</td>\n",
       "      <td>32767.0</td>\n",
       "      <td>7.589696e+08</td>\n",
       "      <td>2.813497e+08</td>\n",
       "      <td>-5.627896e+08</td>\n",
       "      <td>-3.276700e+10</td>\n",
       "      <td>4.319797e+06</td>\n",
       "      <td>2.937351e+07</td>\n",
       "    </tr>\n",
       "    <tr>\n",
       "      <th>4</th>\n",
       "      <td>0.004</td>\n",
       "      <td>32767.0</td>\n",
       "      <td>7.593539e+08</td>\n",
       "      <td>2.808525e+08</td>\n",
       "      <td>-5.626682e+08</td>\n",
       "      <td>-3.276700e+10</td>\n",
       "      <td>5.783611e+06</td>\n",
       "      <td>2.937351e+07</td>\n",
       "    </tr>\n",
       "    <tr>\n",
       "      <th>...</th>\n",
       "      <td>...</td>\n",
       "      <td>...</td>\n",
       "      <td>...</td>\n",
       "      <td>...</td>\n",
       "      <td>...</td>\n",
       "      <td>...</td>\n",
       "      <td>...</td>\n",
       "      <td>...</td>\n",
       "    </tr>\n",
       "    <tr>\n",
       "      <th>2110995</th>\n",
       "      <td>2110.995</td>\n",
       "      <td>-39.0</td>\n",
       "      <td>9.442576e+07</td>\n",
       "      <td>3.899495e+08</td>\n",
       "      <td>-7.694913e+08</td>\n",
       "      <td>-3.276700e+10</td>\n",
       "      <td>0.000000e+00</td>\n",
       "      <td>3.133786e+07</td>\n",
       "    </tr>\n",
       "    <tr>\n",
       "      <th>2110996</th>\n",
       "      <td>2110.996</td>\n",
       "      <td>-24.0</td>\n",
       "      <td>1.689411e+08</td>\n",
       "      <td>2.797927e+08</td>\n",
       "      <td>-7.993757e+08</td>\n",
       "      <td>-3.276700e+10</td>\n",
       "      <td>0.000000e+00</td>\n",
       "      <td>3.133786e+07</td>\n",
       "    </tr>\n",
       "    <tr>\n",
       "      <th>2110997</th>\n",
       "      <td>2110.997</td>\n",
       "      <td>1.0</td>\n",
       "      <td>2.430424e+08</td>\n",
       "      <td>1.720602e+08</td>\n",
       "      <td>-8.266948e+08</td>\n",
       "      <td>-3.276700e+10</td>\n",
       "      <td>0.000000e+00</td>\n",
       "      <td>3.133786e+07</td>\n",
       "    </tr>\n",
       "    <tr>\n",
       "      <th>2110998</th>\n",
       "      <td>2110.998</td>\n",
       "      <td>20.0</td>\n",
       "      <td>3.139002e+08</td>\n",
       "      <td>7.083434e+07</td>\n",
       "      <td>-8.507179e+08</td>\n",
       "      <td>-3.276700e+10</td>\n",
       "      <td>0.000000e+00</td>\n",
       "      <td>3.133786e+07</td>\n",
       "    </tr>\n",
       "    <tr>\n",
       "      <th>2110999</th>\n",
       "      <td>2110.999</td>\n",
       "      <td>1.0</td>\n",
       "      <td>3.788357e+08</td>\n",
       "      <td>-2.020210e+07</td>\n",
       "      <td>-8.709189e+08</td>\n",
       "      <td>-3.276700e+10</td>\n",
       "      <td>0.000000e+00</td>\n",
       "      <td>3.133786e+07</td>\n",
       "    </tr>\n",
       "  </tbody>\n",
       "</table>\n",
       "<p>2111000 rows × 8 columns</p>\n",
       "</div>"
      ],
      "text/plain": [
       "             time      ECG  Accelerometer_X  Accelerometer_Y  Accelerometer_Z  \\\n",
       "0           0.000  32767.0     7.595000e+08     2.890000e+08    -5.590000e+08   \n",
       "1           0.001  32767.0     7.590085e+08     2.854055e+08    -5.609943e+08   \n",
       "2           0.002  32767.0     7.588405e+08     2.828519e+08    -5.622517e+08   \n",
       "3           0.003  32767.0     7.589696e+08     2.813497e+08    -5.627896e+08   \n",
       "4           0.004  32767.0     7.593539e+08     2.808525e+08    -5.626682e+08   \n",
       "...           ...      ...              ...              ...              ...   \n",
       "2110995  2110.995    -39.0     9.442576e+07     3.899495e+08    -7.694913e+08   \n",
       "2110996  2110.996    -24.0     1.689411e+08     2.797927e+08    -7.993757e+08   \n",
       "2110997  2110.997      1.0     2.430424e+08     1.720602e+08    -8.266948e+08   \n",
       "2110998  2110.998     20.0     3.139002e+08     7.083434e+07    -8.507179e+08   \n",
       "2110999  2110.999      1.0     3.788357e+08    -2.020210e+07    -8.709189e+08   \n",
       "\n",
       "               Marker           HRV  DEV_Temperature  \n",
       "0       -3.276700e+10 -1.455192e-08     2.937351e+07  \n",
       "1       -3.276700e+10  1.427839e+06     2.937351e+07  \n",
       "2       -3.276700e+10  2.867822e+06     2.937351e+07  \n",
       "3       -3.276700e+10  4.319797e+06     2.937351e+07  \n",
       "4       -3.276700e+10  5.783611e+06     2.937351e+07  \n",
       "...               ...           ...              ...  \n",
       "2110995 -3.276700e+10  0.000000e+00     3.133786e+07  \n",
       "2110996 -3.276700e+10  0.000000e+00     3.133786e+07  \n",
       "2110997 -3.276700e+10  0.000000e+00     3.133786e+07  \n",
       "2110998 -3.276700e+10  0.000000e+00     3.133786e+07  \n",
       "2110999 -3.276700e+10  0.000000e+00     3.133786e+07  \n",
       "\n",
       "[2111000 rows x 8 columns]"
      ]
     },
     "execution_count": 101,
     "metadata": {},
     "output_type": "execute_result"
    }
   ],
   "source": [
    "test=dfs['FAROS']['x006_FAROS']\n",
    "test"
   ]
  },
  {
   "cell_type": "code",
   "execution_count": 102,
   "id": "9626dccb",
   "metadata": {},
   "outputs": [],
   "source": [
    "signals,info=nk2.ecg_process(test['ECG'], sampling_rate=1000)"
   ]
  },
  {
   "cell_type": "code",
   "execution_count": 268,
   "id": "c713c4db",
   "metadata": {},
   "outputs": [],
   "source": [
    "heart_rate=signals['ECG_Rate'][::2000] #Every 2 seconds\n",
    "heart_rate=heart_rate.reset_index(drop=True)"
   ]
  },
  {
   "cell_type": "code",
   "execution_count": 269,
   "id": "4e1b4722",
   "metadata": {},
   "outputs": [
    {
     "data": {
      "text/plain": [
       "[<matplotlib.lines.Line2D at 0x1561f5d50>]"
      ]
     },
     "execution_count": 269,
     "metadata": {},
     "output_type": "execute_result"
    },
    {
     "data": {
      "image/png": "[encoded data removed]",
      "text/plain": [
       "<Figure size 640x480 with 1 Axes>"
      ]
     },
     "metadata": {},
     "output_type": "display_data"
    }
   ],
   "source": [
    "plt.plot(heart_rate)"
   ]
  },
  {
   "cell_type": "markdown",
   "id": "3e9d1d4a",
   "metadata": {},
   "source": [
    "I want to try and write a function that essentially assess when the values of the series start to change signifcanltyu compared to the preceding values and return the index at when this change happens...."
   ]
  },
  {
   "cell_type": "markdown",
   "id": "856fb500",
   "metadata": {},
   "source": [
    "I want to return the sorrounding values so I can see how the heart rate changes during each period of time and then also compare the periods to each other...so I essentially need the segments you can see on the graph above"
   ]
  },
  {
   "cell_type": "code",
   "execution_count": 243,
   "id": "e9ad1414",
   "metadata": {},
   "outputs": [],
   "source": [
    "def detect_index_of_change(series, threshold=1.0):\n",
    "    diffs = series.diff().abs()\n",
    "    change_point = diffs[diffs > threshold].index\n",
    "    return change_point\n"
   ]
  },
  {
   "cell_type": "markdown",
   "id": "40f7c4df",
   "metadata": {},
   "source": [
    "Once I return indexes, I need to assess whether or not it is an outlier or actually teh beginning of a new segment. We can do this by viewing the last 5 elements and next 10 elements in the series"
   ]
  },
  {
   "cell_type": "code",
   "execution_count": 264,
   "id": "f96aa13f",
   "metadata": {},
   "outputs": [],
   "source": [
    "indexes=detect_index_of_change(heart_rate, threshold=15)"
   ]
  },
  {
   "cell_type": "code",
   "execution_count": 265,
   "id": "a92791b2",
   "metadata": {},
   "outputs": [
    {
     "data": {
      "text/plain": [
       "Int64Index([1, 87, 198, 336, 645, 671], dtype='int64')"
      ]
     },
     "execution_count": 265,
     "metadata": {},
     "output_type": "execute_result"
    }
   ],
   "source": [
    "indexes"
   ]
  },
  {
   "cell_type": "code",
   "execution_count": 247,
   "id": "0acd528f",
   "metadata": {},
   "outputs": [
    {
     "data": {
      "text/plain": [
       "1"
      ]
     },
     "execution_count": 247,
     "metadata": {},
     "output_type": "execute_result"
    }
   ],
   "source": [
    "indexes[0]"
   ]
  },
  {
   "cell_type": "code",
   "execution_count": 214,
   "id": "d9c778e8",
   "metadata": {},
   "outputs": [],
   "source": [
    "heart_rate=heart_rate.reset_index(drop=True)"
   ]
  },
  {
   "cell_type": "code",
   "execution_count": 251,
   "id": "1ae9b772",
   "metadata": {},
   "outputs": [
    {
     "data": {
      "text/plain": [
       "0     90.044778\n",
       "1     71.955127\n",
       "2     70.183319\n",
       "3     70.558943\n",
       "4     68.195348\n",
       "5     75.791059\n",
       "6     83.170615\n",
       "7     86.065778\n",
       "8     80.447183\n",
       "9     79.995341\n",
       "10    84.513207\n",
       "Name: ECG_Rate, dtype: float64"
      ]
     },
     "execution_count": 251,
     "metadata": {},
     "output_type": "execute_result"
    }
   ],
   "source": [
    "heart_rate.iloc[indexes[0]-1:indexes[0]+10]"
   ]
  },
  {
   "cell_type": "code",
   "execution_count": 252,
   "id": "6b2ce132",
   "metadata": {},
   "outputs": [
    {
     "data": {
      "text/plain": [
       "Series([], Name: ECG_Rate, dtype: float64)"
      ]
     },
     "execution_count": 252,
     "metadata": {},
     "output_type": "execute_result"
    }
   ],
   "source": [
    "heart_rate.iloc[indexes[0]-2:indexes[0]+10]"
   ]
  },
  {
   "cell_type": "code",
   "execution_count": 256,
   "id": "3fd656d1",
   "metadata": {},
   "outputs": [
    {
     "data": {
      "text/plain": [
       "0"
      ]
     },
     "execution_count": 256,
     "metadata": {},
     "output_type": "execute_result"
    }
   ],
   "source": [
    "max(0,5-10)"
   ]
  },
  {
   "cell_type": "code",
   "execution_count": 257,
   "id": "f366793d",
   "metadata": {},
   "outputs": [
    {
     "data": {
      "text/plain": [
       "15"
      ]
     },
     "execution_count": 257,
     "metadata": {},
     "output_type": "execute_result"
    }
   ],
   "source": [
    "min(len(heart_rate)-1, 5+10)"
   ]
  },
  {
   "cell_type": "code",
   "execution_count": 267,
   "id": "4831d58a",
   "metadata": {},
   "outputs": [
    {
     "data": {
      "text/plain": [
       "Int64Index([1, 87, 198, 336, 645, 671], dtype='int64')"
      ]
     },
     "execution_count": 267,
     "metadata": {},
     "output_type": "execute_result"
    }
   ],
   "source": [
    "indexes"
   ]
  },
  {
   "cell_type": "code",
   "execution_count": 266,
   "id": "57e9822e",
   "metadata": {},
   "outputs": [
    {
     "name": "stdout",
     "output_type": "stream",
     "text": [
      "0     90.044778\n",
      "1     71.955127\n",
      "2     70.183319\n",
      "3     70.558943\n",
      "4     68.195348\n",
      "5     75.791059\n",
      "6     83.170615\n",
      "7     86.065778\n",
      "8     80.447183\n",
      "9     79.995341\n",
      "10    84.513207\n",
      "11    80.540437\n",
      "Name: ECG_Rate, dtype: float64\n",
      "77    73.189554\n",
      "78    70.821405\n",
      "79    71.187969\n",
      "80    69.831582\n",
      "81    70.328539\n",
      "82    84.583269\n",
      "83    92.115787\n",
      "84    94.617292\n",
      "85    96.342975\n",
      "86    91.199328\n",
      "87    74.997039\n",
      "88    69.312753\n",
      "89    70.138593\n",
      "90    71.665538\n",
      "91    71.484911\n",
      "92    76.073794\n",
      "93    74.075436\n",
      "94    74.088758\n",
      "95    71.267499\n",
      "96    75.363552\n",
      "97    83.606280\n",
      "Name: ECG_Rate, dtype: float64\n",
      "188    71.469807\n",
      "189    67.900652\n",
      "190    76.738681\n",
      "191    68.381679\n",
      "192    78.314346\n",
      "193    67.209003\n",
      "194    73.895721\n",
      "195    74.418929\n",
      "196    77.389518\n",
      "197    81.041722\n",
      "198    64.829158\n",
      "199    62.495514\n",
      "200    73.204966\n",
      "201    73.531249\n",
      "202    74.005686\n",
      "203    68.144070\n",
      "204    72.214813\n",
      "205    67.776340\n",
      "206    71.043602\n",
      "207    71.586515\n",
      "208    76.502916\n",
      "Name: ECG_Rate, dtype: float64\n",
      "326    74.521786\n",
      "327    85.617737\n",
      "328    85.822471\n",
      "329    72.787531\n",
      "330    72.122002\n",
      "331    74.475952\n",
      "332    75.788840\n",
      "333    72.822695\n",
      "334    71.311729\n",
      "335    70.421369\n",
      "336    86.971922\n",
      "337    87.766258\n",
      "338    91.230189\n",
      "339    97.459105\n",
      "340    97.201703\n",
      "341    94.996710\n",
      "342    97.809928\n",
      "343    88.936612\n",
      "344    91.330720\n",
      "345    94.192470\n",
      "346    95.087366\n",
      "Name: ECG_Rate, dtype: float64\n",
      "635    78.271852\n",
      "636    79.076651\n",
      "637    90.579188\n",
      "638    83.730777\n",
      "639    74.787780\n",
      "640    79.531035\n",
      "641    80.945330\n",
      "642    78.689612\n",
      "643    83.103345\n",
      "644    89.416673\n",
      "645    71.196667\n",
      "646    71.280325\n",
      "647    76.918583\n",
      "648    75.674402\n",
      "649    75.218004\n",
      "650    72.146893\n",
      "651    71.098658\n",
      "652    71.594768\n",
      "653    72.018414\n",
      "654    70.769001\n",
      "655    72.425155\n",
      "Name: ECG_Rate, dtype: float64\n",
      "661    75.880154\n",
      "662    76.184139\n",
      "663    76.198301\n",
      "664    78.167811\n",
      "665    74.881024\n",
      "666    71.548902\n",
      "667    77.307502\n",
      "668    77.648188\n",
      "669    79.011414\n",
      "670    86.538369\n",
      "671    71.355332\n",
      "672    69.779098\n",
      "673    73.494611\n",
      "674    73.083141\n",
      "675    69.720935\n",
      "676    69.545820\n",
      "677    70.417020\n",
      "678    71.623651\n",
      "679    70.772898\n",
      "680    71.953419\n",
      "681    72.723163\n",
      "Name: ECG_Rate, dtype: float64\n"
     ]
    }
   ],
   "source": [
    "def slice_around_index(series, index, slice_size=10):\n",
    "    start = max(0, index - slice_size)\n",
    "    end = min(len(series) - 1, index + slice_size)\n",
    "    return series.iloc[start:end+1]\n",
    "\n",
    "heart_rate = heart_rate\n",
    "indexes = indexes\n",
    "\n",
    "for index in indexes:\n",
    "    slice = slice_around_index(heart_rate, index)\n",
    "    print(slice)\n"
   ]
  },
  {
   "cell_type": "code",
   "execution_count": 229,
   "id": "6b2c71f6",
   "metadata": {},
   "outputs": [
    {
     "data": {
      "text/plain": [
       "2000    71.955127\n",
       "4000    70.183319\n",
       "6000    70.558943\n",
       "Name: ECG_Rate, dtype: float64"
      ]
     },
     "execution_count": 229,
     "metadata": {},
     "output_type": "execute_result"
    }
   ],
   "source": [
    "heart_rate.iloc[indexes[0]:indexes[0]+3]"
   ]
  },
  {
   "cell_type": "markdown",
   "id": "4ee2d542",
   "metadata": {},
   "source": [
    "The attempted solution above does not work because there are some instances where the bpm jumps up rapidly due to noise without an actual change in the general heart rate "
   ]
  },
  {
   "cell_type": "code",
   "execution_count": 282,
   "id": "a73c20a9",
   "metadata": {},
   "outputs": [],
   "source": [
    "values=np.array(heart_rate.rolling(100).median())"
   ]
  },
  {
   "cell_type": "code",
   "execution_count": 291,
   "id": "53093d7f",
   "metadata": {},
   "outputs": [
    {
     "data": {
      "text/plain": [
       "array([         nan,          nan,          nan, ..., 143.79223608,\n",
       "       143.55433251, 143.47642777])"
      ]
     },
     "execution_count": 291,
     "metadata": {},
     "output_type": "execute_result"
    }
   ],
   "source": [
    "values"
   ]
  },
  {
   "cell_type": "markdown",
   "id": "32f1f8f1",
   "metadata": {},
   "source": [
    " Attempting to solve the previous problem of figuring out which segments correspond with different activites by calculating the derivative of the rolling median (smoothed) values"
   ]
  },
  {
   "cell_type": "code",
   "execution_count": 566,
   "id": "1b2ac2ec",
   "metadata": {},
   "outputs": [
    {
     "data": {
      "text/plain": [
       "[<matplotlib.lines.Line2D at 0x176719cf0>]"
      ]
     },
     "execution_count": 566,
     "metadata": {},
     "output_type": "execute_result"
    },
    {
     "data": {
      "image/png": "[encoded data removed]",
      "text/plain": [
       "<Figure size 640x480 with 1 Axes>"
      ]
     },
     "metadata": {},
     "output_type": "display_data"
    }
   ],
   "source": [
    "plt.plot(values)"
   ]
  },
  {
   "cell_type": "code",
   "execution_count": 283,
   "id": "33bee4fd",
   "metadata": {},
   "outputs": [
    {
     "data": {
      "text/plain": [
       "array([   0,    1,    2, ..., 1053, 1054, 1055])"
      ]
     },
     "execution_count": 283,
     "metadata": {},
     "output_type": "execute_result"
    }
   ],
   "source": [
    "np.arange(values.size)"
   ]
  },
  {
   "cell_type": "code",
   "execution_count": 302,
   "id": "e59ba4cc",
   "metadata": {},
   "outputs": [],
   "source": [
    "# Define your smoothed line as a numpy array\n",
    "line = np.array(values)"
   ]
  },
  {
   "cell_type": "code",
   "execution_count": 303,
   "id": "32cb0f9e",
   "metadata": {},
   "outputs": [],
   "source": [
    "# Calculate the first derivative using finite differences\n",
    "dx = np.diff(line)"
   ]
  },
  {
   "cell_type": "code",
   "execution_count": 304,
   "id": "d1f61629",
   "metadata": {},
   "outputs": [
    {
     "data": {
      "text/plain": [
       "[<matplotlib.lines.Line2D at 0x155ff28c0>]"
      ]
     },
     "execution_count": 304,
     "metadata": {},
     "output_type": "execute_result"
    },
    {
     "data": {
      "image/png": "[encoded data removed]",
      "text/plain": [
       "<Figure size 640x480 with 1 Axes>"
      ]
     },
     "metadata": {},
     "output_type": "display_data"
    }
   ],
   "source": [
    "plt.plot(dx)"
   ]
  },
  {
   "cell_type": "code",
   "execution_count": 289,
   "id": "dba162ed",
   "metadata": {},
   "outputs": [],
   "source": [
    "# Calculate the change in x (the independent variable), assuming it's evenly spaced\n",
    "dx = np.mean(np.diff(np.arange(line.size)))"
   ]
  },
  {
   "cell_type": "code",
   "execution_count": 299,
   "id": "dd2ef87a",
   "metadata": {},
   "outputs": [
    {
     "name": "stdout",
     "output_type": "stream",
     "text": [
      "[        nan         nan         nan ... -0.23790357 -0.07790474\n",
      " -0.07790474]\n"
     ]
    }
   ],
   "source": [
    "def finite_difference(array, dx=1): #Function trhat does np.diff\n",
    "    \"\"\"Calculate the finite difference derivative of a numpy array.\"\"\"\n",
    "    derivative = np.zeros_like(array)\n",
    "    derivative[:-1] = (array[1:] - array[:-1]) / dx\n",
    "    derivative[-1] = (array[-1] - array[-2]) / dx\n",
    "    return derivative\n",
    "\n",
    "# Example usage\n",
    "x = values.index\n",
    "y = values.values\n",
    "dy_dx = finite_difference(y)\n",
    "print(dy_dx)\n"
   ]
  },
  {
   "cell_type": "code",
   "execution_count": 318,
   "id": "4a4d45a0",
   "metadata": {},
   "outputs": [
    {
     "data": {
      "text/plain": [
       "[<matplotlib.lines.Line2D at 0x15693ca00>]"
      ]
     },
     "execution_count": 318,
     "metadata": {},
     "output_type": "execute_result"
    },
    {
     "data": {
      "image/png": "[encoded data removed]",
      "text/plain": [
       "<Figure size 640x480 with 1 Axes>"
      ]
     },
     "metadata": {},
     "output_type": "display_data"
    }
   ],
   "source": [
    "plt.plot(dy_dx)"
   ]
  },
  {
   "cell_type": "code",
   "execution_count": 320,
   "id": "98885bb3",
   "metadata": {},
   "outputs": [],
   "source": [
    "dy_dx=pd.Series(dy_dx)"
   ]
  },
  {
   "cell_type": "code",
   "execution_count": 323,
   "id": "eca0fcb3",
   "metadata": {},
   "outputs": [],
   "source": [
    "dy_dx_binned=pd.cut(dy_dx,4)"
   ]
  },
  {
   "cell_type": "code",
   "execution_count": 387,
   "id": "89c107b3",
   "metadata": {},
   "outputs": [],
   "source": [
    "other_slope_positive=dy_dx_binned.cat.categories[2]"
   ]
  },
  {
   "cell_type": "code",
   "execution_count": 386,
   "id": "d370f410",
   "metadata": {},
   "outputs": [],
   "source": [
    "other_slope_negative=dy_dx_binned.cat.categories[1]"
   ]
  },
  {
   "cell_type": "code",
   "execution_count": 388,
   "id": "3da01914",
   "metadata": {},
   "outputs": [
    {
     "data": {
      "text/plain": [
       "99     -0.131241\n",
       "100     0.000000\n",
       "101     0.131241\n",
       "102     0.000000\n",
       "103     0.000000\n",
       "          ...   \n",
       "1051   -0.117412\n",
       "1052   -0.218176\n",
       "1053   -0.237904\n",
       "1054   -0.077905\n",
       "1055   -0.077905\n",
       "Length: 909, dtype: float64"
      ]
     },
     "execution_count": 388,
     "metadata": {},
     "output_type": "execute_result"
    }
   ],
   "source": [
    "dy_dx[dy_dx_binned==other_slope_negative]"
   ]
  },
  {
   "cell_type": "code",
   "execution_count": 385,
   "id": "3c1d6f5b",
   "metadata": {},
   "outputs": [
    {
     "data": {
      "text/plain": [
       "375    0.839819\n",
       "376    0.777468\n",
       "379    0.766864\n",
       "381    0.753407\n",
       "382    0.745904\n",
       "386    0.982345\n",
       "387    1.068658\n",
       "390    0.635196\n",
       "393    1.111906\n",
       "394    0.674413\n",
       "896    0.633937\n",
       "897    1.294317\n",
       "898    1.477714\n",
       "899    0.759220\n",
       "905    1.322138\n",
       "906    1.073908\n",
       "907    0.959939\n",
       "909    2.277917\n",
       "911    1.817118\n",
       "912    1.484835\n",
       "913    1.231998\n",
       "914    1.738251\n",
       "915    1.755382\n",
       "916    0.864962\n",
       "917    1.736610\n",
       "918    1.336385\n",
       "921    0.983998\n",
       "922    1.650121\n",
       "923    0.829052\n",
       "928    0.761961\n",
       "929    1.810861\n",
       "930    2.236562\n",
       "931    1.093428\n",
       "933    0.680274\n",
       "934    1.091238\n",
       "935    1.143917\n",
       "936    1.149329\n",
       "937    0.836112\n",
       "938    1.416648\n",
       "939    1.075392\n",
       "dtype: float64"
      ]
     },
     "execution_count": 385,
     "metadata": {},
     "output_type": "execute_result"
    }
   ],
   "source": [
    "dy_dx[dy_dx_binned==other_slope_positive]"
   ]
  },
  {
   "cell_type": "code",
   "execution_count": 342,
   "id": "5731fe09",
   "metadata": {},
   "outputs": [
    {
     "data": {
      "text/plain": [
       "[<matplotlib.lines.Line2D at 0x1577d4eb0>]"
      ]
     },
     "execution_count": 342,
     "metadata": {},
     "output_type": "execute_result"
    },
    {
     "data": {
      "image/png": "[encoded data removed]",
      "text/plain": [
       "<Figure size 640x480 with 1 Axes>"
      ]
     },
     "metadata": {},
     "output_type": "display_data"
    }
   ],
   "source": [
    "plt.plot(values)"
   ]
  },
  {
   "cell_type": "code",
   "execution_count": 436,
   "id": "5ca3a079",
   "metadata": {},
   "outputs": [
    {
     "data": {
      "text/plain": [
       "[<matplotlib.lines.Line2D at 0x174d31de0>]"
      ]
     },
     "execution_count": 436,
     "metadata": {},
     "output_type": "execute_result"
    },
    {
     "data": {
      "image/png": "[encoded data removed]",
      "text/plain": [
       "<Figure size 640x480 with 1 Axes>"
      ]
     },
     "metadata": {},
     "output_type": "display_data"
    }
   ],
   "source": [
    "plt.plot(heart_rate)"
   ]
  },
  {
   "cell_type": "code",
   "execution_count": 351,
   "id": "3d1c736e",
   "metadata": {},
   "outputs": [
    {
     "data": {
      "text/plain": [
       "539   -1.546057\n",
       "540   -2.732129\n",
       "541   -1.971298\n",
       "545   -1.098298\n",
       "549   -1.144662\n",
       "dtype: float64"
      ]
     },
     "execution_count": 351,
     "metadata": {},
     "output_type": "execute_result"
    }
   ],
   "source": [
    "dy_dx[dy_dx_binned==extremes_left]"
   ]
  },
  {
   "cell_type": "code",
   "execution_count": 343,
   "id": "4aba0201",
   "metadata": {},
   "outputs": [
    {
     "data": {
      "text/plain": [
       "903    3.174865\n",
       "904    3.988081\n",
       "910    3.396333\n",
       "dtype: float64"
      ]
     },
     "execution_count": 343,
     "metadata": {},
     "output_type": "execute_result"
    }
   ],
   "source": [
    "dy_dx[dy_dx_binned==extremes_right]"
   ]
  },
  {
   "cell_type": "code",
   "execution_count": 373,
   "id": "f0abf891",
   "metadata": {},
   "outputs": [],
   "source": [
    "test=values[350:400]"
   ]
  },
  {
   "cell_type": "code",
   "execution_count": 378,
   "id": "e40411fe",
   "metadata": {},
   "outputs": [
    {
     "data": {
      "text/plain": [
       "44"
      ]
     },
     "execution_count": 378,
     "metadata": {},
     "output_type": "execute_result"
    }
   ],
   "source": [
    "test.diff().argmax()"
   ]
  },
  {
   "cell_type": "code",
   "execution_count": 331,
   "id": "e93014e6",
   "metadata": {},
   "outputs": [],
   "source": [
    "extremes_left=dy_dx_binned.cat.categories[0]\n",
    "extremes_right=dy_dx_binned.cat.categories[3]"
   ]
  },
  {
   "cell_type": "code",
   "execution_count": 368,
   "id": "e3823a02",
   "metadata": {},
   "outputs": [],
   "source": [
    "other_slope=dy_dx_binned.cat.categories[2]"
   ]
  },
  {
   "cell_type": "code",
   "execution_count": 371,
   "id": "ef490f5e",
   "metadata": {},
   "outputs": [
    {
     "data": {
      "text/plain": [
       "17"
      ]
     },
     "execution_count": 371,
     "metadata": {},
     "output_type": "execute_result"
    }
   ],
   "source": [
    "dy_dx[dy_dx_binned==other_slope].argmax()"
   ]
  },
  {
   "cell_type": "code",
   "execution_count": 380,
   "id": "8e8d581c",
   "metadata": {},
   "outputs": [
    {
     "data": {
      "text/plain": [
       "[<matplotlib.lines.Line2D at 0x156df3580>]"
      ]
     },
     "execution_count": 380,
     "metadata": {},
     "output_type": "execute_result"
    },
    {
     "data": {
      "image/png": "[encoded data removed]",
      "text/plain": [
       "<Figure size 640x480 with 1 Axes>"
      ]
     },
     "metadata": {},
     "output_type": "display_data"
    }
   ],
   "source": [
    "plt.plot(values[384-10:394+10])"
   ]
  },
  {
   "cell_type": "code",
   "execution_count": 349,
   "id": "f62d408a",
   "metadata": {},
   "outputs": [
    {
     "data": {
      "text/plain": [
       "[<matplotlib.lines.Line2D at 0x157831db0>]"
      ]
     },
     "execution_count": 349,
     "metadata": {},
     "output_type": "execute_result"
    },
    {
     "data": {
      "image/png": "[encoded data removed]",
      "text/plain": [
       "<Figure size 640x480 with 1 Axes>"
      ]
     },
     "metadata": {},
     "output_type": "display_data"
    }
   ],
   "source": [
    "plt.plot(values[903-20:903+20])"
   ]
  },
  {
   "cell_type": "markdown",
   "id": "95b2375c",
   "metadata": {},
   "source": [
    "This works except I am missing the increase in the first activity because slope may have increased less steeply than the two end bins"
   ]
  },
  {
   "cell_type": "markdown",
   "id": "e53e5ffb",
   "metadata": {},
   "source": [
    " None of the attempts are really getting me the desired solution because they all either miss some of the values needed or dont effectively discriminate the segments"
   ]
  },
  {
   "cell_type": "code",
   "execution_count": 391,
   "id": "10670c86",
   "metadata": {},
   "outputs": [
    {
     "data": {
      "text/plain": [
       "99       73.903057\n",
       "100      73.771816\n",
       "101      73.771816\n",
       "102      73.903057\n",
       "103      73.903057\n",
       "           ...    \n",
       "1051    144.127824\n",
       "1052    144.010412\n",
       "1053    143.792236\n",
       "1054    143.554333\n",
       "1055    143.476428\n",
       "Length: 957, dtype: float64"
      ]
     },
     "execution_count": 391,
     "metadata": {},
     "output_type": "execute_result"
    }
   ],
   "source": [
    "values.dropna()"
   ]
  },
  {
   "cell_type": "code",
   "execution_count": 512,
   "id": "1ad64a70",
   "metadata": {},
   "outputs": [],
   "source": [
    "manual_cut=pd.cut(values, bins=[60,80,90,160])"
   ]
  },
  {
   "cell_type": "code",
   "execution_count": 513,
   "id": "bf96ebf2",
   "metadata": {},
   "outputs": [
    {
     "data": {
      "text/plain": [
       "0                 NaN\n",
       "1                 NaN\n",
       "2                 NaN\n",
       "3                 NaN\n",
       "4                 NaN\n",
       "            ...      \n",
       "1051    (90.0, 160.0]\n",
       "1052    (90.0, 160.0]\n",
       "1053    (90.0, 160.0]\n",
       "1054    (90.0, 160.0]\n",
       "1055    (90.0, 160.0]\n",
       "Length: 1056, dtype: category\n",
       "Categories (3, interval[int64, right]): [(60, 80] < (80, 90] < (90, 160]]"
      ]
     },
     "execution_count": 513,
     "metadata": {},
     "output_type": "execute_result"
    }
   ],
   "source": [
    "manual_cut"
   ]
  },
  {
   "cell_type": "code",
   "execution_count": 514,
   "id": "65bb1d01",
   "metadata": {},
   "outputs": [],
   "source": [
    "resting_state=manual_cut.cat.categories[0]\n",
    "transition_state=manual_cut.cat.categories[1]\n",
    "activity_state=manual_cut.cat.categories[2]\n",
    "\n",
    "resting_beats=values[manual_cut==resting_state]\n",
    "transition_beats=values[manual_cut==transition_state]\n",
    "activity_beats=values[manual_cut==activity_state]"
   ]
  },
  {
   "cell_type": "code",
   "execution_count": 516,
   "id": "125b366e",
   "metadata": {},
   "outputs": [
    {
     "data": {
      "text/plain": [
       "375    80.433024\n",
       "376    81.272843\n",
       "377    82.050311\n",
       "378    82.552290\n",
       "379    82.832193\n",
       "         ...    \n",
       "897    85.770594\n",
       "898    87.064912\n",
       "899    88.542626\n",
       "900    89.301846\n",
       "901    89.629395\n",
       "Length: 66, dtype: float64"
      ]
     },
     "execution_count": 516,
     "metadata": {},
     "output_type": "execute_result"
    }
   ],
   "source": [
    "transition_beats"
   ]
  },
  {
   "cell_type": "code",
   "execution_count": 518,
   "id": "a595aef7",
   "metadata": {},
   "outputs": [],
   "source": [
    "differences_resting = np.diff(resting_beats.index)\n",
    "differences_transition=np.diff(transition_beats.index)\n",
    "differences_activity=np.diff(activity_beats.index)"
   ]
  },
  {
   "cell_type": "markdown",
   "id": "5c8f90e0",
   "metadata": {},
   "source": [
    "Print all the indexes where the difference is 1...that is equivalent to a segment because it is above 80.\n",
    "\n",
    "Same with resting state"
   ]
  },
  {
   "cell_type": "code",
   "execution_count": 532,
   "id": "bf444dcd",
   "metadata": {},
   "outputs": [],
   "source": [
    "for idx,i in enumerate(differences_resting):\n",
    "    if i !=1:\n",
    "        index=idx\n",
    "        resting_segment=resting_beats.iloc[:idx]\n",
    "        resting_segment_2=resting_beats.iloc[idx+1:]\n",
    "        \n",
    "for idx,i in enumerate(differences_transition):\n",
    "    if i !=1:\n",
    "        index=idx\n",
    "        transition_segment=transition_beats.iloc[:idx]\n",
    "        transition_segment_2=transition_beats.iloc[idx+1:]\n",
    "        \n",
    "for idx,i in enumerate(differences_activity):\n",
    "    if i !=1:\n",
    "        index=idx\n",
    "        activity_segment=activity_beats.iloc[:idx]\n",
    "        activity_segment_2=activity_beats.iloc[idx+1:]"
   ]
  },
  {
   "cell_type": "code",
   "execution_count": 539,
   "id": "93c28329",
   "metadata": {},
   "outputs": [
    {
     "data": {
      "text/plain": [
       "[<matplotlib.lines.Line2D at 0x1769208b0>]"
      ]
     },
     "execution_count": 539,
     "metadata": {},
     "output_type": "execute_result"
    },
    {
     "data": {
      "image/png": "[encoded data removed]",
      "text/plain": [
       "<Figure size 640x480 with 1 Axes>"
      ]
     },
     "metadata": {},
     "output_type": "display_data"
    }
   ],
   "source": [
    "plt.plot(values)\n",
    "plt.plot(segment)\n",
    "plt.plot(segment_2)\n",
    "plt.plot(transition_segment)\n",
    "plt.plot(transition_segment_2)\n",
    "plt.plot(activity_segment)\n",
    "plt.plot(activity_segment_2)"
   ]
  },
  {
   "cell_type": "markdown",
   "id": "580b9f9c",
   "metadata": {},
   "source": [
    "So this method works except in the instance where there is more than just two segments. \n",
    "\n",
    "Modify the code to include number of variables equivalent to len of indexes+1 (see below) "
   ]
  },
  {
   "cell_type": "code",
   "execution_count": 695,
   "id": "4d8aa59a",
   "metadata": {},
   "outputs": [],
   "source": [
    "indexes = []\n",
    "for idx, i in enumerate(differences_transition):\n",
    "    if i != 1:\n",
    "        indexes.append(idx)\n",
    "\n",
    "num_variables=len(indexes)+1\n",
    "variables = [np.zeros(shape=(1,)) for i in range(num_variables)]"
   ]
  },
  {
   "cell_type": "code",
   "execution_count": 547,
   "id": "3c6550b8",
   "metadata": {},
   "outputs": [
    {
     "data": {
      "text/plain": [
       "[array([0.]), array([0.]), array([0.])]"
      ]
     },
     "execution_count": 547,
     "metadata": {},
     "output_type": "execute_result"
    }
   ],
   "source": [
    "variables"
   ]
  },
  {
   "cell_type": "code",
   "execution_count": 696,
   "id": "c615ef0d",
   "metadata": {},
   "outputs": [],
   "source": [
    "indexes = []\n",
    "for idx, i in enumerate(differences_transition):\n",
    "    if i != 1:\n",
    "        indexes.append(idx)\n",
    "\n",
    "num_variables=len(indexes)+1\n",
    "variables = [np.zeros(shape=(1,)) for i in range(num_variables)]\n",
    "for idx, i in enumerate(indexes):\n",
    "    variables[0] = transition_beats.iloc[:indexes[0]]\n",
    "    variables[1] = transition_beats.iloc[indexes[0]+1:indexes[1]]\n",
    "    variables[2]=transition_beats.iloc[indexes[1]+1:]\n",
    "\n",
    "# Handle the case where there are no instances of i != 1\n",
    "if not indexes:\n",
    "    tranition_segment = transition_beats\n"
   ]
  },
  {
   "cell_type": "code",
   "execution_count": 697,
   "id": "90f5554e",
   "metadata": {},
   "outputs": [],
   "source": [
    "indexes = []\n",
    "for idx, i in enumerate(differences_transition):\n",
    "    if i != 1:\n",
    "        indexes.append(idx)\n",
    "\n",
    "num_variables = len(indexes) + 1\n",
    "variables = [np.zeros(shape=(1,)) for i in range(num_variables)]\n",
    "for idx, i in enumerate(indexes):\n",
    "    if idx == 0:\n",
    "        variables[idx] = transition_beats.iloc[:indexes[idx]]\n",
    "    else:\n",
    "        variables[idx] = transition_beats.iloc[indexes[idx-1]+1:indexes[idx]]\n",
    "\n",
    "if num_variables > 0:\n",
    "    variables[-1] = transition_beats.iloc[indexes[-1]+1:]\n"
   ]
  },
  {
   "cell_type": "code",
   "execution_count": 700,
   "id": "b564c9d3",
   "metadata": {},
   "outputs": [
    {
     "data": {
      "text/plain": [
       "array([  1,   1,   1,   1,   1,   1,   1,   1,   1,   1,   1,   1,   1,\n",
       "         1,   1,   1,   1,   1,   1,   1,   1,   1,   1,   1,   1,   1,\n",
       "         1,   1,   1,   1,   1,   1,   1,   1,   1,   1,   1,   1,   1,\n",
       "         1,   1,   1,   1,   1,   1,   1,   1,   1,   1,   1,   1,   1,\n",
       "         1,   1,   1,   1,   1,   1,   1,   1,   1,   1,   1,   1,   1,\n",
       "         1,   1,   1,   1,   1,   1,   1,   1,   1,   1,   1,   1,   1,\n",
       "         1,   1,   1,   1,   1,   1,   1,   1,   1,   1,   1,   1,   1,\n",
       "         1,   1,   1,   1,   1,   1,   1,   1,   1,   1,   1,   1,   1,\n",
       "         1,   1,   1,   1,   1,   1,   1,   1,   1,   1,   1,   1,   1,\n",
       "         1,   1,   1,   1,   1,   1,   1,   1,   1,   1,   1,   1,   1,\n",
       "         1,   1,   1,   1,   1,   1,   1,   1,   1,   1,   1,   1,   1,\n",
       "         1,   1,   1,   1,   1,   1,   1, 362,   1,   1,   1,   1,   1,\n",
       "         1,   1,   1,   1,   1,   1,   1,   1,   1,   1,   1,   1,   1,\n",
       "         1,   1,   1,   1,   1,   1,   1,   1,   1,   1,   1,   1,   1,\n",
       "         1,   1,   1,   1,   1,   1,   1,   1,   1,   1,   1,   1,   1,\n",
       "         1,   1,   1,   1,   1,   1,   1,   1,   1,   1,   1,   1,   1,\n",
       "         1,   1,   1,   1,   1,   1,   1,   1,   1,   1,   1,   1,   1,\n",
       "         1,   1,   1,   1,   1,   1,   1,   1,   1,   1,   1,   1,   1,\n",
       "         1,   1,   1,   1,   1,   1,   1,   1,   1,   1,   1,   1,   1,\n",
       "         1,   1,   1,   1,   1,   1,   1,   1,   1,   1,   1,   1,   1,\n",
       "         1,   1,   1,   1,   1,   1,   1,   1,   1,   1,   1,   1,   1,\n",
       "         1,   1,   1,   1,   1,   1,   1,   1,   1,   1,   1,   1,   1,\n",
       "         1,   1,   1,   1,   1,   1,   1,   1,   1,   1,   1,   1,   1,\n",
       "         1,   1,   1,   1,   1])"
      ]
     },
     "execution_count": 700,
     "metadata": {},
     "output_type": "execute_result"
    }
   ],
   "source": [
    "differences_activity"
   ]
  },
  {
   "cell_type": "code",
   "execution_count": 712,
   "id": "81f48d7d",
   "metadata": {},
   "outputs": [
    {
     "data": {
      "text/plain": [
       "375    80.433024\n",
       "376    81.272843\n",
       "377    82.050311\n",
       "378    82.552290\n",
       "379    82.832193\n",
       "380    83.599057\n",
       "381    84.220793\n",
       "382    84.974200\n",
       "383    85.720104\n",
       "384    86.297057\n",
       "385    86.871783\n",
       "386    87.369090\n",
       "387    88.351435\n",
       "388    89.420093\n",
       "dtype: float64"
      ]
     },
     "execution_count": 712,
     "metadata": {},
     "output_type": "execute_result"
    }
   ],
   "source": [
    "variables[0]"
   ]
  },
  {
   "cell_type": "code",
   "execution_count": 698,
   "id": "fa635808",
   "metadata": {},
   "outputs": [
    {
     "data": {
      "text/plain": [
       "[<matplotlib.lines.Line2D at 0x17d0a4c70>]"
      ]
     },
     "execution_count": 698,
     "metadata": {},
     "output_type": "execute_result"
    },
    {
     "data": {
      "image/png": "[encoded data removed]",
      "text/plain": [
       "<Figure size 640x480 with 1 Axes>"
      ]
     },
     "metadata": {},
     "output_type": "display_data"
    }
   ],
   "source": [
    "plt.plot(values)\n",
    "plt.plot(segment)\n",
    "plt.plot(segment_2)\n",
    "plt.plot(variables[0])\n",
    "plt.plot(variables[1])\n",
    "plt.plot(variables[2])\n",
    "plt.plot(activity_segment)\n",
    "plt.plot(activity_segment_2)"
   ]
  },
  {
   "cell_type": "markdown",
   "id": "53fee8a2",
   "metadata": {},
   "source": [
    "Got the image and answer I wanted. Now to combine this into a function and subseqeuntly return the values back to the original heart rate data to determine periods of activity change"
   ]
  },
  {
   "cell_type": "code",
   "execution_count": 569,
   "id": "b73b34f3",
   "metadata": {},
   "outputs": [
    {
     "data": {
      "text/plain": [
       "3"
      ]
     },
     "execution_count": 569,
     "metadata": {},
     "output_type": "execute_result"
    }
   ],
   "source": [
    "len(manual_cut.cat.categories)"
   ]
  },
  {
   "cell_type": "code",
   "execution_count": 572,
   "id": "55c4f9e7",
   "metadata": {},
   "outputs": [],
   "source": [
    "state=[np.zeros(shape=(1,)) for i in range(len(manual_cut.cat.categories))]\n"
   ]
  },
  {
   "cell_type": "code",
   "execution_count": 574,
   "id": "e955ae3b",
   "metadata": {},
   "outputs": [
    {
     "data": {
      "text/plain": [
       "Interval(60, 80, closed='right')"
      ]
     },
     "execution_count": 574,
     "metadata": {},
     "output_type": "execute_result"
    }
   ],
   "source": [
    "manual_cut.cat.categories[0]"
   ]
  },
  {
   "cell_type": "code",
   "execution_count": null,
   "id": "322b1f5c",
   "metadata": {},
   "outputs": [],
   "source": [
    "num_variables=len(indexes)+1\n",
    "variables = [np.zeros(shape=(1,)) for i in range(num_variables)]"
   ]
  },
  {
   "cell_type": "code",
   "execution_count": 647,
   "id": "ef473df2",
   "metadata": {},
   "outputs": [],
   "source": [
    "indexes =[np.zeros(shape=(1,)) for i in range(len(beats))]"
   ]
  },
  {
   "cell_type": "code",
   "execution_count": 654,
   "id": "3e3c3eb0",
   "metadata": {},
   "outputs": [],
   "source": [
    "indexes = []\n",
    "for idx1, state_difference in enumerate(differences):\n",
    "    sub_list = []\n",
    "    for idx2, sequence in enumerate(state_difference):\n",
    "        if sequence != 1:\n",
    "            sub_list.append(sequence)\n",
    "    indexes.append(sub_list)"
   ]
  },
  {
   "cell_type": "code",
   "execution_count": 660,
   "id": "90b6bfca",
   "metadata": {},
   "outputs": [
    {
     "name": "stdout",
     "output_type": "stream",
     "text": [
      "[185]\n",
      "[152, 311]\n",
      "[362]\n"
     ]
    }
   ],
   "source": [
    "for idx, i in enumerate(indexes):\n",
    "    print(i)"
   ]
  },
  {
   "cell_type": "code",
   "execution_count": 687,
   "id": "7ffcd512",
   "metadata": {},
   "outputs": [
    {
     "data": {
      "text/plain": [
       "[185, 152, 311, 362]"
      ]
     },
     "execution_count": 687,
     "metadata": {},
     "output_type": "execute_result"
    }
   ],
   "source": [
    "indexes"
   ]
  },
  {
   "cell_type": "code",
   "execution_count": 692,
   "id": "73739b89",
   "metadata": {},
   "outputs": [
    {
     "data": {
      "text/plain": [
       "184    72.631279\n",
       "185    72.631279\n",
       "186    72.563408\n",
       "187    72.563408\n",
       "188    72.563408\n",
       "189    72.563408\n",
       "190    72.631279\n",
       "dtype: float64"
      ]
     },
     "execution_count": 692,
     "metadata": {},
     "output_type": "execute_result"
    }
   ],
   "source": [
    "beats[0].loc[184:190]"
   ]
  },
  {
   "cell_type": "code",
   "execution_count": 721,
   "id": "2515e3fa",
   "metadata": {},
   "outputs": [
    {
     "ename": "IndexError",
     "evalue": "list assignment index out of range",
     "output_type": "error",
     "traceback": [
      "\u001b[0;31m---------------------------------------------------------------------------\u001b[0m",
      "\u001b[0;31mIndexError\u001b[0m                                Traceback (most recent call last)",
      "Cell \u001b[0;32mIn [721], line 5\u001b[0m\n\u001b[1;32m      3\u001b[0m         variables[idx] \u001b[38;5;241m=\u001b[39m beats[:indexes[idx]]\n\u001b[1;32m      4\u001b[0m     \u001b[38;5;28;01melse\u001b[39;00m:\n\u001b[0;32m----> 5\u001b[0m         variables[idx] \u001b[38;5;241m=\u001b[39m transition_beats\u001b[38;5;241m.\u001b[39miloc[indexes[idx\u001b[38;5;241m-\u001b[39m\u001b[38;5;241m1\u001b[39m]\u001b[38;5;241m+\u001b[39m\u001b[38;5;241m1\u001b[39m:indexes[idx]]\n\u001b[1;32m      7\u001b[0m \u001b[38;5;28;01mif\u001b[39;00m num_variables \u001b[38;5;241m>\u001b[39m \u001b[38;5;241m0\u001b[39m:\n\u001b[1;32m      8\u001b[0m     variables[\u001b[38;5;241m-\u001b[39m\u001b[38;5;241m1\u001b[39m] \u001b[38;5;241m=\u001b[39m transition_beats\u001b[38;5;241m.\u001b[39miloc[indexes[\u001b[38;5;241m-\u001b[39m\u001b[38;5;241m1\u001b[39m]\u001b[38;5;241m+\u001b[39m\u001b[38;5;241m1\u001b[39m:]\n",
      "\u001b[0;31mIndexError\u001b[0m: list assignment index out of range"
     ]
    }
   ],
   "source": [
    "for idx, i in enumerate(indexes):\n",
    "    if idx == 0:\n",
    "        variables[idx] = beats[:indexes[idx]]\n",
    "    else:\n",
    "        variables[idx] = transition_beats.iloc[indexes[idx-1]+1:indexes[idx]]\n",
    "\n",
    "if num_variables > 0:\n",
    "    variables[-1] = transition_beats.iloc[indexes[-1]+1:]"
   ]
  },
  {
   "cell_type": "code",
   "execution_count": 726,
   "id": "f440b763",
   "metadata": {},
   "outputs": [],
   "source": [
    "num_variables=len(indexes)+1\n",
    "variables = [np.zeros(shape=(1,)) for i in range(num_variables)]\n",
    "for idx, i in enumerate(indexes):\n",
    "    if idx == 0:\n",
    "        variables[idx] = beats[:indexes[idx]]\n",
    "    else:\n",
    "        variables[idx] = beats[indexes[idx-1]+1:indexes[idx]]"
   ]
  },
  {
   "cell_type": "code",
   "execution_count": 729,
   "id": "ce00f583",
   "metadata": {},
   "outputs": [
    {
     "data": {
      "text/plain": [
       "[99     73.903057\n",
       " 100    73.771816\n",
       " 101    73.771816\n",
       " 102    73.903057\n",
       " 103    73.903057\n",
       "          ...    \n",
       " 864    79.845799\n",
       " 865    79.845799\n",
       " 866    79.845799\n",
       " 867    79.955850\n",
       " 868    79.993345\n",
       " Length: 586, dtype: float64,\n",
       " 375    80.433024\n",
       " 376    81.272843\n",
       " 377    82.050311\n",
       " 378    82.552290\n",
       " 379    82.832193\n",
       "          ...    \n",
       " 897    85.770594\n",
       " 898    87.064912\n",
       " 899    88.542626\n",
       " 900    89.301846\n",
       " 901    89.629395\n",
       " Length: 66, dtype: float64,\n",
       " 390      90.450707\n",
       " 391      91.085903\n",
       " 392      91.280455\n",
       " 393      91.867254\n",
       " 394      92.979160\n",
       "            ...    \n",
       " 1051    144.127824\n",
       " 1052    144.010412\n",
       " 1053    143.792236\n",
       " 1054    143.554333\n",
       " 1055    143.476428\n",
       " Length: 305, dtype: float64]"
      ]
     },
     "execution_count": 729,
     "metadata": {},
     "output_type": "execute_result"
    }
   ],
   "source": [
    "variables[0]"
   ]
  },
  {
   "cell_type": "markdown",
   "id": "5d0b6ed0",
   "metadata": {},
   "source": [
    "# Try and find a way to return 3 indexes arrays (just like beats and differences) each with the respective coordinates ((182), (152, 311), (360)) of the jumps in beats\n",
    "\n",
    "Then proceed to include that in function and finish off function to plot data"
   ]
  },
  {
   "cell_type": "code",
   "execution_count": 611,
   "id": "9b21104c",
   "metadata": {},
   "outputs": [
    {
     "data": {
      "text/plain": [
       "362"
      ]
     },
     "execution_count": 611,
     "metadata": {},
     "output_type": "execute_result"
    }
   ],
   "source": [
    "indexes"
   ]
  },
  {
   "cell_type": "code",
   "execution_count": 603,
   "id": "244a2564",
   "metadata": {},
   "outputs": [],
   "source": [
    "indexes = [np.zeros(shape=(1,)) for i in range(len(manual_cut.cat.categories))]\n"
   ]
  },
  {
   "cell_type": "code",
   "execution_count": 605,
   "id": "944fe7c0",
   "metadata": {},
   "outputs": [
    {
     "data": {
      "text/plain": [
       "array([0.])"
      ]
     },
     "execution_count": 605,
     "metadata": {},
     "output_type": "execute_result"
    }
   ],
   "source": [
    "indexes[0]=differences[0]\n",
    "\n",
    "indexes[0]=i[j[idx]]"
   ]
  },
  {
   "cell_type": "code",
   "execution_count": 732,
   "id": "19e0c668",
   "metadata": {},
   "outputs": [],
   "source": [
    "indexes = []\n",
    "for idx1, state_difference in enumerate(differences):\n",
    "    sub_list=[]\n",
    "    for idx2, sequence in enumerate(state_difference):\n",
    "        if sequence != 1:\n",
    "            sub_list.append(idx2)\n",
    "    indexes.append(sub_list)"
   ]
  },
  {
   "cell_type": "code",
   "execution_count": 757,
   "id": "46c8736d",
   "metadata": {},
   "outputs": [
    {
     "data": {
      "text/plain": [
       "275"
      ]
     },
     "execution_count": 757,
     "metadata": {},
     "output_type": "execute_result"
    }
   ],
   "source": [
    "indexes[0][0]"
   ]
  },
  {
   "cell_type": "code",
   "execution_count": 759,
   "id": "540eec7c",
   "metadata": {},
   "outputs": [
    {
     "data": {
      "text/plain": [
       "[[275], [14, 32], [150]]"
      ]
     },
     "execution_count": 759,
     "metadata": {},
     "output_type": "execute_result"
    }
   ],
   "source": [
    "indexes"
   ]
  },
  {
   "cell_type": "code",
   "execution_count": 771,
   "id": "4d7a8cdf",
   "metadata": {},
   "outputs": [
    {
     "name": "stderr",
     "output_type": "stream",
     "text": [
      "/var/folders/wv/c3g7vgxd10n0mdl2_flcjj480000gn/T/ipykernel_25339/740178922.py:1: FutureWarning: The behavior of `series[i:j]` with an integer-dtype index is deprecated. In a future version, this will be treated as *label-based* indexing, consistent with e.g. `series[i]` lookups. To retain the old behavior, use `series.iloc[i:j]`. To get the future behavior, use `series.loc[i:j]`.\n",
      "  beats[1][:16]\n"
     ]
    },
    {
     "data": {
      "text/plain": [
       "375    80.433024\n",
       "376    81.272843\n",
       "377    82.050311\n",
       "378    82.552290\n",
       "379    82.832193\n",
       "380    83.599057\n",
       "381    84.220793\n",
       "382    84.974200\n",
       "383    85.720104\n",
       "384    86.297057\n",
       "385    86.871783\n",
       "386    87.369090\n",
       "387    88.351435\n",
       "388    89.420093\n",
       "389    89.931685\n",
       "541    89.097562\n",
       "dtype: float64"
      ]
     },
     "execution_count": 771,
     "metadata": {},
     "output_type": "execute_result"
    }
   ],
   "source": [
    "beats[1][:16]"
   ]
  },
  {
   "cell_type": "code",
   "execution_count": 758,
   "id": "99c32228",
   "metadata": {},
   "outputs": [
    {
     "data": {
      "text/plain": [
       "375    80.433024\n",
       "376    81.272843\n",
       "377    82.050311\n",
       "378    82.552290\n",
       "379    82.832193\n",
       "380    83.599057\n",
       "381    84.220793\n",
       "382    84.974200\n",
       "383    85.720104\n",
       "384    86.297057\n",
       "385    86.871783\n",
       "386    87.369090\n",
       "387    88.351435\n",
       "388    89.420093\n",
       "dtype: float64"
      ]
     },
     "execution_count": 758,
     "metadata": {},
     "output_type": "execute_result"
    }
   ],
   "source": [
    "beats[1].iloc[:indexes[1][0]]"
   ]
  },
  {
   "cell_type": "code",
   "execution_count": 773,
   "id": "47cb7382",
   "metadata": {},
   "outputs": [
    {
     "data": {
      "image/png": "[encoded data removed]",
      "text/plain": [
       "<Figure size 640x480 with 1 Axes>"
      ]
     },
     "metadata": {},
     "output_type": "display_data"
    }
   ],
   "source": [
    "for i, index_set in enumerate(indexes):\n",
    "    start=0\n",
    "    for j, end in enumerate(index_set):\n",
    "        if j == 0:\n",
    "            plt.plot(beats[i].iloc[:end])\n",
    "        else:\n",
    "            plt.plot(beats[i].iloc[start+1:end])\n",
    "        start = end\n",
    "    plt.plot(beats[i].iloc[start+1:])"
   ]
  },
  {
   "cell_type": "code",
   "execution_count": 753,
   "id": "8f130481",
   "metadata": {},
   "outputs": [
    {
     "data": {
      "text/plain": [
       "[<matplotlib.lines.Line2D at 0x1784a24d0>]"
      ]
     },
     "execution_count": 753,
     "metadata": {},
     "output_type": "execute_result"
    },
    {
     "data": {
      "image/png": "[encoded data removed]",
      "text/plain": [
       "<Figure size 640x480 with 1 Axes>"
      ]
     },
     "metadata": {},
     "output_type": "display_data"
    }
   ],
   "source": [
    "plt.plot(values)\n",
    "plt.plot(beats[0].iloc[:275])\n",
    "plt.plot(beats[0].iloc[276:])"
   ]
  },
  {
   "cell_type": "code",
   "execution_count": 957,
   "id": "e0bdf0db",
   "metadata": {},
   "outputs": [],
   "source": [
    "values=heart_rate.rolling(100).mean()"
   ]
  },
  {
   "cell_type": "code",
   "execution_count": 1161,
   "id": "3de3931b",
   "metadata": {},
   "outputs": [
    {
     "data": {
      "text/html": [
       "<div>\n",
       "<style scoped>\n",
       "    .dataframe tbody tr th:only-of-type {\n",
       "        vertical-align: middle;\n",
       "    }\n",
       "\n",
       "    .dataframe tbody tr th {\n",
       "        vertical-align: top;\n",
       "    }\n",
       "\n",
       "    .dataframe thead th {\n",
       "        text-align: right;\n",
       "    }\n",
       "</style>\n",
       "<table border=\"1\" class=\"dataframe\">\n",
       "  <thead>\n",
       "    <tr style=\"text-align: right;\">\n",
       "      <th></th>\n",
       "      <th>index</th>\n",
       "      <th>ECG_Rate</th>\n",
       "    </tr>\n",
       "  </thead>\n",
       "  <tbody>\n",
       "    <tr>\n",
       "      <th>0</th>\n",
       "      <td>99</td>\n",
       "      <td>75.466754</td>\n",
       "    </tr>\n",
       "    <tr>\n",
       "      <th>1</th>\n",
       "      <td>100</td>\n",
       "      <td>75.279011</td>\n",
       "    </tr>\n",
       "    <tr>\n",
       "      <th>2</th>\n",
       "      <td>101</td>\n",
       "      <td>75.267747</td>\n",
       "    </tr>\n",
       "    <tr>\n",
       "      <th>3</th>\n",
       "      <td>102</td>\n",
       "      <td>75.352958</td>\n",
       "    </tr>\n",
       "    <tr>\n",
       "      <th>4</th>\n",
       "      <td>103</td>\n",
       "      <td>75.358348</td>\n",
       "    </tr>\n",
       "    <tr>\n",
       "      <th>...</th>\n",
       "      <td>...</td>\n",
       "      <td>...</td>\n",
       "    </tr>\n",
       "    <tr>\n",
       "      <th>300</th>\n",
       "      <td>399</td>\n",
       "      <td>88.816932</td>\n",
       "    </tr>\n",
       "    <tr>\n",
       "      <th>301</th>\n",
       "      <td>400</td>\n",
       "      <td>89.043117</td>\n",
       "    </tr>\n",
       "    <tr>\n",
       "      <th>302</th>\n",
       "      <td>401</td>\n",
       "      <td>89.343757</td>\n",
       "    </tr>\n",
       "    <tr>\n",
       "      <th>303</th>\n",
       "      <td>402</td>\n",
       "      <td>89.635916</td>\n",
       "    </tr>\n",
       "    <tr>\n",
       "      <th>304</th>\n",
       "      <td>403</td>\n",
       "      <td>89.919345</td>\n",
       "    </tr>\n",
       "  </tbody>\n",
       "</table>\n",
       "<p>305 rows × 2 columns</p>\n",
       "</div>"
      ],
      "text/plain": [
       "     index   ECG_Rate\n",
       "0       99  75.466754\n",
       "1      100  75.279011\n",
       "2      101  75.267747\n",
       "3      102  75.352958\n",
       "4      103  75.358348\n",
       "..     ...        ...\n",
       "300    399  88.816932\n",
       "301    400  89.043117\n",
       "302    401  89.343757\n",
       "303    402  89.635916\n",
       "304    403  89.919345\n",
       "\n",
       "[305 rows x 2 columns]"
      ]
     },
     "execution_count": 1161,
     "metadata": {},
     "output_type": "execute_result"
    }
   ],
   "source": [
    "slices[0]"
   ]
  },
  {
   "cell_type": "code",
   "execution_count": 1168,
   "id": "fb0be569",
   "metadata": {},
   "outputs": [
    {
     "data": {
      "text/plain": [
       "[     index   ECG_Rate\n",
       " 0       99  75.466754\n",
       " 1      100  75.279011\n",
       " 2      101  75.267747\n",
       " 3      102  75.352958\n",
       " 4      103  75.358348\n",
       " ..     ...        ...\n",
       " 655    878  87.860117\n",
       " 656    879  88.318668\n",
       " 657    880  88.753829\n",
       " 658    881  89.173536\n",
       " 659    882  89.672512\n",
       " \n",
       " [660 rows x 2 columns],\n",
       "      index    ECG_Rate\n",
       " 0      404   90.170474\n",
       " 1      405   90.455959\n",
       " 2      406   90.754130\n",
       " 3      407   90.983588\n",
       " 4      408   91.158597\n",
       " ..     ...         ...\n",
       " 292   1051  132.728891\n",
       " 293   1052  132.390087\n",
       " 294   1053  132.055055\n",
       " 295   1054  131.714244\n",
       " 296   1055  131.383771\n",
       " \n",
       " [297 rows x 2 columns]]"
      ]
     },
     "execution_count": 1168,
     "metadata": {},
     "output_type": "execute_result"
    }
   ],
   "source": [
    "beats"
   ]
  },
  {
   "cell_type": "code",
   "execution_count": 1177,
   "id": "1b3e571e",
   "metadata": {},
   "outputs": [
    {
     "data": {
      "text/plain": [
       "[     index   ECG_Rate\n",
       " 0       99  75.466754\n",
       " 1      100  75.279011\n",
       " 2      101  75.267747\n",
       " 3      102  75.352958\n",
       " 4      103  75.358348\n",
       " ..     ...        ...\n",
       " 299    398  88.555303\n",
       " 300    399  88.816932\n",
       " 301    400  89.043117\n",
       " 302    401  89.343757\n",
       " 303    402  89.635916\n",
       " \n",
       " [304 rows x 2 columns],\n",
       "      index   ECG_Rate\n",
       " 1      100  75.279011\n",
       " 2      101  75.267747\n",
       " 3      102  75.352958\n",
       " 4      103  75.358348\n",
       " 5      104  75.411536\n",
       " ..     ...        ...\n",
       " 655    878  87.860117\n",
       " 656    879  88.318668\n",
       " 657    880  88.753829\n",
       " 658    881  89.173536\n",
       " 659    882  89.672512\n",
       " \n",
       " [659 rows x 2 columns],\n",
       "      index   ECG_Rate\n",
       " 0      404  90.170474\n",
       " 1      405  90.455959\n",
       " 2      406  90.754130\n",
       " 3      407  90.983588\n",
       " 4      408  91.158597\n",
       " ..     ...        ...\n",
       " 118    522  91.249111\n",
       " 119    523  91.025903\n",
       " 120    524  90.783210\n",
       " 121    525  90.514455\n",
       " 122    526  90.274096\n",
       " \n",
       " [123 rows x 2 columns],\n",
       "      index    ECG_Rate\n",
       " 1      405   90.455959\n",
       " 2      406   90.754130\n",
       " 3      407   90.983588\n",
       " 4      408   91.158597\n",
       " 5      409   91.352095\n",
       " ..     ...         ...\n",
       " 292   1051  132.728891\n",
       " 293   1052  132.390087\n",
       " 294   1053  132.055055\n",
       " 295   1054  131.714244\n",
       " 296   1055  131.383771\n",
       " \n",
       " [296 rows x 2 columns]]"
      ]
     },
     "execution_count": 1177,
     "metadata": {},
     "output_type": "execute_result"
    }
   ],
   "source": [
    "slices"
   ]
  },
  {
   "cell_type": "code",
   "execution_count": 1178,
   "id": "efb1d93d",
   "metadata": {},
   "outputs": [
    {
     "data": {
      "image/png": "[encoded data removed]",
      "text/plain": [
       "<Figure size 640x480 with 1 Axes>"
      ]
     },
     "metadata": {},
     "output_type": "display_data"
    }
   ],
   "source": [
    "slices_indexes=[i['index'] for i in slices]\n",
    "new_indexes=[i.values[-1] for i in slices_indexes]\n",
    "    \n",
    "    \n",
    "original_sequences=[]\n",
    "start=0\n",
    "for i in new_indexes:\n",
    "    sub_sequence=heart_rate[start:i]\n",
    "    sub_sequences.append(sub_sequence)\n",
    "    plt.plot(sub_sequence)\n",
    "    start=i"
   ]
  },
  {
   "cell_type": "code",
   "execution_count": 1254,
   "id": "421d9a91",
   "metadata": {},
   "outputs": [
    {
     "data": {
      "text/plain": [
       "0        90.044778\n",
       "1        71.955127\n",
       "2        70.183319\n",
       "3        70.558943\n",
       "4        68.195348\n",
       "           ...    \n",
       "1051    110.497238\n",
       "1052    110.497238\n",
       "1053    110.497238\n",
       "1054    110.497238\n",
       "1055    110.497238\n",
       "Name: ECG_Rate, Length: 1056, dtype: float64"
      ]
     },
     "execution_count": 1254,
     "metadata": {},
     "output_type": "execute_result"
    }
   ],
   "source": [
    "heart_rate"
   ]
  },
  {
   "cell_type": "code",
   "execution_count": 1317,
   "id": "42c2cf0c",
   "metadata": {},
   "outputs": [
    {
     "name": "stdout",
     "output_type": "stream",
     "text": [
      "0 283\n",
      "[283]\n",
      "0 20\n",
      "[20, 45]\n",
      "1 45\n",
      "[20, 45]\n",
      "0 123\n",
      "[123]\n",
      "[283, 20, 45, 123]\n"
     ]
    }
   ],
   "source": [
    "ends=[]\n",
    "for i, index_set in enumerate(ilocs):\n",
    "    start=0\n",
    "    for j, end in enumerate(index_set):\n",
    "        print(j, end)\n",
    "        print(index_set)\n",
    "        start=end\n",
    "        ends.append(end)\n",
    "        \n",
    "print(ends)"
   ]
  },
  {
   "cell_type": "code",
   "execution_count": null,
   "id": "c7a9d051",
   "metadata": {},
   "outputs": [],
   "source": [
    "slice_1=beats[1].iloc[]"
   ]
  },
  {
   "cell_type": "code",
   "execution_count": 1318,
   "id": "5a69d2d3",
   "metadata": {},
   "outputs": [
    {
     "data": {
      "image/png": "[encoded data removed]",
      "text/plain": [
       "<Figure size 640x480 with 1 Axes>"
      ]
     },
     "metadata": {},
     "output_type": "display_data"
    }
   ],
   "source": [
    "for i, index_set in enumerate(ilocs):\n",
    "    start = 0\n",
    "    for j, end in enumerate(index_set):\n",
    "        slice_1= beats[i].iloc[start + 1:end] if j != 0 else beats[i].iloc[:end]\n",
    "        slice_2=beats[i].iloc[start+1:]\n",
    "        plt.plot(slice_1)\n",
    "        start = end\n",
    "    plt.plot(beats[i].iloc[start + 1:])"
   ]
  },
  {
   "cell_type": "code",
   "execution_count": 1334,
   "id": "ddba3424",
   "metadata": {},
   "outputs": [
    {
     "data": {
      "text/plain": [
       "[837, 844, 854, 1055]"
      ]
     },
     "execution_count": 1334,
     "metadata": {},
     "output_type": "execute_result"
    }
   ],
   "source": [
    "new_indexes"
   ]
  },
  {
   "cell_type": "code",
   "execution_count": 1331,
   "id": "c04e594d",
   "metadata": {},
   "outputs": [
    {
     "data": {
      "text/plain": [
       "[     index   ECG_Rate\n",
       " 0      577  79.813253\n",
       " 1      578  79.547128\n",
       " 2      579  79.275574\n",
       " 3      580  79.052389\n",
       " 4      581  78.818717\n",
       " ..     ...        ...\n",
       " 256    833  79.354612\n",
       " 257    834  79.503115\n",
       " 258    835  79.547661\n",
       " 259    836  79.638159\n",
       " 260    837  79.781201\n",
       " \n",
       " [261 rows x 2 columns],\n",
       "      index   ECG_Rate\n",
       " 0      577  79.813253\n",
       " 1      578  79.547128\n",
       " 2      579  79.275574\n",
       " 3      580  79.052389\n",
       " 4      581  78.818717\n",
       " ..     ...        ...\n",
       " 266    850  79.806036\n",
       " 267    851  79.941069\n",
       " 268    852  79.912951\n",
       " 269    853  79.900444\n",
       " 270    854  79.962651\n",
       " \n",
       " [271 rows x 2 columns],\n",
       "    index   ECG_Rate\n",
       " 0    839  80.000595\n",
       " 1    840  80.033358\n",
       " 2    841  80.075896\n",
       " 3    842  80.081526\n",
       " 4    843  80.086386\n",
       " 5    844  80.069289,\n",
       "      index    ECG_Rate\n",
       " 0      839   80.000595\n",
       " 1      840   80.033358\n",
       " 2      841   80.075896\n",
       " 3      842   80.081526\n",
       " 4      843   80.086386\n",
       " ..     ...         ...\n",
       " 203   1051  132.728891\n",
       " 204   1052  132.390087\n",
       " 205   1053  132.055055\n",
       " 206   1054  131.714244\n",
       " 207   1055  131.383771\n",
       " \n",
       " [208 rows x 2 columns]]"
      ]
     },
     "execution_count": 1331,
     "metadata": {},
     "output_type": "execute_result"
    }
   ],
   "source": [
    "slices"
   ]
  },
  {
   "cell_type": "code",
   "execution_count": 1347,
   "id": "020a9edd",
   "metadata": {},
   "outputs": [
    {
     "data": {
      "image/png": "[encoded data removed]",
      "text/plain": [
       "<Figure size 640x480 with 1 Axes>"
      ]
     },
     "metadata": {},
     "output_type": "display_data"
    }
   ],
   "source": [
    "slices=[]\n",
    "for i, index_set in enumerate(ilocs):\n",
    "    start = 0\n",
    "    for j, end in enumerate(index_set):\n",
    "        slice_1= beats[i].iloc[start + 1:end] if j != 0 else beats[i].iloc[:end]\n",
    "        slice_2=beats[i].iloc[start+1:]\n",
    "        plt.plot(slice_1)\n",
    "        start = end\n",
    "    plt.plot(beats[i].iloc[start + 1:])\n",
    "    slices.append(slice_1)\n",
    "    slices.append(slice_2)\n",
    "        \n",
    "slices=[i.reset_index() for i in slices]\n",
    "slices_indexes=[i['index'] for i in slices]\n",
    "new_indexes=[i.values[-1] for i in slices_indexes]\n",
    "new_indexes.sort()"
   ]
  },
  {
   "cell_type": "code",
   "execution_count": 1349,
   "id": "9a9cf702",
   "metadata": {},
   "outputs": [
    {
     "data": {
      "text/plain": [
       "[[260, 522], [43, 92, 99], [123], []]"
      ]
     },
     "execution_count": 1349,
     "metadata": {},
     "output_type": "execute_result"
    }
   ],
   "source": [
    "ilocs"
   ]
  },
  {
   "cell_type": "code",
   "execution_count": 1323,
   "id": "218018a9",
   "metadata": {},
   "outputs": [],
   "source": [
    "def change_in_activity_rolling(values, bins, manual_adjustment_factor=0):\n",
    "    manual_cut = pd.cut(values, bins)\n",
    "    beats = [values[manual_cut == category] for category in manual_cut.cat.categories]\n",
    "    differences = [np.diff(beat.index) for beat in beats]\n",
    "    ilocs = [[idx for idx, sequence in enumerate(state_difference) if sequence != 1] for state_difference in differences]\n",
    "\n",
    "    slices=[]\n",
    "    for i, index_set in enumerate(ilocs):\n",
    "        start = 0\n",
    "        for j, end in enumerate(index_set):\n",
    "            slice_1= beats[i].iloc[start + 1:end] if j != 0 else beats[i].iloc[:end]\n",
    "            slice_2=beats[i].iloc[start+1:]\n",
    "            plt.plot(slice_1)\n",
    "            start = end\n",
    "        plt.plot(beats[i].iloc[start + 1:])\n",
    "        slices.append(slice_1)\n",
    "        slices.append(slice_2)\n",
    "        \n",
    "    slices=[i.reset_index() for i in slices]\n",
    "    slices_indexes=[i['index'] for i in slices]\n",
    "    new_indexes=[i.values[-1] for i in slices_indexes]\n",
    "    new_indexes.sort()\n",
    "\n",
    "    \n",
    "    return beats,ilocs, slices, slices_indexes, new_indexes"
   ]
  },
  {
   "cell_type": "code",
   "execution_count": 1343,
   "id": "e9ecccbe",
   "metadata": {},
   "outputs": [
    {
     "data": {
      "image/png": "[encoded data removed]",
      "text/plain": [
       "<Figure size 640x480 with 1 Axes>"
      ]
     },
     "metadata": {},
     "output_type": "display_data"
    }
   ],
   "source": [
    "beats, ilocs, slices, slices_indexes,new_indexes=change_in_activity_rolling(values=values, bins=[60,80,90,100,160])"
   ]
  },
  {
   "cell_type": "markdown",
   "id": "14345beb",
   "metadata": {},
   "source": [
    "The function above successfully identifies indexes where the heart rate switches according to the user chosen bins"
   ]
  },
  {
   "cell_type": "code",
   "execution_count": 1361,
   "id": "6d2c269f",
   "metadata": {},
   "outputs": [
    {
     "data": {
      "text/plain": [
       "358    79.620834\n",
       "359    79.846104\n",
       "577    79.813253\n",
       "578    79.547128\n",
       "579    79.275574\n",
       "580    79.052389\n",
       "Name: ECG_Rate, dtype: float64"
      ]
     },
     "execution_count": 1361,
     "metadata": {},
     "output_type": "execute_result"
    }
   ],
   "source": [
    "beats[0].iloc[259:265]"
   ]
  },
  {
   "cell_type": "code",
   "execution_count": 1346,
   "id": "d1b886a4",
   "metadata": {},
   "outputs": [
    {
     "data": {
      "text/plain": [
       "[[260, 522], [43, 92, 99], [123], []]"
      ]
     },
     "execution_count": 1346,
     "metadata": {},
     "output_type": "execute_result"
    }
   ],
   "source": [
    "ilocs"
   ]
  },
  {
   "cell_type": "code",
   "execution_count": 1219,
   "id": "1a60988c",
   "metadata": {},
   "outputs": [],
   "source": [
    "test_sequences=[i.shift(-100) for i in original_seqeunces]"
   ]
  },
  {
   "cell_type": "code",
   "execution_count": 1295,
   "id": "1607e97d",
   "metadata": {},
   "outputs": [
    {
     "data": {
      "text/plain": [
       "[     index   ECG_Rate\n",
       " 0       99  75.466754\n",
       " 1      100  75.279011\n",
       " 2      101  75.267747\n",
       " 3      102  75.352958\n",
       " 4      103  75.358348\n",
       " ..     ...        ...\n",
       " 278    377  83.814887\n",
       " 279    378  84.010755\n",
       " 280    379  84.322042\n",
       " 281    380  84.545822\n",
       " 282    381  84.789497\n",
       " \n",
       " [283 rows x 2 columns],\n",
       "      index   ECG_Rate\n",
       " 0      100  75.279011\n",
       " 1      101  75.267747\n",
       " 2      102  75.352958\n",
       " 3      103  75.358348\n",
       " 4      104  75.411536\n",
       " ..     ...        ...\n",
       " 597    867  82.982175\n",
       " 598    868  83.388649\n",
       " 599    869  83.836771\n",
       " 600    870  84.271435\n",
       " 601    871  84.712543\n",
       " \n",
       " [602 rows x 2 columns],\n",
       "     index   ECG_Rate\n",
       " 0     528  89.899467\n",
       " 1     529  89.664497\n",
       " 2     530  89.463958\n",
       " 3     531  89.282896\n",
       " 4     532  89.028916\n",
       " 5     533  88.804890\n",
       " 6     534  88.627156\n",
       " 7     535  88.399555\n",
       " 8     536  88.162554\n",
       " 9     537  87.996166\n",
       " 10    538  87.891596\n",
       " 11    539  87.799874\n",
       " 12    540  87.624167\n",
       " 13    541  87.398475\n",
       " 14    542  87.222964\n",
       " 15    543  86.999291\n",
       " 16    544  86.760662\n",
       " 17    545  86.539512\n",
       " 18    546  86.363935\n",
       " 19    547  86.193810\n",
       " 20    548  85.890520\n",
       " 21    549  85.667561\n",
       " 22    550  85.473413\n",
       " 23    551  85.306613,\n",
       "     index   ECG_Rate\n",
       " 0     528  89.899467\n",
       " 1     529  89.664497\n",
       " 2     530  89.463958\n",
       " 3     531  89.282896\n",
       " 4     532  89.028916\n",
       " 5     533  88.804890\n",
       " 6     534  88.627156\n",
       " 7     535  88.399555\n",
       " 8     536  88.162554\n",
       " 9     537  87.996166\n",
       " 10    538  87.891596\n",
       " 11    539  87.799874\n",
       " 12    540  87.624167\n",
       " 13    541  87.398475\n",
       " 14    542  87.222964\n",
       " 15    543  86.999291\n",
       " 16    544  86.760662\n",
       " 17    545  86.539512\n",
       " 18    546  86.363935\n",
       " 19    547  86.193810\n",
       " 20    548  85.890520\n",
       " 21    549  85.667561\n",
       " 22    550  85.473413\n",
       " 23    551  85.306613\n",
       " 24    552  85.168001\n",
       " 25    872  85.150051\n",
       " 26    873  85.577285\n",
       " 27    874  86.021722\n",
       " 28    875  86.460972\n",
       " 29    876  86.962376\n",
       " 30    877  87.404670\n",
       " 31    878  87.860117\n",
       " 32    879  88.318668\n",
       " 33    880  88.753829\n",
       " 34    881  89.173536\n",
       " 35    882  89.672512,\n",
       "      index   ECG_Rate\n",
       " 0      404  90.170474\n",
       " 1      405  90.455959\n",
       " 2      406  90.754130\n",
       " 3      407  90.983588\n",
       " 4      408  91.158597\n",
       " ..     ...        ...\n",
       " 118    522  91.249111\n",
       " 119    523  91.025903\n",
       " 120    524  90.783210\n",
       " 121    525  90.514455\n",
       " 122    526  90.274096\n",
       " \n",
       " [123 rows x 2 columns],\n",
       "      index    ECG_Rate\n",
       " 0      405   90.455959\n",
       " 1      406   90.754130\n",
       " 2      407   90.983588\n",
       " 3      408   91.158597\n",
       " 4      409   91.352095\n",
       " ..     ...         ...\n",
       " 291   1051  132.728891\n",
       " 292   1052  132.390087\n",
       " 293   1053  132.055055\n",
       " 294   1054  131.714244\n",
       " 295   1055  131.383771\n",
       " \n",
       " [296 rows x 2 columns]]"
      ]
     },
     "execution_count": 1295,
     "metadata": {},
     "output_type": "execute_result"
    }
   ],
   "source": [
    "slices"
   ]
  },
  {
   "cell_type": "code",
   "execution_count": 1281,
   "id": "0c8c5e05",
   "metadata": {},
   "outputs": [
    {
     "data": {
      "text/plain": [
       "[381, 526, 551, 871, 882, 1055]"
      ]
     },
     "execution_count": 1281,
     "metadata": {},
     "output_type": "execute_result"
    }
   ],
   "source": [
    "new_indexes"
   ]
  },
  {
   "cell_type": "code",
   "execution_count": 1280,
   "id": "30fc8c1d",
   "metadata": {},
   "outputs": [
    {
     "data": {
      "text/html": [
       "<div>\n",
       "<style scoped>\n",
       "    .dataframe tbody tr th:only-of-type {\n",
       "        vertical-align: middle;\n",
       "    }\n",
       "\n",
       "    .dataframe tbody tr th {\n",
       "        vertical-align: top;\n",
       "    }\n",
       "\n",
       "    .dataframe thead th {\n",
       "        text-align: right;\n",
       "    }\n",
       "</style>\n",
       "<table border=\"1\" class=\"dataframe\">\n",
       "  <thead>\n",
       "    <tr style=\"text-align: right;\">\n",
       "      <th></th>\n",
       "      <th>index</th>\n",
       "      <th>ECG_Rate</th>\n",
       "    </tr>\n",
       "  </thead>\n",
       "  <tbody>\n",
       "    <tr>\n",
       "      <th>0</th>\n",
       "      <td>404</td>\n",
       "      <td>90.170474</td>\n",
       "    </tr>\n",
       "    <tr>\n",
       "      <th>1</th>\n",
       "      <td>405</td>\n",
       "      <td>90.455959</td>\n",
       "    </tr>\n",
       "    <tr>\n",
       "      <th>2</th>\n",
       "      <td>406</td>\n",
       "      <td>90.754130</td>\n",
       "    </tr>\n",
       "    <tr>\n",
       "      <th>3</th>\n",
       "      <td>407</td>\n",
       "      <td>90.983588</td>\n",
       "    </tr>\n",
       "    <tr>\n",
       "      <th>4</th>\n",
       "      <td>408</td>\n",
       "      <td>91.158597</td>\n",
       "    </tr>\n",
       "    <tr>\n",
       "      <th>...</th>\n",
       "      <td>...</td>\n",
       "      <td>...</td>\n",
       "    </tr>\n",
       "    <tr>\n",
       "      <th>118</th>\n",
       "      <td>522</td>\n",
       "      <td>91.249111</td>\n",
       "    </tr>\n",
       "    <tr>\n",
       "      <th>119</th>\n",
       "      <td>523</td>\n",
       "      <td>91.025903</td>\n",
       "    </tr>\n",
       "    <tr>\n",
       "      <th>120</th>\n",
       "      <td>524</td>\n",
       "      <td>90.783210</td>\n",
       "    </tr>\n",
       "    <tr>\n",
       "      <th>121</th>\n",
       "      <td>525</td>\n",
       "      <td>90.514455</td>\n",
       "    </tr>\n",
       "    <tr>\n",
       "      <th>122</th>\n",
       "      <td>526</td>\n",
       "      <td>90.274096</td>\n",
       "    </tr>\n",
       "  </tbody>\n",
       "</table>\n",
       "<p>123 rows × 2 columns</p>\n",
       "</div>"
      ],
      "text/plain": [
       "     index   ECG_Rate\n",
       "0      404  90.170474\n",
       "1      405  90.455959\n",
       "2      406  90.754130\n",
       "3      407  90.983588\n",
       "4      408  91.158597\n",
       "..     ...        ...\n",
       "118    522  91.249111\n",
       "119    523  91.025903\n",
       "120    524  90.783210\n",
       "121    525  90.514455\n",
       "122    526  90.274096\n",
       "\n",
       "[123 rows x 2 columns]"
      ]
     },
     "execution_count": 1280,
     "metadata": {},
     "output_type": "execute_result"
    }
   ],
   "source": [
    "slices[4]"
   ]
  },
  {
   "cell_type": "code",
   "execution_count": 1234,
   "id": "aed6f9e1",
   "metadata": {},
   "outputs": [
    {
     "data": {
      "text/plain": [
       "99     73.709920\n",
       "100    71.270510\n",
       "101    70.828751\n",
       "102    78.704356\n",
       "103    71.097957\n",
       "         ...    \n",
       "397    97.975291\n",
       "398    98.219341\n",
       "399    97.337151\n",
       "400    96.883518\n",
       "401    98.269352\n",
       "Name: ECG_Rate, Length: 303, dtype: float64"
      ]
     },
     "execution_count": 1234,
     "metadata": {},
     "output_type": "execute_result"
    }
   ],
   "source": [
    "original_seqeunces[0][99:]"
   ]
  },
  {
   "cell_type": "code",
   "execution_count": 1222,
   "id": "949c85e1",
   "metadata": {},
   "outputs": [
    {
     "data": {
      "text/plain": [
       "[<matplotlib.lines.Line2D at 0x30ae63760>]"
      ]
     },
     "execution_count": 1222,
     "metadata": {},
     "output_type": "execute_result"
    },
    {
     "data": {
      "image/png": "[encoded data removed]",
      "text/plain": [
       "<Figure size 640x480 with 1 Axes>"
      ]
     },
     "metadata": {},
     "output_type": "display_data"
    }
   ],
   "source": [
    "plt.plot(test_sequences[0])\n",
    "plt.plot(test_sequences[1])\n",
    "plt.plot(test_sequences[2])\n",
    "plt.plot(test_sequences[3])"
   ]
  },
  {
   "cell_type": "code",
   "execution_count": 1211,
   "id": "9f3bc0a8",
   "metadata": {},
   "outputs": [
    {
     "data": {
      "text/plain": [
       "[0      90.044778\n",
       " 1      71.955127\n",
       " 2      70.183319\n",
       " 3      70.558943\n",
       " 4      68.195348\n",
       "          ...    \n",
       " 397    97.975291\n",
       " 398    98.219341\n",
       " 399    97.337151\n",
       " 400    96.883518\n",
       " 401    98.269352\n",
       " Name: ECG_Rate, Length: 402, dtype: float64,\n",
       " 402    100.970480\n",
       " 403     98.484850\n",
       " 404     99.347598\n",
       " 405    100.715845\n",
       " 406     99.791554\n",
       "           ...    \n",
       " 521     80.817832\n",
       " 522     78.873540\n",
       " 523     74.830546\n",
       " 524     73.311911\n",
       " 525     70.352946\n",
       " Name: ECG_Rate, Length: 124, dtype: float64,\n",
       " 526     70.450308\n",
       " 527     71.194452\n",
       " 528     78.559879\n",
       " 529     71.580911\n",
       " 530     78.817230\n",
       "           ...    \n",
       " 877    122.728073\n",
       " 878    123.999091\n",
       " 879    124.343265\n",
       " 880    125.523013\n",
       " 881    123.456790\n",
       " Name: ECG_Rate, Length: 356, dtype: float64,\n",
       " 882     127.964987\n",
       " 883     130.256023\n",
       " 884     131.512392\n",
       " 885     132.438499\n",
       " 886     129.996137\n",
       "            ...    \n",
       " 1050    110.497238\n",
       " 1051    110.497238\n",
       " 1052    110.497238\n",
       " 1053    110.497238\n",
       " 1054    110.497238\n",
       " Name: ECG_Rate, Length: 173, dtype: float64]"
      ]
     },
     "execution_count": 1211,
     "metadata": {},
     "output_type": "execute_result"
    }
   ],
   "source": [
    "original_seqeunces=[original_seqeunces"
   ]
  },
  {
   "cell_type": "code",
   "execution_count": 1000,
   "id": "0da871ce",
   "metadata": {},
   "outputs": [
    {
     "data": {
      "text/plain": [
       "[array([  1,   1,   1,   1,   1,   1,   1,   1,   1,   1,   1,   1,   1,\n",
       "          1,   1,   1,   1,   1,   1,   1,   1,   1,   1,   1,   1,   1,\n",
       "          1,   1,   1,   1,   1,   1,   1,   1,   1,   1,   1,   1,   1,\n",
       "          1,   1,   1,   1,   1,   1,   1,   1,   1,   1,   1,   1,   1,\n",
       "          1,   1,   1,   1,   1,   1,   1,   1,   1,   1,   1,   1,   1,\n",
       "          1,   1,   1,   1,   1,   1,   1,   1,   1,   1,   1,   1,   1,\n",
       "          1,   1,   1,   1,   1,   1,   1,   1,   1,   1,   1,   1,   1,\n",
       "          1,   1,   1,   1,   1,   1,   1,   1,   1,   1,   1,   1,   1,\n",
       "          1,   1,   1,   1,   1,   1,   1,   1,   1,   1,   1,   1,   1,\n",
       "          1,   1,   1,   1,   1,   1,   1,   1,   1,   1,   1,   1,   1,\n",
       "          1,   1,   1,   1,   1,   1,   1,   1,   1,   1,   1,   1,   1,\n",
       "          1,   1,   1,   1,   1,   1,   1,   1,   1,   1,   1,   1,   1,\n",
       "          1,   1,   1,   1,   1,   1,   1,   1,   1,   1,   1,   1,   1,\n",
       "          1,   1,   1,   1,   1,   1,   1,   1,   1,   1,   1,   1,   1,\n",
       "          1,   1,   1,   1,   1,   1,   1,   1,   1,   1,   1,   1,   1,\n",
       "          1,   1,   1,   1,   1,   1,   1,   1,   1,   1,   1,   1,   1,\n",
       "          1,   1,   1,   1,   1,   1,   1,   1,   1,   1,   1,   1,   1,\n",
       "          1,   1,   1,   1,   1,   1,   1,   1,   1,   1,   1,   1,   1,\n",
       "          1,   1,   1,   1,   1,   1,   1,   1,   1,   1,   1,   1,   1,\n",
       "          1,   1,   1,   1,   1,   1,   1,   1,   1,   1,   1,   1,   1,\n",
       "          1,   1,   1,   1,   1,   1,   1,   1,   1,   1,   1,   1,   1,\n",
       "          1,   1,   1,   1,   1,   1,   1,   1,   1,   1,   1,   1,   1,\n",
       "          1,   1,   1,   1,   1,   1,   1,   1,   1,   1,   1,   1,   1,\n",
       "          1,   1,   1,   1,   1, 125,   1,   1,   1,   1,   1,   1,   1,\n",
       "          1,   1,   1,   1,   1,   1,   1,   1,   1,   1,   1,   1,   1,\n",
       "          1,   1,   1,   1,   1,   1,   1,   1,   1,   1,   1,   1,   1,\n",
       "          1,   1,   1,   1,   1,   1,   1,   1,   1,   1,   1,   1,   1,\n",
       "          1,   1,   1,   1,   1,   1,   1,   1,   1,   1,   1,   1,   1,\n",
       "          1,   1,   1,   1,   1,   1,   1,   1,   1,   1,   1,   1,   1,\n",
       "          1,   1,   1,   1,   1,   1,   1,   1,   1,   1,   1,   1,   1,\n",
       "          1,   1,   1,   1,   1,   1,   1,   1,   1,   1,   1,   1,   1,\n",
       "          1,   1,   1,   1,   1,   1,   1,   1,   1,   1,   1,   1,   1,\n",
       "          1,   1,   1,   1,   1,   1,   1,   1,   1,   1,   1,   1,   1,\n",
       "          1,   1,   1,   1,   1,   1,   1,   1,   1,   1,   1,   1,   1,\n",
       "          1,   1,   1,   1,   1,   1,   1,   1,   1,   1,   1,   1,   1,\n",
       "          1,   1,   1,   1,   1,   1,   1,   1,   1,   1,   1,   1,   1,\n",
       "          1,   1,   1,   1,   1,   1,   1,   1,   1,   1,   1,   1,   1,\n",
       "          1,   1,   1,   1,   1,   1,   1,   1,   1,   1,   1,   1,   1,\n",
       "          1,   1,   1,   1,   1,   1,   1,   1,   1,   1,   1,   1,   1,\n",
       "          1,   1,   1,   1,   1,   1,   1,   1,   1,   1,   1,   1,   1,\n",
       "          1,   1,   1,   1,   1,   1,   1,   1,   1,   1,   1,   1,   1,\n",
       "          1,   1,   1,   1,   1,   1,   1,   1,   1,   1,   1,   1,   1,\n",
       "          1,   1,   1,   1,   1,   1,   1,   1,   1,   1,   1,   1,   1,\n",
       "          1,   1,   1,   1,   1,   1,   1,   1,   1,   1,   1,   1,   1,\n",
       "          1,   1,   1,   1,   1,   1,   1,   1,   1,   1,   1,   1,   1,\n",
       "          1,   1,   1,   1,   1,   1,   1,   1,   1,   1,   1,   1,   1,\n",
       "          1,   1,   1,   1,   1,   1,   1,   1,   1,   1,   1,   1,   1,\n",
       "          1,   1,   1,   1,   1,   1,   1,   1,   1,   1,   1,   1,   1,\n",
       "          1,   1,   1,   1,   1,   1,   1,   1,   1,   1,   1,   1,   1,\n",
       "          1,   1,   1,   1,   1,   1,   1,   1,   1,   1,   1,   1,   1,\n",
       "          1,   1,   1,   1,   1,   1,   1,   1,   1]),\n",
       " array([  1,   1,   1,   1,   1,   1,   1,   1,   1,   1,   1,   1,   1,\n",
       "          1,   1,   1,   1,   1,   1,   1,   1,   1,   1,   1,   1,   1,\n",
       "          1,   1,   1,   1,   1,   1,   1,   1,   1,   1,   1,   1,   1,\n",
       "          1,   1,   1,   1,   1,   1,   1,   1,   1,   1,   1,   1,   1,\n",
       "          1,   1,   1,   1,   1,   1,   1,   1,   1,   1,   1,   1,   1,\n",
       "          1,   1,   1,   1,   1,   1,   1,   1,   1,   1,   1,   1,   1,\n",
       "          1,   1,   1,   1,   1,   1,   1,   1,   1,   1,   1,   1,   1,\n",
       "          1,   1,   1,   1,   1,   1,   1,   1,   1,   1,   1,   1,   1,\n",
       "          1,   1,   1,   1,   1,   1,   1,   1,   1,   1,   1,   1,   1,\n",
       "          1,   1,   1,   1,   1,   1, 356,   1,   1,   1,   1,   1,   1,\n",
       "          1,   1,   1,   1,   1,   1,   1,   1,   1,   1,   1,   1,   1,\n",
       "          1,   1,   1,   1,   1,   1,   1,   1,   1,   1,   1,   1,   1,\n",
       "          1,   1,   1,   1,   1,   1,   1,   1,   1,   1,   1,   1,   1,\n",
       "          1,   1,   1,   1,   1,   1,   1,   1,   1,   1,   1,   1,   1,\n",
       "          1,   1,   1,   1,   1,   1,   1,   1,   1,   1,   1,   1,   1,\n",
       "          1,   1,   1,   1,   1,   1,   1,   1,   1,   1,   1,   1,   1,\n",
       "          1,   1,   1,   1,   1,   1,   1,   1,   1,   1,   1,   1,   1,\n",
       "          1,   1,   1,   1,   1,   1,   1,   1,   1,   1,   1,   1,   1,\n",
       "          1,   1,   1,   1,   1,   1,   1,   1,   1,   1,   1,   1,   1,\n",
       "          1,   1,   1,   1,   1,   1,   1,   1,   1,   1,   1,   1,   1,\n",
       "          1,   1,   1,   1,   1,   1,   1,   1,   1,   1,   1,   1,   1,\n",
       "          1,   1,   1,   1,   1,   1,   1,   1,   1,   1,   1,   1,   1,\n",
       "          1,   1,   1,   1,   1,   1,   1,   1,   1,   1])]"
      ]
     },
     "execution_count": 1000,
     "metadata": {},
     "output_type": "execute_result"
    }
   ],
   "source": [
    "differences"
   ]
  },
  {
   "cell_type": "code",
   "execution_count": 790,
   "id": "cc901b27",
   "metadata": {},
   "outputs": [
    {
     "data": {
      "text/plain": [
       "[<matplotlib.lines.Line2D at 0x17c3e7880>]"
      ]
     },
     "execution_count": 790,
     "metadata": {},
     "output_type": "execute_result"
    },
    {
     "data": {
      "image/png": "[encoded data removed]",
      "text/plain": [
       "<Figure size 640x480 with 1 Axes>"
      ]
     },
     "metadata": {},
     "output_type": "display_data"
    }
   ],
   "source": [
    "plt.plot(heart_rate)"
   ]
  },
  {
   "cell_type": "markdown",
   "id": "1c1ac256",
   "metadata": {},
   "source": [
    "Finally got a working function that isolates the specific segments (for the most part). So what is the goal now? The goal is to use the function to isolate the periods of the actual heart rate signal that were during each activity so we have labels for the type of activity from the raw data"
   ]
  },
  {
   "cell_type": "markdown",
   "id": "6b3d2679",
   "metadata": {},
   "source": [
    "Return the specific iloc index within the larger heart_rate series where the heart rate starts to change and put that into function as well"
   ]
  },
  {
   "cell_type": "code",
   "execution_count": 967,
   "id": "83cf830c",
   "metadata": {},
   "outputs": [
    {
     "data": {
      "text/plain": [
       "[<matplotlib.lines.Line2D at 0x2a6ecaef0>]"
      ]
     },
     "execution_count": 967,
     "metadata": {},
     "output_type": "execute_result"
    },
    {
     "data": {
      "image/png": "[encoded data removed]",
      "text/plain": [
       "<Figure size 640x480 with 1 Axes>"
      ]
     },
     "metadata": {},
     "output_type": "display_data"
    }
   ],
   "source": [
    "plt.plot(values)"
   ]
  },
  {
   "cell_type": "code",
   "execution_count": 1001,
   "id": "f831e54e",
   "metadata": {},
   "outputs": [
    {
     "data": {
      "text/plain": [
       "[[304], [123]]"
      ]
     },
     "execution_count": 1001,
     "metadata": {},
     "output_type": "execute_result"
    }
   ],
   "source": [
    "ilocs"
   ]
  },
  {
   "cell_type": "code",
   "execution_count": 1107,
   "id": "6d0d6980",
   "metadata": {},
   "outputs": [],
   "source": [
    "slices=[]\n",
    "for i, index_set in enumerate(ilocs):\n",
    "    start = 0\n",
    "    for j, end in enumerate(index_set):\n",
    "        slc1=beats[i].iloc[start+1:end+1] if j != 0 else beats[i].iloc[:end+1]\n",
    "        start=end\n",
    "    slc2=beats[i].iloc[start+1:]\n",
    "    slices.append(slc1)\n",
    "    slices.append(slc2)"
   ]
  },
  {
   "cell_type": "code",
   "execution_count": 1108,
   "id": "9418f13f",
   "metadata": {},
   "outputs": [],
   "source": [
    "slices_indexes=[i['index'] for i in slices]"
   ]
  },
  {
   "cell_type": "code",
   "execution_count": 1109,
   "id": "e6613879",
   "metadata": {},
   "outputs": [
    {
     "data": {
      "text/plain": [
       "[     index   ECG_Rate\n",
       " 0       99  75.466754\n",
       " 1      100  75.279011\n",
       " 2      101  75.267747\n",
       " 3      102  75.352958\n",
       " 4      103  75.358348\n",
       " ..     ...        ...\n",
       " 300    399  88.816932\n",
       " 301    400  89.043117\n",
       " 302    401  89.343757\n",
       " 303    402  89.635916\n",
       " 304    403  89.919345\n",
       " \n",
       " [305 rows x 2 columns],\n",
       "      index   ECG_Rate\n",
       " 305    528  89.899467\n",
       " 306    529  89.664497\n",
       " 307    530  89.463958\n",
       " 308    531  89.282896\n",
       " 309    532  89.028916\n",
       " ..     ...        ...\n",
       " 655    878  87.860117\n",
       " 656    879  88.318668\n",
       " 657    880  88.753829\n",
       " 658    881  89.173536\n",
       " 659    882  89.672512\n",
       " \n",
       " [355 rows x 2 columns],\n",
       "      index   ECG_Rate\n",
       " 0      404  90.170474\n",
       " 1      405  90.455959\n",
       " 2      406  90.754130\n",
       " 3      407  90.983588\n",
       " 4      408  91.158597\n",
       " ..     ...        ...\n",
       " 119    523  91.025903\n",
       " 120    524  90.783210\n",
       " 121    525  90.514455\n",
       " 122    526  90.274096\n",
       " 123    527  90.052668\n",
       " \n",
       " [124 rows x 2 columns],\n",
       "      index    ECG_Rate\n",
       " 124    883   90.265271\n",
       " 125    884   90.760311\n",
       " 126    885   91.267732\n",
       " 127    886   91.768328\n",
       " 128    887   92.337713\n",
       " ..     ...         ...\n",
       " 292   1051  132.728891\n",
       " 293   1052  132.390087\n",
       " 294   1053  132.055055\n",
       " 295   1054  131.714244\n",
       " 296   1055  131.383771\n",
       " \n",
       " [173 rows x 2 columns]]"
      ]
     },
     "execution_count": 1109,
     "metadata": {},
     "output_type": "execute_result"
    }
   ],
   "source": [
    "slices"
   ]
  },
  {
   "cell_type": "markdown",
   "id": "15c201c8",
   "metadata": {},
   "source": [
    "I finally have the segments of ECG that correspond to activity based on heart rate. Now I need to apply these segments to the heart_rate data (every 2 seconds) and then the original heart rate data"
   ]
  },
  {
   "cell_type": "code",
   "execution_count": 1101,
   "id": "2371d535",
   "metadata": {},
   "outputs": [
    {
     "data": {
      "text/plain": [
       "[<matplotlib.lines.Line2D at 0x2c7728d00>]"
      ]
     },
     "execution_count": 1101,
     "metadata": {},
     "output_type": "execute_result"
    },
    {
     "data": {
      "image/png": "[encoded data removed]",
      "text/plain": [
       "<Figure size 640x480 with 1 Axes>"
      ]
     },
     "metadata": {},
     "output_type": "display_data"
    }
   ],
   "source": [
    "plt.plot(heart_rate)"
   ]
  },
  {
   "cell_type": "code",
   "execution_count": 1111,
   "id": "a9e1f6d5",
   "metadata": {},
   "outputs": [
    {
     "data": {
      "text/plain": [
       "0        90.044778\n",
       "1        71.955127\n",
       "2        70.183319\n",
       "3        70.558943\n",
       "4        68.195348\n",
       "           ...    \n",
       "1051    110.497238\n",
       "1052    110.497238\n",
       "1053    110.497238\n",
       "1054    110.497238\n",
       "1055    110.497238\n",
       "Name: ECG_Rate, Length: 1056, dtype: float64"
      ]
     },
     "execution_count": 1111,
     "metadata": {},
     "output_type": "execute_result"
    }
   ],
   "source": [
    "heart_rate"
   ]
  },
  {
   "cell_type": "code",
   "execution_count": 1125,
   "id": "171f2771",
   "metadata": {},
   "outputs": [],
   "source": [
    "new_indexes=[i.values[-1] for i in slices_test]"
   ]
  },
  {
   "cell_type": "code",
   "execution_count": 1127,
   "id": "39ecf03a",
   "metadata": {},
   "outputs": [],
   "source": [
    "new_indexes.sort()"
   ]
  },
  {
   "cell_type": "code",
   "execution_count": 1128,
   "id": "d28dd4e4",
   "metadata": {},
   "outputs": [
    {
     "data": {
      "text/plain": [
       "[403, 527, 882, 1055]"
      ]
     },
     "execution_count": 1128,
     "metadata": {},
     "output_type": "execute_result"
    }
   ],
   "source": [
    "new_indexes"
   ]
  },
  {
   "cell_type": "code",
   "execution_count": 1205,
   "id": "ddbb4d3a",
   "metadata": {},
   "outputs": [
    {
     "data": {
      "text/plain": [
       "0        90.044778\n",
       "1        71.955127\n",
       "2        70.183319\n",
       "3        70.558943\n",
       "4        68.195348\n",
       "           ...    \n",
       "1051    110.497238\n",
       "1052    110.497238\n",
       "1053    110.497238\n",
       "1054    110.497238\n",
       "1055    110.497238\n",
       "Name: ECG_Rate, Length: 1056, dtype: float64"
      ]
     },
     "execution_count": 1205,
     "metadata": {},
     "output_type": "execute_result"
    }
   ],
   "source": [
    "heart_rate"
   ]
  },
  {
   "cell_type": "code",
   "execution_count": 1206,
   "id": "81876ab0",
   "metadata": {},
   "outputs": [
    {
     "data": {
      "text/plain": [
       "[0      90.044778\n",
       " 1      71.955127\n",
       " 2      70.183319\n",
       " 3      70.558943\n",
       " 4      68.195348\n",
       "          ...    \n",
       " 397    97.975291\n",
       " 398    98.219341\n",
       " 399    97.337151\n",
       " 400    96.883518\n",
       " 401    98.269352\n",
       " Name: ECG_Rate, Length: 402, dtype: float64,\n",
       " 402    100.970480\n",
       " 403     98.484850\n",
       " 404     99.347598\n",
       " 405    100.715845\n",
       " 406     99.791554\n",
       "           ...    \n",
       " 521     80.817832\n",
       " 522     78.873540\n",
       " 523     74.830546\n",
       " 524     73.311911\n",
       " 525     70.352946\n",
       " Name: ECG_Rate, Length: 124, dtype: float64,\n",
       " 526     70.450308\n",
       " 527     71.194452\n",
       " 528     78.559879\n",
       " 529     71.580911\n",
       " 530     78.817230\n",
       "           ...    \n",
       " 877    122.728073\n",
       " 878    123.999091\n",
       " 879    124.343265\n",
       " 880    125.523013\n",
       " 881    123.456790\n",
       " Name: ECG_Rate, Length: 356, dtype: float64,\n",
       " 882     127.964987\n",
       " 883     130.256023\n",
       " 884     131.512392\n",
       " 885     132.438499\n",
       " 886     129.996137\n",
       "            ...    \n",
       " 1050    110.497238\n",
       " 1051    110.497238\n",
       " 1052    110.497238\n",
       " 1053    110.497238\n",
       " 1054    110.497238\n",
       " Name: ECG_Rate, Length: 173, dtype: float64]"
      ]
     },
     "execution_count": 1206,
     "metadata": {},
     "output_type": "execute_result"
    }
   ],
   "source": [
    "sub_sequences"
   ]
  },
  {
   "cell_type": "code",
   "execution_count": 1204,
   "id": "20d1304c",
   "metadata": {},
   "outputs": [
    {
     "data": {
      "image/png": "[encoded data removed]",
      "text/plain": [
       "<Figure size 640x480 with 1 Axes>"
      ]
     },
     "metadata": {},
     "output_type": "display_data"
    }
   ],
   "source": [
    "sub_sequences=[]\n",
    "start=0\n",
    "for i in new_indexes:\n",
    "    sub_sequence=heart_rate[start:i]\n",
    "    sub_sequences.append(sub_sequence)\n",
    "    plt.plot(sub_sequence)\n",
    "    start=i"
   ]
  },
  {
   "cell_type": "code",
   "execution_count": 1015,
   "id": "dfda740f",
   "metadata": {},
   "outputs": [
    {
     "data": {
      "text/plain": [
       "[403, 527, 528, 883]"
      ]
     },
     "execution_count": 1015,
     "metadata": {},
     "output_type": "execute_result"
    }
   ],
   "source": [
    "indexes"
   ]
  },
  {
   "cell_type": "code",
   "execution_count": 1016,
   "id": "e68109f9",
   "metadata": {},
   "outputs": [
    {
     "data": {
      "text/plain": [
       "[[304], [123]]"
      ]
     },
     "execution_count": 1016,
     "metadata": {},
     "output_type": "execute_result"
    }
   ],
   "source": [
    "ilocs"
   ]
  },
  {
   "cell_type": "code",
   "execution_count": 1029,
   "id": "8b6efb2d",
   "metadata": {},
   "outputs": [
    {
     "data": {
      "text/plain": [
       "index       524.00000\n",
       "ECG_Rate     90.78321\n",
       "Name: 120, dtype: float64"
      ]
     },
     "execution_count": 1029,
     "metadata": {},
     "output_type": "execute_result"
    }
   ],
   "source": [
    "beats[1].iloc[120]"
   ]
  },
  {
   "cell_type": "code",
   "execution_count": 1033,
   "id": "e74d2fdc",
   "metadata": {},
   "outputs": [
    {
     "data": {
      "text/plain": [
       "index       528.000000\n",
       "ECG_Rate     89.899467\n",
       "Name: 305, dtype: float64"
      ]
     },
     "execution_count": 1033,
     "metadata": {},
     "output_type": "execute_result"
    }
   ],
   "source": [
    "beats[0].iloc[305]"
   ]
  },
  {
   "cell_type": "code",
   "execution_count": 998,
   "id": "b4a51ebf",
   "metadata": {},
   "outputs": [
    {
     "data": {
      "text/html": [
       "<div>\n",
       "<style scoped>\n",
       "    .dataframe tbody tr th:only-of-type {\n",
       "        vertical-align: middle;\n",
       "    }\n",
       "\n",
       "    .dataframe tbody tr th {\n",
       "        vertical-align: top;\n",
       "    }\n",
       "\n",
       "    .dataframe thead th {\n",
       "        text-align: right;\n",
       "    }\n",
       "</style>\n",
       "<table border=\"1\" class=\"dataframe\">\n",
       "  <thead>\n",
       "    <tr style=\"text-align: right;\">\n",
       "      <th></th>\n",
       "      <th>index</th>\n",
       "      <th>ECG_Rate</th>\n",
       "    </tr>\n",
       "  </thead>\n",
       "  <tbody>\n",
       "    <tr>\n",
       "      <th>375</th>\n",
       "      <td>598</td>\n",
       "      <td>75.917168</td>\n",
       "    </tr>\n",
       "    <tr>\n",
       "      <th>376</th>\n",
       "      <td>599</td>\n",
       "      <td>75.797082</td>\n",
       "    </tr>\n",
       "    <tr>\n",
       "      <th>377</th>\n",
       "      <td>600</td>\n",
       "      <td>75.718925</td>\n",
       "    </tr>\n",
       "    <tr>\n",
       "      <th>378</th>\n",
       "      <td>601</td>\n",
       "      <td>75.694370</td>\n",
       "    </tr>\n",
       "  </tbody>\n",
       "</table>\n",
       "</div>"
      ],
      "text/plain": [
       "     index   ECG_Rate\n",
       "375    598  75.917168\n",
       "376    599  75.797082\n",
       "377    600  75.718925\n",
       "378    601  75.694370"
      ]
     },
     "execution_count": 998,
     "metadata": {},
     "output_type": "execute_result"
    }
   ],
   "source": [
    "beats[0].iloc[375:379]"
   ]
  },
  {
   "cell_type": "code",
   "execution_count": 1008,
   "id": "fdbeba6b",
   "metadata": {},
   "outputs": [],
   "source": [
    "indexes=[]"
   ]
  },
  {
   "cell_type": "code",
   "execution_count": 1014,
   "id": "f3bd0642",
   "metadata": {},
   "outputs": [
    {
     "data": {
      "text/plain": [
       "[403, 527, 528, 883]"
      ]
     },
     "execution_count": 1014,
     "metadata": {},
     "output_type": "execute_result"
    }
   ],
   "source": [
    "indexes"
   ]
  },
  {
   "cell_type": "code",
   "execution_count": 1013,
   "id": "b95d3ca0",
   "metadata": {},
   "outputs": [],
   "source": [
    "indexes=[]\n",
    "for i, index_set in enumerate(ilocs):\n",
    "    for j, end in enumerate(index_set):\n",
    "        x=beats[i].iloc[end]\n",
    "        y=beats[i].iloc[end+1]\n",
    "        indexes.append(x)\n",
    "        indexes.append(y)\n",
    "indexes=[i['index'] for i in indexes]\n",
    "indexes.sort()\n",
    "indexes=[int(i) for i in indexes]"
   ]
  },
  {
   "cell_type": "code",
   "execution_count": 972,
   "id": "afa4721c",
   "metadata": {},
   "outputs": [
    {
     "data": {
      "text/plain": [
       "[<matplotlib.lines.Line2D at 0x2a7094670>]"
      ]
     },
     "execution_count": 972,
     "metadata": {},
     "output_type": "execute_result"
    },
    {
     "data": {
      "image/png": "[encoded data removed]",
      "text/plain": [
       "<Figure size 640x480 with 1 Axes>"
      ]
     },
     "metadata": {},
     "output_type": "display_data"
    }
   ],
   "source": [
    "plt.plot(heart_rate[:xs[0]])\n",
    "plt.plot(heart_rate[xs[0]:xs[2]])\n",
    "plt.plot(heart_rate[xs[2]:xs[3]])\n",
    "plt.plot(heart_rate[xs[3]:])"
   ]
  },
  {
   "cell_type": "markdown",
   "id": "742d7ff6",
   "metadata": {},
   "source": [
    "So i was able to find a solution to one specific instance but it doesn't generalize at all to different bins sizes or numbers so I am kind of starting again from scratch after the ilocs portion which teh function does work properly for"
   ]
  },
  {
   "cell_type": "markdown",
   "id": "9781afac",
   "metadata": {},
   "source": [
    "Finally, after much heartache, I was able to find the solution to the problem. I was not keeping track of the previous end point in slices, once I do that it is able to correctly slice through the data"
   ]
  },
  {
   "cell_type": "code",
   "execution_count": 1675,
   "id": "9fe022dd",
   "metadata": {},
   "outputs": [],
   "source": [
    "def change_in_activity(values, bins, adjustment_factor=0):\n",
    "    manual_cut = pd.cut(values, bins)\n",
    "    beats = [values[manual_cut == category] for category in manual_cut.cat.categories]\n",
    "    differences = [np.diff(beat.index) for beat in beats]\n",
    "    ilocs = [[idx for idx, sequence in enumerate(state_difference) if sequence != 1] for state_difference in differences]\n",
    "\n",
    "    fig,ax=plt.subplots(1,2)\n",
    "    slices = []\n",
    "    for i, index_set in enumerate(ilocs):\n",
    "        prev_end = 0\n",
    "        for j, end in enumerate(index_set):\n",
    "            slice_start = prev_end\n",
    "            slice_end = end\n",
    "            if j == 0:\n",
    "                slice_start = 0\n",
    "            slice_1 = beats[i].iloc[slice_start+1:slice_end]\n",
    "            slices.append(slice_1)\n",
    "            ax[0].plot(slice_1)\n",
    "            prev_end = end\n",
    "        slice_start = prev_end\n",
    "        slice_3 = beats[i].iloc[slice_start+1:]\n",
    "        ax[0].plot(slice_3)\n",
    "        slices.append(slice_3)\n",
    "\n",
    "    slices=[i.reset_index() for i in slices]\n",
    "    slices_indexes=[i['index'] for i in slices]\n",
    "    new_indexes=[i.values[-1] for i in slices_indexes]\n",
    "    new_indexes.sort()\n",
    "    \n",
    "    adjusted_indexes=[i+adjustment_factor for i in new_indexes]\n",
    "    for i in range(len(adjusted_indexes)):\n",
    "        if i == 0:\n",
    "            ax[1].plot(heart_rate.iloc[:adjusted_indexes[i]])\n",
    "        else:\n",
    "            ax[1].plot(heart_rate.iloc[adjusted_indexes[i-1]:adjusted_indexes[i]])\n",
    "    \n",
    "    return new_indexes, adjusted_indexes"
   ]
  },
  {
   "cell_type": "code",
   "execution_count": 1679,
   "id": "4ddecd64",
   "metadata": {},
   "outputs": [
    {
     "data": {
      "image/png": "[encoded data removed]",
      "text/plain": [
       "<Figure size 640x480 with 2 Axes>"
      ]
     },
     "metadata": {},
     "output_type": "display_data"
    }
   ],
   "source": [
    "new_indexes, adjusted_indexes=change_in_activity(values, bins=[60,83,160], adjustment_factor=-40)"
   ]
  },
  {
   "cell_type": "code",
   "execution_count": 1677,
   "id": "160f1f2d",
   "metadata": {},
   "outputs": [
    {
     "data": {
      "text/plain": [
       "[318, 362, 486, 535, 797, 804, 814, 842, 1015]"
      ]
     },
     "execution_count": 1677,
     "metadata": {},
     "output_type": "execute_result"
    }
   ],
   "source": [
    "adjusted_indexes"
   ]
  },
  {
   "cell_type": "markdown",
   "id": "ca5abbc9",
   "metadata": {},
   "source": [
    "You can visually validate the new indexes that are returned as well and see that they are correct"
   ]
  },
  {
   "cell_type": "markdown",
   "id": "591f7309",
   "metadata": {},
   "source": [
    "Now we can try and relate these indexes to the original heart rate data"
   ]
  },
  {
   "cell_type": "code",
   "execution_count": 1627,
   "id": "cb049d2a",
   "metadata": {},
   "outputs": [
    {
     "data": {
      "text/plain": [
       "1056"
      ]
     },
     "execution_count": 1627,
     "metadata": {},
     "output_type": "execute_result"
    }
   ],
   "source": [
    "len(heart_rate)"
   ]
  },
  {
   "cell_type": "code",
   "execution_count": 1624,
   "id": "75f2711e",
   "metadata": {},
   "outputs": [],
   "source": [
    "xs=[i-40 for i in new_indexes]"
   ]
  },
  {
   "cell_type": "code",
   "execution_count": 1643,
   "id": "c24e054b",
   "metadata": {},
   "outputs": [
    {
     "data": {
      "image/png": "[encoded data removed]",
      "text/plain": [
       "<Figure size 640x480 with 2 Axes>"
      ]
     },
     "metadata": {},
     "output_type": "display_data"
    }
   ],
   "source": [
    "fig,ax=plt.subplots(1,2)\n",
    "for i in range(len(xs)):\n",
    "    if i == 0:\n",
    "        ax[0].plot(heart_rate.iloc[:xs[i]])\n",
    "    else:\n",
    "        ax[0].plot(heart_rate.iloc[xs[i-1]:xs[i]])"
   ]
  },
  {
   "cell_type": "markdown",
   "id": "687f75b1",
   "metadata": {},
   "source": [
    "# Use the indexes to establish when activity changes"
   ]
  },
  {
   "cell_type": "code",
   "execution_count": 1654,
   "id": "c56bb958",
   "metadata": {},
   "outputs": [
    {
     "data": {
      "text/plain": [
       "0        90.044778\n",
       "1        71.955127\n",
       "2        70.183319\n",
       "3        70.558943\n",
       "4        68.195348\n",
       "           ...    \n",
       "1051    110.497238\n",
       "1052    110.497238\n",
       "1053    110.497238\n",
       "1054    110.497238\n",
       "1055    110.497238\n",
       "Name: ECG_Rate, Length: 1056, dtype: float64"
      ]
     },
     "execution_count": 1654,
     "metadata": {},
     "output_type": "execute_result"
    }
   ],
   "source": [
    "heart_rate"
   ]
  },
  {
   "cell_type": "code",
   "execution_count": 1659,
   "id": "a19ff828",
   "metadata": {},
   "outputs": [],
   "source": [
    "test=signals['ECG_Rate'][::2000]"
   ]
  },
  {
   "cell_type": "code",
   "execution_count": 1661,
   "id": "7696185f",
   "metadata": {},
   "outputs": [],
   "source": [
    "test=test.reset_index()"
   ]
  },
  {
   "cell_type": "code",
   "execution_count": 1716,
   "id": "5b11f547",
   "metadata": {},
   "outputs": [
    {
     "data": {
      "text/plain": [
       "[332, 523, 827, 1015]"
      ]
     },
     "execution_count": 1716,
     "metadata": {},
     "output_type": "execute_result"
    }
   ],
   "source": [
    "adjusted_indexes"
   ]
  },
  {
   "cell_type": "code",
   "execution_count": 1718,
   "id": "48178c12",
   "metadata": {},
   "outputs": [],
   "source": [
    "test_i=[test.iloc[i] for i in adjusted_indexes]"
   ]
  },
  {
   "cell_type": "code",
   "execution_count": 1719,
   "id": "d341a772",
   "metadata": {},
   "outputs": [
    {
     "data": {
      "text/plain": [
       "[index       664000.00000\n",
       " ECG_Rate        75.78884\n",
       " Name: 332, dtype: float64,\n",
       " index       1.046000e+06\n",
       " ECG_Rate    7.483055e+01\n",
       " Name: 523, dtype: float64,\n",
       " index       1.654000e+06\n",
       " ECG_Rate    7.101181e+01\n",
       " Name: 827, dtype: float64,\n",
       " index       2.030000e+06\n",
       " ECG_Rate    1.284012e+02\n",
       " Name: 1015, dtype: float64]"
      ]
     },
     "execution_count": 1719,
     "metadata": {},
     "output_type": "execute_result"
    }
   ],
   "source": [
    "test_i"
   ]
  },
  {
   "cell_type": "code",
   "execution_count": 1720,
   "id": "8658f905",
   "metadata": {},
   "outputs": [],
   "source": [
    "OG_indexes=[int(i['index']) for i in test_i]"
   ]
  },
  {
   "cell_type": "code",
   "execution_count": 1721,
   "id": "f7757db5",
   "metadata": {},
   "outputs": [
    {
     "data": {
      "text/plain": [
       "[664000, 1046000, 1654000, 2030000]"
      ]
     },
     "execution_count": 1721,
     "metadata": {},
     "output_type": "execute_result"
    }
   ],
   "source": [
    "OG_indexes"
   ]
  },
  {
   "cell_type": "code",
   "execution_count": 1725,
   "id": "b6df7853",
   "metadata": {},
   "outputs": [
    {
     "data": {
      "text/html": [
       "<div>\n",
       "<style scoped>\n",
       "    .dataframe tbody tr th:only-of-type {\n",
       "        vertical-align: middle;\n",
       "    }\n",
       "\n",
       "    .dataframe tbody tr th {\n",
       "        vertical-align: top;\n",
       "    }\n",
       "\n",
       "    .dataframe thead th {\n",
       "        text-align: right;\n",
       "    }\n",
       "</style>\n",
       "<table border=\"1\" class=\"dataframe\">\n",
       "  <thead>\n",
       "    <tr style=\"text-align: right;\">\n",
       "      <th></th>\n",
       "      <th>ECG_Raw</th>\n",
       "      <th>ECG_Clean</th>\n",
       "      <th>ECG_Rate</th>\n",
       "      <th>ECG_Quality</th>\n",
       "      <th>ECG_R_Peaks</th>\n",
       "      <th>ECG_P_Peaks</th>\n",
       "      <th>ECG_P_Onsets</th>\n",
       "      <th>ECG_P_Offsets</th>\n",
       "      <th>ECG_Q_Peaks</th>\n",
       "      <th>ECG_R_Onsets</th>\n",
       "      <th>ECG_R_Offsets</th>\n",
       "      <th>ECG_S_Peaks</th>\n",
       "      <th>ECG_T_Peaks</th>\n",
       "      <th>ECG_T_Onsets</th>\n",
       "      <th>ECG_T_Offsets</th>\n",
       "      <th>ECG_Phase_Atrial</th>\n",
       "      <th>ECG_Phase_Completion_Atrial</th>\n",
       "      <th>ECG_Phase_Ventricular</th>\n",
       "      <th>ECG_Phase_Completion_Ventricular</th>\n",
       "    </tr>\n",
       "  </thead>\n",
       "  <tbody>\n",
       "    <tr>\n",
       "      <th>0</th>\n",
       "      <td>32767.0</td>\n",
       "      <td>161.666702</td>\n",
       "      <td>90.044778</td>\n",
       "      <td>0.957125</td>\n",
       "      <td>0</td>\n",
       "      <td>0</td>\n",
       "      <td>0</td>\n",
       "      <td>0</td>\n",
       "      <td>0</td>\n",
       "      <td>0</td>\n",
       "      <td>0</td>\n",
       "      <td>0</td>\n",
       "      <td>0</td>\n",
       "      <td>0</td>\n",
       "      <td>0</td>\n",
       "      <td>NaN</td>\n",
       "      <td>0.0</td>\n",
       "      <td>NaN</td>\n",
       "      <td>0.0</td>\n",
       "    </tr>\n",
       "    <tr>\n",
       "      <th>1</th>\n",
       "      <td>32767.0</td>\n",
       "      <td>163.887632</td>\n",
       "      <td>90.044778</td>\n",
       "      <td>0.957125</td>\n",
       "      <td>0</td>\n",
       "      <td>0</td>\n",
       "      <td>0</td>\n",
       "      <td>0</td>\n",
       "      <td>0</td>\n",
       "      <td>0</td>\n",
       "      <td>0</td>\n",
       "      <td>0</td>\n",
       "      <td>0</td>\n",
       "      <td>0</td>\n",
       "      <td>0</td>\n",
       "      <td>NaN</td>\n",
       "      <td>0.0</td>\n",
       "      <td>NaN</td>\n",
       "      <td>0.0</td>\n",
       "    </tr>\n",
       "    <tr>\n",
       "      <th>2</th>\n",
       "      <td>32767.0</td>\n",
       "      <td>166.109231</td>\n",
       "      <td>90.044778</td>\n",
       "      <td>0.957125</td>\n",
       "      <td>0</td>\n",
       "      <td>0</td>\n",
       "      <td>0</td>\n",
       "      <td>0</td>\n",
       "      <td>0</td>\n",
       "      <td>0</td>\n",
       "      <td>0</td>\n",
       "      <td>0</td>\n",
       "      <td>0</td>\n",
       "      <td>0</td>\n",
       "      <td>0</td>\n",
       "      <td>NaN</td>\n",
       "      <td>0.0</td>\n",
       "      <td>NaN</td>\n",
       "      <td>0.0</td>\n",
       "    </tr>\n",
       "    <tr>\n",
       "      <th>3</th>\n",
       "      <td>32767.0</td>\n",
       "      <td>168.332132</td>\n",
       "      <td>90.044778</td>\n",
       "      <td>0.957125</td>\n",
       "      <td>0</td>\n",
       "      <td>0</td>\n",
       "      <td>0</td>\n",
       "      <td>0</td>\n",
       "      <td>0</td>\n",
       "      <td>0</td>\n",
       "      <td>0</td>\n",
       "      <td>0</td>\n",
       "      <td>0</td>\n",
       "      <td>0</td>\n",
       "      <td>0</td>\n",
       "      <td>NaN</td>\n",
       "      <td>0.0</td>\n",
       "      <td>NaN</td>\n",
       "      <td>0.0</td>\n",
       "    </tr>\n",
       "    <tr>\n",
       "      <th>4</th>\n",
       "      <td>32767.0</td>\n",
       "      <td>170.556937</td>\n",
       "      <td>90.044778</td>\n",
       "      <td>0.957125</td>\n",
       "      <td>0</td>\n",
       "      <td>0</td>\n",
       "      <td>0</td>\n",
       "      <td>0</td>\n",
       "      <td>0</td>\n",
       "      <td>0</td>\n",
       "      <td>0</td>\n",
       "      <td>0</td>\n",
       "      <td>0</td>\n",
       "      <td>0</td>\n",
       "      <td>0</td>\n",
       "      <td>NaN</td>\n",
       "      <td>0.0</td>\n",
       "      <td>NaN</td>\n",
       "      <td>0.0</td>\n",
       "    </tr>\n",
       "    <tr>\n",
       "      <th>...</th>\n",
       "      <td>...</td>\n",
       "      <td>...</td>\n",
       "      <td>...</td>\n",
       "      <td>...</td>\n",
       "      <td>...</td>\n",
       "      <td>...</td>\n",
       "      <td>...</td>\n",
       "      <td>...</td>\n",
       "      <td>...</td>\n",
       "      <td>...</td>\n",
       "      <td>...</td>\n",
       "      <td>...</td>\n",
       "      <td>...</td>\n",
       "      <td>...</td>\n",
       "      <td>...</td>\n",
       "      <td>...</td>\n",
       "      <td>...</td>\n",
       "      <td>...</td>\n",
       "      <td>...</td>\n",
       "    </tr>\n",
       "    <tr>\n",
       "      <th>2110995</th>\n",
       "      <td>-39.0</td>\n",
       "      <td>23.203583</td>\n",
       "      <td>110.497238</td>\n",
       "      <td>0.788466</td>\n",
       "      <td>0</td>\n",
       "      <td>0</td>\n",
       "      <td>0</td>\n",
       "      <td>0</td>\n",
       "      <td>0</td>\n",
       "      <td>0</td>\n",
       "      <td>0</td>\n",
       "      <td>0</td>\n",
       "      <td>0</td>\n",
       "      <td>0</td>\n",
       "      <td>0</td>\n",
       "      <td>NaN</td>\n",
       "      <td>0.0</td>\n",
       "      <td>NaN</td>\n",
       "      <td>0.0</td>\n",
       "    </tr>\n",
       "    <tr>\n",
       "      <th>2110996</th>\n",
       "      <td>-24.0</td>\n",
       "      <td>24.603899</td>\n",
       "      <td>110.497238</td>\n",
       "      <td>0.788466</td>\n",
       "      <td>0</td>\n",
       "      <td>0</td>\n",
       "      <td>0</td>\n",
       "      <td>0</td>\n",
       "      <td>0</td>\n",
       "      <td>0</td>\n",
       "      <td>0</td>\n",
       "      <td>0</td>\n",
       "      <td>0</td>\n",
       "      <td>0</td>\n",
       "      <td>0</td>\n",
       "      <td>NaN</td>\n",
       "      <td>0.0</td>\n",
       "      <td>NaN</td>\n",
       "      <td>0.0</td>\n",
       "    </tr>\n",
       "    <tr>\n",
       "      <th>2110997</th>\n",
       "      <td>1.0</td>\n",
       "      <td>25.980110</td>\n",
       "      <td>110.497238</td>\n",
       "      <td>0.788466</td>\n",
       "      <td>0</td>\n",
       "      <td>0</td>\n",
       "      <td>0</td>\n",
       "      <td>0</td>\n",
       "      <td>0</td>\n",
       "      <td>0</td>\n",
       "      <td>0</td>\n",
       "      <td>0</td>\n",
       "      <td>0</td>\n",
       "      <td>0</td>\n",
       "      <td>0</td>\n",
       "      <td>NaN</td>\n",
       "      <td>0.0</td>\n",
       "      <td>NaN</td>\n",
       "      <td>0.0</td>\n",
       "    </tr>\n",
       "    <tr>\n",
       "      <th>2110998</th>\n",
       "      <td>20.0</td>\n",
       "      <td>27.204435</td>\n",
       "      <td>110.497238</td>\n",
       "      <td>0.788466</td>\n",
       "      <td>0</td>\n",
       "      <td>0</td>\n",
       "      <td>0</td>\n",
       "      <td>0</td>\n",
       "      <td>0</td>\n",
       "      <td>0</td>\n",
       "      <td>0</td>\n",
       "      <td>0</td>\n",
       "      <td>0</td>\n",
       "      <td>0</td>\n",
       "      <td>0</td>\n",
       "      <td>NaN</td>\n",
       "      <td>0.0</td>\n",
       "      <td>NaN</td>\n",
       "      <td>0.0</td>\n",
       "    </tr>\n",
       "    <tr>\n",
       "      <th>2110999</th>\n",
       "      <td>1.0</td>\n",
       "      <td>28.259076</td>\n",
       "      <td>110.497238</td>\n",
       "      <td>0.788466</td>\n",
       "      <td>0</td>\n",
       "      <td>0</td>\n",
       "      <td>0</td>\n",
       "      <td>0</td>\n",
       "      <td>0</td>\n",
       "      <td>0</td>\n",
       "      <td>0</td>\n",
       "      <td>0</td>\n",
       "      <td>0</td>\n",
       "      <td>0</td>\n",
       "      <td>0</td>\n",
       "      <td>NaN</td>\n",
       "      <td>0.0</td>\n",
       "      <td>NaN</td>\n",
       "      <td>0.0</td>\n",
       "    </tr>\n",
       "  </tbody>\n",
       "</table>\n",
       "<p>2111000 rows × 19 columns</p>\n",
       "</div>"
      ],
      "text/plain": [
       "         ECG_Raw   ECG_Clean    ECG_Rate  ECG_Quality  ECG_R_Peaks  \\\n",
       "0        32767.0  161.666702   90.044778     0.957125            0   \n",
       "1        32767.0  163.887632   90.044778     0.957125            0   \n",
       "2        32767.0  166.109231   90.044778     0.957125            0   \n",
       "3        32767.0  168.332132   90.044778     0.957125            0   \n",
       "4        32767.0  170.556937   90.044778     0.957125            0   \n",
       "...          ...         ...         ...          ...          ...   \n",
       "2110995    -39.0   23.203583  110.497238     0.788466            0   \n",
       "2110996    -24.0   24.603899  110.497238     0.788466            0   \n",
       "2110997      1.0   25.980110  110.497238     0.788466            0   \n",
       "2110998     20.0   27.204435  110.497238     0.788466            0   \n",
       "2110999      1.0   28.259076  110.497238     0.788466            0   \n",
       "\n",
       "         ECG_P_Peaks  ECG_P_Onsets  ECG_P_Offsets  ECG_Q_Peaks  ECG_R_Onsets  \\\n",
       "0                  0             0              0            0             0   \n",
       "1                  0             0              0            0             0   \n",
       "2                  0             0              0            0             0   \n",
       "3                  0             0              0            0             0   \n",
       "4                  0             0              0            0             0   \n",
       "...              ...           ...            ...          ...           ...   \n",
       "2110995            0             0              0            0             0   \n",
       "2110996            0             0              0            0             0   \n",
       "2110997            0             0              0            0             0   \n",
       "2110998            0             0              0            0             0   \n",
       "2110999            0             0              0            0             0   \n",
       "\n",
       "         ECG_R_Offsets  ECG_S_Peaks  ECG_T_Peaks  ECG_T_Onsets  ECG_T_Offsets  \\\n",
       "0                    0            0            0             0              0   \n",
       "1                    0            0            0             0              0   \n",
       "2                    0            0            0             0              0   \n",
       "3                    0            0            0             0              0   \n",
       "4                    0            0            0             0              0   \n",
       "...                ...          ...          ...           ...            ...   \n",
       "2110995              0            0            0             0              0   \n",
       "2110996              0            0            0             0              0   \n",
       "2110997              0            0            0             0              0   \n",
       "2110998              0            0            0             0              0   \n",
       "2110999              0            0            0             0              0   \n",
       "\n",
       "         ECG_Phase_Atrial  ECG_Phase_Completion_Atrial  ECG_Phase_Ventricular  \\\n",
       "0                     NaN                          0.0                    NaN   \n",
       "1                     NaN                          0.0                    NaN   \n",
       "2                     NaN                          0.0                    NaN   \n",
       "3                     NaN                          0.0                    NaN   \n",
       "4                     NaN                          0.0                    NaN   \n",
       "...                   ...                          ...                    ...   \n",
       "2110995               NaN                          0.0                    NaN   \n",
       "2110996               NaN                          0.0                    NaN   \n",
       "2110997               NaN                          0.0                    NaN   \n",
       "2110998               NaN                          0.0                    NaN   \n",
       "2110999               NaN                          0.0                    NaN   \n",
       "\n",
       "         ECG_Phase_Completion_Ventricular  \n",
       "0                                     0.0  \n",
       "1                                     0.0  \n",
       "2                                     0.0  \n",
       "3                                     0.0  \n",
       "4                                     0.0  \n",
       "...                                   ...  \n",
       "2110995                               0.0  \n",
       "2110996                               0.0  \n",
       "2110997                               0.0  \n",
       "2110998                               0.0  \n",
       "2110999                               0.0  \n",
       "\n",
       "[2111000 rows x 19 columns]"
      ]
     },
     "execution_count": 1725,
     "metadata": {},
     "output_type": "execute_result"
    }
   ],
   "source": [
    "signals"
   ]
  },
  {
   "cell_type": "code",
   "execution_count": 1722,
   "id": "1730c981",
   "metadata": {},
   "outputs": [],
   "source": [
    "Standing=signals[:OG_indexes[0]]\n",
    "Walking=signals[OG_indexes[0]:OG_indexes[1]]\n",
    "Cognitive=signals[OG_indexes[1]:OG_indexes[2]]\n",
    "Uphill=signals[OG_indexes[2]:]"
   ]
  },
  {
   "cell_type": "code",
   "execution_count": 1724,
   "id": "00fec78a",
   "metadata": {},
   "outputs": [
    {
     "data": {
      "text/html": [
       "<div>\n",
       "<style scoped>\n",
       "    .dataframe tbody tr th:only-of-type {\n",
       "        vertical-align: middle;\n",
       "    }\n",
       "\n",
       "    .dataframe tbody tr th {\n",
       "        vertical-align: top;\n",
       "    }\n",
       "\n",
       "    .dataframe thead th {\n",
       "        text-align: right;\n",
       "    }\n",
       "</style>\n",
       "<table border=\"1\" class=\"dataframe\">\n",
       "  <thead>\n",
       "    <tr style=\"text-align: right;\">\n",
       "      <th></th>\n",
       "      <th>ECG_Raw</th>\n",
       "      <th>ECG_Clean</th>\n",
       "      <th>ECG_Rate</th>\n",
       "      <th>ECG_Quality</th>\n",
       "      <th>ECG_R_Peaks</th>\n",
       "      <th>ECG_P_Peaks</th>\n",
       "      <th>ECG_P_Onsets</th>\n",
       "      <th>ECG_P_Offsets</th>\n",
       "      <th>ECG_Q_Peaks</th>\n",
       "      <th>ECG_R_Onsets</th>\n",
       "      <th>ECG_R_Offsets</th>\n",
       "      <th>ECG_S_Peaks</th>\n",
       "      <th>ECG_T_Peaks</th>\n",
       "      <th>ECG_T_Onsets</th>\n",
       "      <th>ECG_T_Offsets</th>\n",
       "      <th>ECG_Phase_Atrial</th>\n",
       "      <th>ECG_Phase_Completion_Atrial</th>\n",
       "      <th>ECG_Phase_Ventricular</th>\n",
       "      <th>ECG_Phase_Completion_Ventricular</th>\n",
       "    </tr>\n",
       "  </thead>\n",
       "  <tbody>\n",
       "    <tr>\n",
       "      <th>1654000</th>\n",
       "      <td>-328.0</td>\n",
       "      <td>-109.119167</td>\n",
       "      <td>71.011812</td>\n",
       "      <td>0.996259</td>\n",
       "      <td>0</td>\n",
       "      <td>0</td>\n",
       "      <td>0</td>\n",
       "      <td>0</td>\n",
       "      <td>0</td>\n",
       "      <td>0</td>\n",
       "      <td>0</td>\n",
       "      <td>0</td>\n",
       "      <td>0</td>\n",
       "      <td>0</td>\n",
       "      <td>0</td>\n",
       "      <td>0.0</td>\n",
       "      <td>0.851093</td>\n",
       "      <td>0.0</td>\n",
       "      <td>0.610915</td>\n",
       "    </tr>\n",
       "    <tr>\n",
       "      <th>1654001</th>\n",
       "      <td>-340.0</td>\n",
       "      <td>-107.531212</td>\n",
       "      <td>71.011759</td>\n",
       "      <td>0.996254</td>\n",
       "      <td>0</td>\n",
       "      <td>0</td>\n",
       "      <td>0</td>\n",
       "      <td>0</td>\n",
       "      <td>0</td>\n",
       "      <td>0</td>\n",
       "      <td>0</td>\n",
       "      <td>0</td>\n",
       "      <td>0</td>\n",
       "      <td>0</td>\n",
       "      <td>0</td>\n",
       "      <td>0.0</td>\n",
       "      <td>0.852459</td>\n",
       "      <td>0.0</td>\n",
       "      <td>0.612676</td>\n",
       "    </tr>\n",
       "    <tr>\n",
       "      <th>1654002</th>\n",
       "      <td>-347.0</td>\n",
       "      <td>-106.045483</td>\n",
       "      <td>71.011707</td>\n",
       "      <td>0.996249</td>\n",
       "      <td>0</td>\n",
       "      <td>0</td>\n",
       "      <td>0</td>\n",
       "      <td>0</td>\n",
       "      <td>0</td>\n",
       "      <td>0</td>\n",
       "      <td>0</td>\n",
       "      <td>0</td>\n",
       "      <td>0</td>\n",
       "      <td>0</td>\n",
       "      <td>0</td>\n",
       "      <td>0.0</td>\n",
       "      <td>0.853825</td>\n",
       "      <td>0.0</td>\n",
       "      <td>0.614437</td>\n",
       "    </tr>\n",
       "    <tr>\n",
       "      <th>1654003</th>\n",
       "      <td>-346.0</td>\n",
       "      <td>-104.624482</td>\n",
       "      <td>71.011654</td>\n",
       "      <td>0.996245</td>\n",
       "      <td>0</td>\n",
       "      <td>0</td>\n",
       "      <td>0</td>\n",
       "      <td>0</td>\n",
       "      <td>0</td>\n",
       "      <td>0</td>\n",
       "      <td>0</td>\n",
       "      <td>0</td>\n",
       "      <td>0</td>\n",
       "      <td>0</td>\n",
       "      <td>0</td>\n",
       "      <td>0.0</td>\n",
       "      <td>0.855191</td>\n",
       "      <td>0.0</td>\n",
       "      <td>0.616197</td>\n",
       "    </tr>\n",
       "    <tr>\n",
       "      <th>1654004</th>\n",
       "      <td>-341.0</td>\n",
       "      <td>-103.208208</td>\n",
       "      <td>71.011602</td>\n",
       "      <td>0.996240</td>\n",
       "      <td>0</td>\n",
       "      <td>0</td>\n",
       "      <td>0</td>\n",
       "      <td>0</td>\n",
       "      <td>0</td>\n",
       "      <td>0</td>\n",
       "      <td>0</td>\n",
       "      <td>0</td>\n",
       "      <td>0</td>\n",
       "      <td>0</td>\n",
       "      <td>0</td>\n",
       "      <td>0.0</td>\n",
       "      <td>0.856557</td>\n",
       "      <td>0.0</td>\n",
       "      <td>0.617958</td>\n",
       "    </tr>\n",
       "    <tr>\n",
       "      <th>...</th>\n",
       "      <td>...</td>\n",
       "      <td>...</td>\n",
       "      <td>...</td>\n",
       "      <td>...</td>\n",
       "      <td>...</td>\n",
       "      <td>...</td>\n",
       "      <td>...</td>\n",
       "      <td>...</td>\n",
       "      <td>...</td>\n",
       "      <td>...</td>\n",
       "      <td>...</td>\n",
       "      <td>...</td>\n",
       "      <td>...</td>\n",
       "      <td>...</td>\n",
       "      <td>...</td>\n",
       "      <td>...</td>\n",
       "      <td>...</td>\n",
       "      <td>...</td>\n",
       "      <td>...</td>\n",
       "    </tr>\n",
       "    <tr>\n",
       "      <th>2110995</th>\n",
       "      <td>-39.0</td>\n",
       "      <td>23.203583</td>\n",
       "      <td>110.497238</td>\n",
       "      <td>0.788466</td>\n",
       "      <td>0</td>\n",
       "      <td>0</td>\n",
       "      <td>0</td>\n",
       "      <td>0</td>\n",
       "      <td>0</td>\n",
       "      <td>0</td>\n",
       "      <td>0</td>\n",
       "      <td>0</td>\n",
       "      <td>0</td>\n",
       "      <td>0</td>\n",
       "      <td>0</td>\n",
       "      <td>NaN</td>\n",
       "      <td>0.000000</td>\n",
       "      <td>NaN</td>\n",
       "      <td>0.000000</td>\n",
       "    </tr>\n",
       "    <tr>\n",
       "      <th>2110996</th>\n",
       "      <td>-24.0</td>\n",
       "      <td>24.603899</td>\n",
       "      <td>110.497238</td>\n",
       "      <td>0.788466</td>\n",
       "      <td>0</td>\n",
       "      <td>0</td>\n",
       "      <td>0</td>\n",
       "      <td>0</td>\n",
       "      <td>0</td>\n",
       "      <td>0</td>\n",
       "      <td>0</td>\n",
       "      <td>0</td>\n",
       "      <td>0</td>\n",
       "      <td>0</td>\n",
       "      <td>0</td>\n",
       "      <td>NaN</td>\n",
       "      <td>0.000000</td>\n",
       "      <td>NaN</td>\n",
       "      <td>0.000000</td>\n",
       "    </tr>\n",
       "    <tr>\n",
       "      <th>2110997</th>\n",
       "      <td>1.0</td>\n",
       "      <td>25.980110</td>\n",
       "      <td>110.497238</td>\n",
       "      <td>0.788466</td>\n",
       "      <td>0</td>\n",
       "      <td>0</td>\n",
       "      <td>0</td>\n",
       "      <td>0</td>\n",
       "      <td>0</td>\n",
       "      <td>0</td>\n",
       "      <td>0</td>\n",
       "      <td>0</td>\n",
       "      <td>0</td>\n",
       "      <td>0</td>\n",
       "      <td>0</td>\n",
       "      <td>NaN</td>\n",
       "      <td>0.000000</td>\n",
       "      <td>NaN</td>\n",
       "      <td>0.000000</td>\n",
       "    </tr>\n",
       "    <tr>\n",
       "      <th>2110998</th>\n",
       "      <td>20.0</td>\n",
       "      <td>27.204435</td>\n",
       "      <td>110.497238</td>\n",
       "      <td>0.788466</td>\n",
       "      <td>0</td>\n",
       "      <td>0</td>\n",
       "      <td>0</td>\n",
       "      <td>0</td>\n",
       "      <td>0</td>\n",
       "      <td>0</td>\n",
       "      <td>0</td>\n",
       "      <td>0</td>\n",
       "      <td>0</td>\n",
       "      <td>0</td>\n",
       "      <td>0</td>\n",
       "      <td>NaN</td>\n",
       "      <td>0.000000</td>\n",
       "      <td>NaN</td>\n",
       "      <td>0.000000</td>\n",
       "    </tr>\n",
       "    <tr>\n",
       "      <th>2110999</th>\n",
       "      <td>1.0</td>\n",
       "      <td>28.259076</td>\n",
       "      <td>110.497238</td>\n",
       "      <td>0.788466</td>\n",
       "      <td>0</td>\n",
       "      <td>0</td>\n",
       "      <td>0</td>\n",
       "      <td>0</td>\n",
       "      <td>0</td>\n",
       "      <td>0</td>\n",
       "      <td>0</td>\n",
       "      <td>0</td>\n",
       "      <td>0</td>\n",
       "      <td>0</td>\n",
       "      <td>0</td>\n",
       "      <td>NaN</td>\n",
       "      <td>0.000000</td>\n",
       "      <td>NaN</td>\n",
       "      <td>0.000000</td>\n",
       "    </tr>\n",
       "  </tbody>\n",
       "</table>\n",
       "<p>457000 rows × 19 columns</p>\n",
       "</div>"
      ],
      "text/plain": [
       "         ECG_Raw   ECG_Clean    ECG_Rate  ECG_Quality  ECG_R_Peaks  \\\n",
       "1654000   -328.0 -109.119167   71.011812     0.996259            0   \n",
       "1654001   -340.0 -107.531212   71.011759     0.996254            0   \n",
       "1654002   -347.0 -106.045483   71.011707     0.996249            0   \n",
       "1654003   -346.0 -104.624482   71.011654     0.996245            0   \n",
       "1654004   -341.0 -103.208208   71.011602     0.996240            0   \n",
       "...          ...         ...         ...          ...          ...   \n",
       "2110995    -39.0   23.203583  110.497238     0.788466            0   \n",
       "2110996    -24.0   24.603899  110.497238     0.788466            0   \n",
       "2110997      1.0   25.980110  110.497238     0.788466            0   \n",
       "2110998     20.0   27.204435  110.497238     0.788466            0   \n",
       "2110999      1.0   28.259076  110.497238     0.788466            0   \n",
       "\n",
       "         ECG_P_Peaks  ECG_P_Onsets  ECG_P_Offsets  ECG_Q_Peaks  ECG_R_Onsets  \\\n",
       "1654000            0             0              0            0             0   \n",
       "1654001            0             0              0            0             0   \n",
       "1654002            0             0              0            0             0   \n",
       "1654003            0             0              0            0             0   \n",
       "1654004            0             0              0            0             0   \n",
       "...              ...           ...            ...          ...           ...   \n",
       "2110995            0             0              0            0             0   \n",
       "2110996            0             0              0            0             0   \n",
       "2110997            0             0              0            0             0   \n",
       "2110998            0             0              0            0             0   \n",
       "2110999            0             0              0            0             0   \n",
       "\n",
       "         ECG_R_Offsets  ECG_S_Peaks  ECG_T_Peaks  ECG_T_Onsets  ECG_T_Offsets  \\\n",
       "1654000              0            0            0             0              0   \n",
       "1654001              0            0            0             0              0   \n",
       "1654002              0            0            0             0              0   \n",
       "1654003              0            0            0             0              0   \n",
       "1654004              0            0            0             0              0   \n",
       "...                ...          ...          ...           ...            ...   \n",
       "2110995              0            0            0             0              0   \n",
       "2110996              0            0            0             0              0   \n",
       "2110997              0            0            0             0              0   \n",
       "2110998              0            0            0             0              0   \n",
       "2110999              0            0            0             0              0   \n",
       "\n",
       "         ECG_Phase_Atrial  ECG_Phase_Completion_Atrial  ECG_Phase_Ventricular  \\\n",
       "1654000               0.0                     0.851093                    0.0   \n",
       "1654001               0.0                     0.852459                    0.0   \n",
       "1654002               0.0                     0.853825                    0.0   \n",
       "1654003               0.0                     0.855191                    0.0   \n",
       "1654004               0.0                     0.856557                    0.0   \n",
       "...                   ...                          ...                    ...   \n",
       "2110995               NaN                     0.000000                    NaN   \n",
       "2110996               NaN                     0.000000                    NaN   \n",
       "2110997               NaN                     0.000000                    NaN   \n",
       "2110998               NaN                     0.000000                    NaN   \n",
       "2110999               NaN                     0.000000                    NaN   \n",
       "\n",
       "         ECG_Phase_Completion_Ventricular  \n",
       "1654000                          0.610915  \n",
       "1654001                          0.612676  \n",
       "1654002                          0.614437  \n",
       "1654003                          0.616197  \n",
       "1654004                          0.617958  \n",
       "...                                   ...  \n",
       "2110995                          0.000000  \n",
       "2110996                          0.000000  \n",
       "2110997                          0.000000  \n",
       "2110998                          0.000000  \n",
       "2110999                          0.000000  \n",
       "\n",
       "[457000 rows x 19 columns]"
      ]
     },
     "execution_count": 1724,
     "metadata": {},
     "output_type": "execute_result"
    }
   ],
   "source": [
    "Uphill"
   ]
  },
  {
   "cell_type": "code",
   "execution_count": null,
   "id": "79ee4a78",
   "metadata": {},
   "outputs": [],
   "source": []
  }
 ],
 "metadata": {
  "kernelspec": {
   "display_name": "Python 3 (ipykernel)",
   "language": "python",
   "name": "python3"
  },
  "language_info": {
   "codemirror_mode": {
    "name": "ipython",
    "version": 3
   },
   "file_extension": ".py",
   "mimetype": "text/x-python",
   "name": "python",
   "nbconvert_exporter": "python",
   "pygments_lexer": "ipython3",
   "version": "3.10.8"
  }
 },
 "nbformat": 4,
 "nbformat_minor": 5
}
